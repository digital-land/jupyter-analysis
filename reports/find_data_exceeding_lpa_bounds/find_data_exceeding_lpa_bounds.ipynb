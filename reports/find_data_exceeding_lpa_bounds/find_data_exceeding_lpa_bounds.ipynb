{
 "cells": [
  {
   "cell_type": "markdown",
   "id": "cb5299c6",
   "metadata": {},
   "source": [
    "# LPA bounds exceeded report\n",
    "**Author**:  Greg Slater <br>\n",
    "**Date**:  12 April 2024 <br>\n",
    "**Data Scope**: article-4-direction, listed-building, conservation-area, and tree-preservation-order collections <br>\n",
    "**Report Type**: Recurring weekly <br>\n",
    "\n",
    "## Purpose\n",
    "This report identifies data which has been submitted by an Local Planning Authority that is outside of the LPA boundary."
   ]
  },
  {
   "cell_type": "code",
   "execution_count": null,
   "id": "3c1738e4",
   "metadata": {},
   "outputs": [],
   "source": [
    "import pandas as pd\n",
    "import geopandas as gpd\n",
    "import os\n",
    "import urllib\n",
    "\n",
    "pd.set_option(\"display.max_rows\", 100)\n"
   ]
  },
  {
   "cell_type": "code",
   "execution_count": null,
   "id": "022dabbb",
   "metadata": {},
   "outputs": [],
   "source": [
    "# if running on Colab, uncomment and run this line below too:\n",
    "# !pip install mapclassify"
   ]
  },
  {
   "cell_type": "code",
   "execution_count": null,
   "id": "faa03e39",
   "metadata": {},
   "outputs": [],
   "source": [
    "# global variables\n",
    "data_dir = \"../../data/reports/data_exceeding_lpa_bounds/\"\n",
    "os.makedirs(data_dir, exist_ok=True)\n",
    "\n",
    "download = input(\"Do you want to download the result? (yes/no): \")\n",
    "show_maps = input(\"Do you want to display entities outside LPA bounds on interactive maps? (yes/no): \")"
   ]
  },
  {
   "cell_type": "markdown",
   "id": "730fb6a7",
   "metadata": {},
   "source": [
    "### Functions"
   ]
  },
  {
   "cell_type": "code",
   "execution_count": null,
   "id": "45bf7627",
   "metadata": {},
   "outputs": [],
   "source": [
    "import pandas as pd\n",
    "import geopandas as gpd\n",
    "import urllib\n",
    "\n",
    "\n",
    "def nrow(df):\n",
    "    return print(f\"No. of records in df: {len(df):,}\")\n",
    "\n",
    "def get_all_organisations():\n",
    "    params = urllib.parse.urlencode({\n",
    "        \"sql\": f\"\"\"\n",
    "        select organisation, name as organisation_name, entity as organisation_entity, local_planning_authority as LPACD, statistical_geography\n",
    "        from organisation\n",
    "        \"\"\",\n",
    "        \"_size\": \"max\"\n",
    "        })\n",
    "    url = f\"https://datasette.planning.data.gov.uk/digital-land.csv?{params}\"\n",
    "    df = pd.read_csv(url)\n",
    "    return df\n",
    "\n",
    "\n",
    "def get_provision_orgs():\n",
    "    params = urllib.parse.urlencode({\n",
    "        \"sql\": f\"\"\"\n",
    "        select distinct organisation, cohort as provision_cohort\n",
    "        from provision\n",
    "        where provision_reason = \"expected\"\n",
    "        \"\"\",\n",
    "        \"_size\": \"max\"\n",
    "        })\n",
    "    url = f\"https://datasette.planning.data.gov.uk/digital-land.csv?{params}\"\n",
    "    df = pd.read_csv(url)\n",
    "    return df\n",
    "\n",
    "\n",
    "# function to grab geojson from pdp, replace hyphens in field names and transform to ESPG:27700\n",
    "def get_pdp_geo_dataset(dataset, underscore_cols=True, crs_out=27700):\n",
    "\n",
    "    url = f\"https://files.planning.data.gov.uk/dataset/{dataset}.geojson\"\n",
    "    gdf = gpd.read_file(url)\n",
    "\n",
    "    if underscore_cols:\n",
    "        gdf.columns = [x.replace(\"-\", \"_\") for x in gdf.columns]\n",
    "\n",
    "    try:\n",
    "        gdf[\"organisation_entity\"] = gdf[\"organisation_entity\"].astype(int)\n",
    "\n",
    "    except:\n",
    "        print(\"issue with organisation_entity column\") \n",
    "\n",
    "    gdf.set_crs(epsg=4326, inplace=True)\n",
    "    gdf.to_crs(epsg=crs_out, inplace=True)\n",
    "\n",
    "    return gdf\n",
    "\n",
    "\n",
    "# functions to check a table of geometries and return the ones that don't intersect with a border\n",
    "def find_geos_beyond_border(geos, border):\n",
    "\n",
    "    # filter table of geos to those which are outside of a single border\n",
    "    geos_beyond = geos.loc[\n",
    "        geos.geometry.disjoint(\n",
    "            border.iloc[0].geometry)\n",
    "        ]\n",
    "    \n",
    "    return geos_beyond\n",
    "\n",
    "# given a geometry gdf (which has a LAD/LPA code field) and a boundary gdf, and the LPA/LAD boundary type\n",
    "# loop and check geometries against the boundary they should be in\n",
    "def check_against_border(geos_gdf, border_gdf, code_type):\n",
    "\n",
    "    # list of the area codes in input geos_gdf to loop through\n",
    "    code_list = geos_gdf[code_type][geos_gdf[code_type].notnull()].drop_duplicates().to_list()\n",
    "\n",
    "    # check geos in each area code against area border\n",
    "    results = [\n",
    "       find_geos_beyond_border(\n",
    "        geos_gdf[geos_gdf[code_type] == code], \n",
    "        border_gdf.loc[border_gdf[code_type] == code]\n",
    "    ) for code in code_list \n",
    "    ]\n",
    "\n",
    "    return pd.concat(results)\n",
    "\n",
    "\n",
    "def check_LPA_codes_valid(pdp_entity_gdf):\n",
    "\n",
    "    join_check = pdp_entity_gdf[[\"LPACD\", \"organisation_name\"]].drop_duplicates().merge(\n",
    "        LPA_boundary_gdf[[\"LPACD\"]],\n",
    "        how = \"left\",\n",
    "        on = \"LPACD\",\n",
    "        indicator = True\n",
    "    )\n",
    "\n",
    "    return join_check[join_check[\"_merge\"] == \"left_only\"][[\"LPACD\", \"organisation_name\"]]\n",
    "\n",
    "\n",
    "def map_error_geos(pdp_entity_gdf):\n",
    "\n",
    "    map_entities = pdp_entity_gdf.explore(\n",
    "    color = \"red\",\n",
    "    tooltip = False,\n",
    "    popup = [\"organisation_name\", \"entity\", \"name\", \"reference\"],\n",
    "    tiles = \"CartoDB positron\",  # use \"CartoDB positron\" tiles\n",
    "    # highlight = False,\n",
    "    style_kwds = {\n",
    "    \"fillOpacity\" : \"0.1\"\n",
    "    })\n",
    "\n",
    "    map_fin = LPA_boundary_gdf[LPA_boundary_gdf[\"LPACD\"].isin(pdp_entity_gdf[\"LPACD\"])].explore(\n",
    "        m = map_entities,\n",
    "        color = \"blue\",\n",
    "        tooltip = False,\n",
    "        popup = [\"name\", \"LPACD\"],\n",
    "            style_kwds = {\n",
    "            \"fillOpacity\" : \"0\"\n",
    "            })\n",
    "    \n",
    "    return map_fin"
   ]
  },
  {
   "cell_type": "markdown",
   "id": "93c4f722",
   "metadata": {},
   "source": [
    "### Data import"
   ]
  },
  {
   "cell_type": "code",
   "execution_count": null,
   "id": "fdd06fce",
   "metadata": {},
   "outputs": [],
   "source": [
    "orgs_prov = get_provision_orgs()\n",
    "# orgs_prov.head()"
   ]
  },
  {
   "cell_type": "code",
   "execution_count": null,
   "id": "42f4a672",
   "metadata": {},
   "outputs": [],
   "source": [
    "# get org data from datasette\n",
    "lookup_org = get_all_organisations()\n",
    "\n",
    "# split out org type and join on LPA codes from LAD to LPA lookup\n",
    "lookup_org[\"organisation_type\"] = lookup_org[\"organisation\"].apply(lambda x: x.split(\":\")[0])\n",
    "lookup_org = lookup_org.merge(orgs_prov, how = \"left\", on = \"organisation\")\n",
    "\n",
    "nrow(lookup_org)\n",
    "lookup_org.head()"
   ]
  },
  {
   "cell_type": "code",
   "execution_count": null,
   "id": "67fba027",
   "metadata": {},
   "outputs": [],
   "source": [
    "LPA_boundary_gdf = get_pdp_geo_dataset(\"local-planning-authority\")[[\"reference\", \"name\", \"geometry\"]]\n",
    "\n",
    "LPA_boundary_gdf.rename(columns={\"reference\":\"LPACD\"}, inplace=True)\n",
    "\n",
    "nrow(LPA_boundary_gdf)\n",
    "LPA_boundary_gdf.head()"
   ]
  },
  {
   "cell_type": "code",
   "execution_count": null,
   "id": "191e6cce",
   "metadata": {},
   "outputs": [],
   "source": [
    "# quick counts and cross-checks between LPA codes from org table and LPA boundaries\n",
    "pdp_la_orgs = lookup_org[lookup_org[\"organisation_type\"] == \"local-authority\"]\n",
    "\n",
    "LPA_valid = pdp_la_orgs.merge(\n",
    "    LPA_boundary_gdf,\n",
    "    how = \"inner\",\n",
    "    on = \"LPACD\"\n",
    ")\n",
    "\n",
    "print(f\"n local-authority orgs in PDP organisation entity table: {len(pdp_la_orgs)}\")\n",
    "print(f\"n local authorities in pdp local-authority-district dataset : {len(LPA_boundary_gdf)}\")\n",
    "print(f\"n in both (by LPA code): {len(LPA_valid)}\")\n"
   ]
  },
  {
   "cell_type": "markdown",
   "id": "7d294572",
   "metadata": {},
   "source": [
    "# Checking expected bounds of data  "
   ]
  },
  {
   "cell_type": "markdown",
   "id": "a9d87e4d",
   "metadata": {},
   "source": [
    "## Conservation areas"
   ]
  },
  {
   "cell_type": "code",
   "execution_count": null,
   "id": "39a8674b",
   "metadata": {},
   "outputs": [],
   "source": [
    "# download CA dataset\n",
    "ca_gdf = get_pdp_geo_dataset(\"conservation-area\")\n",
    "\n",
    "nrow(ca_gdf)\n",
    "\n",
    "ca_gdf = ca_gdf.merge(\n",
    "    lookup_org[[\"organisation_name\", \"organisation_type\", \"organisation_entity\", \"LPACD\"]], \n",
    "    how = \"left\",\n",
    "    on = \"organisation_entity\")\n",
    "\n",
    "nrow(ca_gdf)\n",
    "\n",
    "ca_missing_codes = check_LPA_codes_valid(ca_gdf)\n",
    "\n",
    "if len(ca_missing_codes) > 0:\n",
    "    print(\"\")\n",
    "    print('''\n",
    "          Warning: the following LPAs in the dataset are missing LPA codes, or have a code which isn't in the boundary dataset.\n",
    "          Data for these areas will not be included in the checks''')\n",
    "    print(\"\")\n",
    "    print(ca_missing_codes)\n"
   ]
  },
  {
   "cell_type": "code",
   "execution_count": null,
   "id": "9d70e54b",
   "metadata": {},
   "outputs": [],
   "source": [
    "# check against LPA\n",
    "ca_beyond_LPA = check_against_border(ca_gdf, LPA_boundary_gdf, \"LPACD\")\n",
    "\n",
    "if download.lower() == \"yes\":\n",
    "    path = os.path.join(data_dir, \"boundary-check_conservation-area_LPA.csv\")\n",
    "    ca_beyond_LPA.to_csv(path, index=False)\n",
    "    print(f\"Results saved as '{path}'\")\n",
    "\n",
    "print(\"\")\n",
    "print(f\"No. of entities outside of their expected boundary: {len(ca_beyond_LPA):,}\")\n",
    "ca_beyond_LPA.groupby([\"LPACD\", \"organisation_entity\", \"organisation_name\"]).size().sort_values(ascending=False).reset_index(name = \"count\")"
   ]
  },
  {
   "cell_type": "code",
   "execution_count": null,
   "id": "2cdc3748",
   "metadata": {},
   "outputs": [],
   "source": [
    "if show_maps.lower() == \"yes\": \n",
    "    display(map_error_geos(ca_beyond_LPA))"
   ]
  },
  {
   "cell_type": "markdown",
   "id": "5fa4f456",
   "metadata": {},
   "source": [
    "## Listed Building Outlines"
   ]
  },
  {
   "cell_type": "code",
   "execution_count": null,
   "id": "280d2b8d",
   "metadata": {},
   "outputs": [],
   "source": [
    "# download LB dataset\n",
    "lb_gdf = get_pdp_geo_dataset(\"listed-building-outline\")\n",
    "\n",
    "nrow(lb_gdf)\n",
    "\n",
    "lb_gdf = lb_gdf.merge(\n",
    "    lookup_org[[\"organisation_name\", \"organisation_type\", \"organisation_entity\", \"LPACD\"]], \n",
    "    how = \"left\",\n",
    "    on = \"organisation_entity\")\n",
    "\n",
    "nrow(lb_gdf)\n",
    "\n",
    "lb_missing_codes = check_LPA_codes_valid(lb_gdf)\n",
    "\n",
    "if len(lb_missing_codes) > 0:\n",
    "    print(\"\")\n",
    "    print('''\n",
    "          Warning: the following LPAs in the dataset are missing LPA codes, or have a code which isn't in the boundary dataset.\n",
    "          Data for these areas will not be included in the checks''')\n",
    "    print(\"\")\n",
    "    print(lb_missing_codes)\n"
   ]
  },
  {
   "cell_type": "code",
   "execution_count": null,
   "id": "9f19fec1",
   "metadata": {},
   "outputs": [],
   "source": [
    "# check against LPA\n",
    "lb_beyond_LPA = check_against_border(lb_gdf, LPA_boundary_gdf, \"LPACD\")\n",
    "\n",
    "if download.lower() == \"yes\":\n",
    "    path = os.path.join(data_dir, \"boundary-check_listed-building-outline_LPA.csv\")\n",
    "    lb_beyond_LPA.to_csv(path, index=False)\n",
    "    print(f\"Results saved as '{path}'\")\n",
    "\n",
    "print(\"\")\n",
    "print(f\"No. of entities outside of their expected boundary: {len(lb_beyond_LPA):,}\")\n",
    "lb_beyond_LPA.groupby([\"LPACD\", \"organisation_entity\", \"organisation_name\"]).size().sort_values(ascending=False).reset_index(name = \"count\")"
   ]
  },
  {
   "cell_type": "code",
   "execution_count": null,
   "id": "d1ef401c",
   "metadata": {},
   "outputs": [],
   "source": [
    "if show_maps.lower() == \"yes\": \n",
    "    display(map_error_geos(lb_beyond_LPA))"
   ]
  },
  {
   "cell_type": "markdown",
   "id": "a3ce20ed",
   "metadata": {},
   "source": [
    "## Article 4 direction areas"
   ]
  },
  {
   "cell_type": "code",
   "execution_count": null,
   "id": "a34102d6",
   "metadata": {},
   "outputs": [],
   "source": [
    "# download A4D dataset\n",
    "a4_gdf = get_pdp_geo_dataset(\"article-4-direction-area\")\n",
    "\n",
    "nrow(a4_gdf)\n",
    "\n",
    "a4_gdf = a4_gdf.merge(\n",
    "    lookup_org[[\"organisation_name\", \"organisation_type\", \"organisation_entity\", \"LPACD\"]], \n",
    "    how = \"left\",\n",
    "    on = \"organisation_entity\")\n",
    "\n",
    "nrow(a4_gdf)\n",
    "\n",
    "a4_missing_codes = check_LPA_codes_valid(a4_gdf)\n",
    "\n",
    "if len(a4_missing_codes) > 0:\n",
    "    print(\"\")\n",
    "    print('''\n",
    "          Warning: the following LPAs in the dataset are missing LPA codes, or have a code which isn't in the boundary dataset.\n",
    "          Data for these areas will not be included in the checks''')\n",
    "    print(\"\")\n",
    "    print(a4_missing_codes)\n"
   ]
  },
  {
   "cell_type": "code",
   "execution_count": null,
   "id": "18aa1a83",
   "metadata": {},
   "outputs": [],
   "source": [
    "# check against LPA\n",
    "a4_beyond_LPA = check_against_border(a4_gdf, LPA_boundary_gdf, \"LPACD\")\n",
    "\n",
    "if download.lower() == \"yes\":\n",
    "    path = os.path.join(data_dir, \"boundary-check_article-4-direction-area_LPA.csv\")\n",
    "    a4_beyond_LPA.to_csv(path, index=False)\n",
    "    print(f\"Results saved as '{path}'\")\n",
    "\n",
    "print(\"\")\n",
    "print(f\"No. of entities outside of their expected boundary: {len(a4_beyond_LPA):,}\")\n",
    "a4_beyond_LPA.groupby([\"LPACD\", \"organisation_entity\", \"organisation_name\"]).size().sort_values(ascending=False).reset_index(name = \"count\")"
   ]
  },
  {
   "cell_type": "code",
   "execution_count": null,
   "id": "33814a35",
   "metadata": {},
   "outputs": [],
   "source": [
    "if show_maps.lower() == \"yes\": \n",
    "    display(map_error_geos(a4_beyond_LPA))"
   ]
  },
  {
   "cell_type": "markdown",
   "id": "b05c8310",
   "metadata": {},
   "source": [
    "## Trees"
   ]
  },
  {
   "cell_type": "code",
   "execution_count": null,
   "id": "39b8359b",
   "metadata": {},
   "outputs": [],
   "source": [
    "# download tree dataset\n",
    "tree_gdf = get_pdp_geo_dataset(\"tree\")\n",
    "\n",
    "nrow(tree_gdf)\n",
    "\n",
    "tree_gdf = tree_gdf.merge(\n",
    "    lookup_org[[\"organisation_name\", \"organisation_type\", \"organisation_entity\", \"LPACD\"]], \n",
    "    how = \"left\",\n",
    "    on = \"organisation_entity\")\n",
    "\n",
    "nrow(tree_gdf)\n",
    "\n",
    "tree_missing_codes = check_LPA_codes_valid(tree_gdf)\n",
    "\n",
    "if len(tree_missing_codes) > 0:\n",
    "    print(\"\")\n",
    "    print('''\n",
    "          Warning: the following LPAs in the dataset are missing LPA codes, or have a code which isn't in the boundary dataset.\n",
    "          Data for these areas will not be included in the checks''')\n",
    "    print(\"\")\n",
    "    print(tree_missing_codes)\n"
   ]
  },
  {
   "cell_type": "code",
   "execution_count": null,
   "id": "c7a1623a",
   "metadata": {},
   "outputs": [],
   "source": [
    "# check against LPA\n",
    "tree_beyond_LPA = check_against_border(tree_gdf, LPA_boundary_gdf, \"LPACD\")\n",
    "\n",
    "if download.lower() == \"yes\":\n",
    "    path = os.path.join(data_dir, \"boundary-check_tree_LPA.csv\")\n",
    "    tree_beyond_LPA.to_csv(path, index=False)\n",
    "    print(f\"Results saved as '{path}'\")\n",
    "\n",
    "print(\"\")\n",
    "print(f\"No. of entities outside of their expected boundary: {len(tree_beyond_LPA):,}\")\n",
    "tree_beyond_LPA.groupby([\"LPACD\", \"organisation_entity\", \"organisation_name\"]).size().sort_values(ascending=False).reset_index(name = \"count\")"
   ]
  },
  {
   "cell_type": "code",
   "execution_count": null,
   "id": "6191ff44",
   "metadata": {},
   "outputs": [],
   "source": [
    "if show_maps.lower() == \"yes\": \n",
    "    display(map_error_geos(tree_beyond_LPA))"
   ]
  },
  {
   "cell_type": "markdown",
   "id": "2e62423b",
   "metadata": {},
   "source": [
    "## Tree preservation zones"
   ]
  },
  {
   "cell_type": "code",
   "execution_count": null,
   "id": "2a6dde5d",
   "metadata": {},
   "outputs": [],
   "source": [
    "# download tree zone dataset\n",
    "tpz_gdf = get_pdp_geo_dataset(\"tree-preservation-zone\")\n",
    "\n",
    "nrow(tpz_gdf)\n",
    "\n",
    "tpz_gdf = tpz_gdf.merge(\n",
    "    lookup_org[[\"organisation_name\", \"organisation_type\", \"organisation_entity\", \"LPACD\"]], \n",
    "    how = \"left\",\n",
    "    on = \"organisation_entity\")\n",
    "\n",
    "nrow(tpz_gdf)\n",
    "\n",
    "tpz_missing_codes = check_LPA_codes_valid(tpz_gdf)\n",
    "\n",
    "if len(tpz_missing_codes) > 0:\n",
    "    print(\"\")\n",
    "    print('''\n",
    "          Warning: the following LPAs in the dataset are missing LPA codes, or have a code which isn't in the boundary dataset.\n",
    "          Data for these areas will not be included in the checks''')\n",
    "    print(\"\")\n",
    "    print(tpz_missing_codes)\n"
   ]
  },
  {
   "cell_type": "code",
   "execution_count": null,
   "id": "71a76ac3",
   "metadata": {},
   "outputs": [],
   "source": [
    "# check against LPA\n",
    "tpz_beyond_LPA = check_against_border(tpz_gdf, LPA_boundary_gdf, \"LPACD\")\n",
    "\n",
    "if download.lower() == \"yes\":\n",
    "    path = os.path.join(data_dir, \"boundary-check_tree-preservation-zone_LPA.csv\")\n",
    "    tpz_beyond_LPA.to_csv(path, index=False)\n",
    "    print(f\"Results saved as '{path}'\")\n",
    "\n",
    "print(\"\")\n",
    "print(f\"No. of entities outside of their expected boundary: {len(tpz_beyond_LPA):,}\")\n",
    "tpz_beyond_LPA.groupby([\"LPACD\", \"organisation_entity\", \"organisation_name\"]).size().sort_values(ascending=False).reset_index(name = \"count\")"
   ]
  },
  {
   "cell_type": "code",
   "execution_count": null,
   "id": "7d4f7131",
   "metadata": {},
   "outputs": [],
   "source": [
    "if show_maps.lower() == \"yes\": \n",
    "    display(map_error_geos(tpz_beyond_LPA))"
   ]
  },
  {
   "cell_type": "markdown",
   "id": "371f3bfb",
   "metadata": {},
   "source": [
    "## Brownfield Land"
   ]
  },
  {
   "cell_type": "code",
   "execution_count": null,
   "id": "96b6c9cd",
   "metadata": {},
   "outputs": [],
   "source": [
    "# download bf land dataset\n",
    "bf_gdf = get_pdp_geo_dataset(\"brownfield-land\")\n",
    "bf_gdf[\"organisation_entity\"] = pd.to_numeric(bf_gdf[\"organisation_entity\"]).fillna(0).astype(int)\n",
    "nrow(bf_gdf)\n",
    "\n",
    "bf_gdf = bf_gdf.merge(\n",
    "    lookup_org[[\"organisation_name\", \"organisation_type\", \"organisation_entity\", \"LPACD\"]], \n",
    "    how = \"left\",\n",
    "    on = \"organisation_entity\")\n",
    "\n",
    "nrow(bf_gdf)\n",
    "\n",
    "bf_missing_codes = check_LPA_codes_valid(bf_gdf)\n",
    "\n",
    "if len(bf_missing_codes) > 0:\n",
    "    print(\"\")\n",
    "    print('''\n",
    "          Warning: the following LPAs in the dataset are missing LPA codes, or have a code which isn't in the boundary dataset.\n",
    "          Data for these areas will not be included in the LPA boundary checks''')\n",
    "    print(\"\")\n",
    "    print(bf_missing_codes)\n"
   ]
  },
  {
   "cell_type": "code",
   "execution_count": null,
   "id": "0e28d5ea",
   "metadata": {},
   "outputs": [],
   "source": [
    "bf_missing_codes"
   ]
  },
  {
   "cell_type": "code",
   "execution_count": null,
   "id": "30028d0e",
   "metadata": {},
   "outputs": [],
   "source": [
    "# check against LPA\n",
    "bf_beyond_LPA = check_against_border(bf_gdf, LPA_boundary_gdf, \"LPACD\")\n",
    "\n",
    "# flag invalid geometries\n",
    "bf_beyond_LPA[\"geometry_valid\"] = bf_beyond_LPA[\"geometry\"].is_valid\n",
    "\n",
    "print(\"Number of errors found where geometry is invalid: \")\n",
    "print(len(bf_beyond_LPA[bf_beyond_LPA[\"geometry_valid\"] == False]))\n",
    "\n",
    "if download.lower() == \"yes\":\n",
    "    path = os.path.join(data_dir, \"boundary-check_brownfield-land_LPA.csv\")\n",
    "    bf_beyond_LPA.to_csv(path, index=False)\n",
    "    print(f\"Results saved as '{path}'\")\n",
    "\n",
    "bad_geoms = bf_beyond_LPA[bf_beyond_LPA[\"geometry_valid\"] == False]\n",
    "\n",
    "print(\"\")\n",
    "print(f\"No. of entities outside of their expected boundary: {len(bf_beyond_LPA):,}\")\n",
    "print(f\"No. of entities outside of their expected boundary (with invalid geometries): {len(bad_geoms):,}\")\n",
    "bf_beyond_LPA.groupby([\"LPACD\", \"organisation_entity\", \"organisation_name\", \"geometry_valid\"]).size().sort_values(ascending=False).reset_index(name = \"count\")"
   ]
  },
  {
   "cell_type": "code",
   "execution_count": null,
   "id": "6e5b8147",
   "metadata": {},
   "outputs": [],
   "source": [
    "# note - map below only displays entities which have valid geometries\n",
    "\n",
    "if show_maps.lower() == \"yes\": \n",
    "    display(map_error_geos(bf_beyond_LPA[bf_beyond_LPA[\"geometry\"].is_valid]))"
   ]
  }
 ],
 "metadata": {
  "kernelspec": {
   "display_name": "pdp_jupyter",
   "language": "python",
   "name": "python3"
  },
  "language_info": {
   "codemirror_mode": {
    "name": "ipython",
    "version": 3
   },
   "file_extension": ".py",
   "mimetype": "text/x-python",
   "name": "python",
   "nbconvert_exporter": "python",
   "pygments_lexer": "ipython3",
   "version": "3.10.13"
  }
 },
 "nbformat": 4,
 "nbformat_minor": 5
}
