{
 "cells": [
  {
   "cell_type": "markdown",
   "metadata": {},
   "source": [
    "# Title\n",
    "**Author**:  Greg Slater <br>\n",
    "**Date**:  24th September 2024 <br>\n",
    "**Dataset Scope**: `dataset` <br>\n",
    "**Report Type**: Ad-hoc analysis <br>\n",
    "\n",
    "## Purpose\n"
   ]
  },
  {
   "cell_type": "code",
   "execution_count": 139,
   "metadata": {},
   "outputs": [],
   "source": [
    "import pandas as pd\n",
    "import geopandas as gpd\n",
    "import shapely\n",
    "import numpy as np\n",
    "import os\n",
    "import urllib\n",
    "# from sqlite_query_functions import DatasetSqlite\n",
    "from datetime import datetime\n",
    "import json\n",
    "import matplotlib.pyplot as plt\n",
    "\n",
    "pd.set_option(\"display.max_rows\", 100)\n",
    "\n",
    "td = datetime.today().strftime('%Y-%m-%d')\n",
    "data_dir = \"../../data/REPORT_NAME/\"\n",
    "os.makedirs(data_dir, exist_ok=True)\n",
    "# fn = os.path.join(data_dir, f\"FILENAME_{td}.csv\")\n"
   ]
  },
  {
   "cell_type": "markdown",
   "metadata": {},
   "source": [
    "## Functions"
   ]
  },
  {
   "cell_type": "code",
   "execution_count": 1,
   "metadata": {},
   "outputs": [],
   "source": [
    "def datasette_query(db, sql_string):\n",
    "    params = urllib.parse.urlencode({\n",
    "        \"sql\": sql_string,\n",
    "        \"_size\": \"max\"\n",
    "        })\n",
    "    url = f\"https://datasette.planning.data.gov.uk/{db}.csv?{params}\"\n",
    "    df = pd.read_csv(url)\n",
    "    return df"
   ]
  },
  {
   "cell_type": "markdown",
   "metadata": {},
   "source": [
    "## Data Import"
   ]
  },
  {
   "cell_type": "code",
   "execution_count": 77,
   "metadata": {},
   "outputs": [
    {
     "name": "stdout",
     "output_type": "stream",
     "text": [
      "329\n"
     ]
    }
   ],
   "source": [
    "q = \"\"\"\n",
    "    SELECT organisation, parameters, passed, message, details\n",
    "    FROM expectation\n",
    "    WHERE 1=1\n",
    "        AND name = 'Check number of entities inside the local planning authority boundary matches the manual count' \n",
    "    \"\"\"\n",
    "\n",
    "exp_ca_check = datasette_query(\"digital-land\", q)\n",
    "exp_ca_check[\"expected\"] = [json.loads(v)[\"expected\"] for v in exp_ca_check[\"parameters\"]]\n",
    "print(len(exp_ca_check))"
   ]
  },
  {
   "cell_type": "code",
   "execution_count": 56,
   "metadata": {},
   "outputs": [
    {
     "name": "stdout",
     "output_type": "stream",
     "text": [
      "691\n"
     ]
    }
   ],
   "source": [
    "q = \"\"\"\n",
    "    SELECT dataset, organisation, parameters, passed, message, details\n",
    "    FROM expectation\n",
    "    WHERE 1=1\n",
    "        AND name = 'Check no entities are outside of the local planning authority boundary'\n",
    "        and message not like '%error%'\n",
    "    \"\"\"\n",
    "\n",
    "exp_bound_check = datasette_query(\"digital-land\", q)\n",
    "exp_bound_check[\"actual\"] = [json.loads(v)[\"actual\"] for v in exp_bound_check[\"details\"]]\n",
    "print(len(exp_bound_check))"
   ]
  },
  {
   "cell_type": "code",
   "execution_count": 73,
   "metadata": {},
   "outputs": [
    {
     "name": "stdout",
     "output_type": "stream",
     "text": [
      "307\n"
     ]
    }
   ],
   "source": [
    "q = \"\"\"\n",
    "    SELECT dataset, organisation\n",
    "    FROM provision\n",
    "    WHERE dataset = \"conservation-area\"\n",
    "    AND end_date = \"\"\n",
    "    \"\"\"\n",
    "\n",
    "prov_ca = datasette_query(\"digital-land\", q)\n",
    "print(len(prov_ca))"
   ]
  },
  {
   "cell_type": "code",
   "execution_count": 88,
   "metadata": {},
   "outputs": [
    {
     "name": "stdout",
     "output_type": "stream",
     "text": [
      "382\n"
     ]
    }
   ],
   "source": [
    "q = \"\"\"\n",
    "    select entity as organisation_entity, name as org_name, organisation\n",
    "        from organisation\n",
    "        where end_date = \"\"\n",
    "    \"\"\"\n",
    "\n",
    "lookup_org = datasette_query(\"digital-land\", q)\n",
    "lookup_org[\"organisation_entity\"] = lookup_org[\"organisation_entity\"].astype(int)\n",
    "print(len(lookup_org))"
   ]
  },
  {
   "cell_type": "code",
   "execution_count": 93,
   "metadata": {},
   "outputs": [
    {
     "name": "stdout",
     "output_type": "stream",
     "text": [
      "8636\n",
      "8636\n"
     ]
    }
   ],
   "source": [
    "def get_pdp_dataset(dataset, geometry_field = \"geometry\", crs_out=4326, underscore_cols=True):\n",
    "\n",
    "    df = pd.read_csv(\n",
    "        f\"https://files.planning.data.gov.uk/dataset/{dataset}.csv\", \n",
    "        dtype = {\"entity\": pd.Int64Dtype(), \"organisation-entity\": pd.Int64Dtype()}\n",
    "        )\n",
    "    \n",
    "    df.columns = [x.replace(\"-\", \"_\") for x in df.columns]\n",
    "\n",
    "    df_valid_geom = df[df[geometry_field].notnull()].copy()\n",
    "\n",
    "    # load geometry and create GDF\n",
    "    df_valid_geom[geometry_field] = df_valid_geom[geometry_field].apply(shapely.wkt.loads)\n",
    "    gdf = gpd.GeoDataFrame(df_valid_geom, geometry = geometry_field)\n",
    "\n",
    "    # Transform to ESPG:27700 for more interpretable area units\n",
    "    gdf.set_crs(epsg=4326, inplace=True)\n",
    "    gdf.to_crs(epsg=crs_out, inplace=True)\n",
    "\n",
    "    return gdf\n",
    "\n",
    "ca_df = get_pdp_dataset(\"conservation-area\", \"point\")\n",
    "print(len(ca_df))\n",
    "\n",
    "ca_df.drop(\"organisation\", axis=1, inplace=True)\n",
    "\n",
    "ca_df = ca_df.merge(\n",
    "    lookup_org,\n",
    "    how = \"left\",\n",
    "    on = \"organisation_entity\"\n",
    ")\n",
    "print(len(ca_df))"
   ]
  },
  {
   "cell_type": "markdown",
   "metadata": {},
   "source": [
    "# Analysis\n",
    "## Out of bounds\n",
    "\n",
    "* How many LPAs have provided entities that fall outside of their boundary?\n",
    "* What is the total number of datasets affected?\n",
    "* What is the total number of entities that are out of bounds across all LPAs?"
   ]
  },
  {
   "cell_type": "code",
   "execution_count": 152,
   "metadata": {},
   "outputs": [
    {
     "name": "stdout",
     "output_type": "stream",
     "text": [
      "How many LPAs have provided entities that fall outside of their boundary: 69\n",
      "\n",
      "What is the total number of entities that are out of bounds across all LPAs: 548\n",
      "\n",
      "Worst offenders: \n"
     ]
    },
    {
     "data": {
      "text/html": [
       "<div>\n",
       "<style scoped>\n",
       "    .dataframe tbody tr th:only-of-type {\n",
       "        vertical-align: middle;\n",
       "    }\n",
       "\n",
       "    .dataframe tbody tr th {\n",
       "        vertical-align: top;\n",
       "    }\n",
       "\n",
       "    .dataframe thead th {\n",
       "        text-align: right;\n",
       "    }\n",
       "</style>\n",
       "<table border=\"1\" class=\"dataframe\">\n",
       "  <thead>\n",
       "    <tr style=\"text-align: right;\">\n",
       "      <th></th>\n",
       "      <th>organisation</th>\n",
       "      <th>n_entities</th>\n",
       "    </tr>\n",
       "  </thead>\n",
       "  <tbody>\n",
       "    <tr>\n",
       "      <th>7</th>\n",
       "      <td>local-authority:CAN</td>\n",
       "      <td>95</td>\n",
       "    </tr>\n",
       "    <tr>\n",
       "      <th>65</th>\n",
       "      <td>local-authority:WOK</td>\n",
       "      <td>77</td>\n",
       "    </tr>\n",
       "    <tr>\n",
       "      <th>22</th>\n",
       "      <td>local-authority:GRY</td>\n",
       "      <td>66</td>\n",
       "    </tr>\n",
       "    <tr>\n",
       "      <th>58</th>\n",
       "      <td>local-authority:TEW</td>\n",
       "      <td>52</td>\n",
       "    </tr>\n",
       "    <tr>\n",
       "      <th>28</th>\n",
       "      <td>local-authority:KIN</td>\n",
       "      <td>34</td>\n",
       "    </tr>\n",
       "    <tr>\n",
       "      <th>17</th>\n",
       "      <td>local-authority:EHA</td>\n",
       "      <td>25</td>\n",
       "    </tr>\n",
       "    <tr>\n",
       "      <th>59</th>\n",
       "      <td>local-authority:TWH</td>\n",
       "      <td>20</td>\n",
       "    </tr>\n",
       "    <tr>\n",
       "      <th>54</th>\n",
       "      <td>local-authority:STT</td>\n",
       "      <td>17</td>\n",
       "    </tr>\n",
       "    <tr>\n",
       "      <th>26</th>\n",
       "      <td>local-authority:HOR</td>\n",
       "      <td>12</td>\n",
       "    </tr>\n",
       "    <tr>\n",
       "      <th>46</th>\n",
       "      <td>local-authority:SAW</td>\n",
       "      <td>10</td>\n",
       "    </tr>\n",
       "  </tbody>\n",
       "</table>\n",
       "</div>"
      ],
      "text/plain": [
       "           organisation  n_entities\n",
       "7   local-authority:CAN          95\n",
       "65  local-authority:WOK          77\n",
       "22  local-authority:GRY          66\n",
       "58  local-authority:TEW          52\n",
       "28  local-authority:KIN          34\n",
       "17  local-authority:EHA          25\n",
       "59  local-authority:TWH          20\n",
       "54  local-authority:STT          17\n",
       "26  local-authority:HOR          12\n",
       "46  local-authority:SAW          10"
      ]
     },
     "execution_count": 152,
     "metadata": {},
     "output_type": "execute_result"
    }
   ],
   "source": [
    "exp_bound_check_fail = exp_bound_check[exp_bound_check[\"passed\"] == False]\n",
    "\n",
    "n_fail_lpas = len(exp_bound_check_fail[\"organisation\"].drop_duplicates())\n",
    "n_fail_ents = exp_bound_check_fail[\"actual\"].sum()\n",
    "\n",
    "print(f\"How many LPAs have provided entities that fall outside of their boundary: {n_fail_lpas}\")\n",
    "print()\n",
    "print(f\"What is the total number of entities that are out of bounds across all LPAs: {n_fail_ents}\")\n",
    "print()\n",
    "print(\"Worst offenders: \")\n",
    "exp_bound_check_fail.groupby([\"organisation\"], as_index=False).agg(\n",
    "    n_entities = (\"actual\", \"sum\")\n",
    ").sort_values(\"n_entities\", ascending=False).head(10)"
   ]
  },
  {
   "cell_type": "code",
   "execution_count": 153,
   "metadata": {},
   "outputs": [],
   "source": [
    "exp_bound_check_counts_dataset = exp_bound_check.groupby([\"dataset\", \"passed\"], as_index=False).agg(\n",
    "    n_lpas = (\"organisation\", \"count\"),\n",
    "    n_entities = (\"actual\", \"sum\")\n",
    ")"
   ]
  },
  {
   "cell_type": "markdown",
   "metadata": {},
   "source": [
    "### How many datasets affected?\n",
    "\n",
    "All datasets have some LPAs with entities out of bounds, with tree the worst core ODP dataset. BFL is so much higher because we have more data."
   ]
  },
  {
   "cell_type": "code",
   "execution_count": 165,
   "metadata": {},
   "outputs": [
    {
     "data": {
      "text/html": [
       "<div>\n",
       "<style scoped>\n",
       "    .dataframe tbody tr th:only-of-type {\n",
       "        vertical-align: middle;\n",
       "    }\n",
       "\n",
       "    .dataframe tbody tr th {\n",
       "        vertical-align: top;\n",
       "    }\n",
       "\n",
       "    .dataframe thead th {\n",
       "        text-align: right;\n",
       "    }\n",
       "</style>\n",
       "<table border=\"1\" class=\"dataframe\">\n",
       "  <thead>\n",
       "    <tr style=\"text-align: right;\">\n",
       "      <th></th>\n",
       "      <th>dataset</th>\n",
       "      <th>passed</th>\n",
       "      <th>n_lpas</th>\n",
       "      <th>n_entities</th>\n",
       "    </tr>\n",
       "  </thead>\n",
       "  <tbody>\n",
       "    <tr>\n",
       "      <th>0</th>\n",
       "      <td>article-4-direction-area</td>\n",
       "      <td>False</td>\n",
       "      <td>3</td>\n",
       "      <td>18</td>\n",
       "    </tr>\n",
       "    <tr>\n",
       "      <th>2</th>\n",
       "      <td>brownfield-land</td>\n",
       "      <td>False</td>\n",
       "      <td>51</td>\n",
       "      <td>315</td>\n",
       "    </tr>\n",
       "    <tr>\n",
       "      <th>4</th>\n",
       "      <td>conservation-area</td>\n",
       "      <td>False</td>\n",
       "      <td>2</td>\n",
       "      <td>35</td>\n",
       "    </tr>\n",
       "    <tr>\n",
       "      <th>6</th>\n",
       "      <td>listed-building-outline</td>\n",
       "      <td>False</td>\n",
       "      <td>7</td>\n",
       "      <td>67</td>\n",
       "    </tr>\n",
       "    <tr>\n",
       "      <th>8</th>\n",
       "      <td>tree</td>\n",
       "      <td>False</td>\n",
       "      <td>9</td>\n",
       "      <td>76</td>\n",
       "    </tr>\n",
       "    <tr>\n",
       "      <th>10</th>\n",
       "      <td>tree-preservation-zone</td>\n",
       "      <td>False</td>\n",
       "      <td>8</td>\n",
       "      <td>37</td>\n",
       "    </tr>\n",
       "  </tbody>\n",
       "</table>\n",
       "</div>"
      ],
      "text/plain": [
       "                     dataset  passed  n_lpas  n_entities\n",
       "0   article-4-direction-area   False       3          18\n",
       "2            brownfield-land   False      51         315\n",
       "4          conservation-area   False       2          35\n",
       "6    listed-building-outline   False       7          67\n",
       "8                       tree   False       9          76\n",
       "10    tree-preservation-zone   False       8          37"
      ]
     },
     "execution_count": 165,
     "metadata": {},
     "output_type": "execute_result"
    }
   ],
   "source": [
    "exp_bound_check_counts_dataset[exp_bound_check_counts_dataset[\"passed\"] == False]"
   ]
  },
  {
   "cell_type": "markdown",
   "metadata": {},
   "source": [
    "## Conservation area count comparison\n",
    "\n",
    "Of all the LPAs who have provided data and who we have an 'expected' count for, how many of those have a mismatch between the 'actual' and 'expected' count? (This should only consider entities provided by that LPA, and consider all entities for that dataset from that LPA regardless of whether the entity is inside their boundary)\n",
    "\n",
    "Of all the LPAs with a discrepancy, how many have:\n",
    "\n",
    "    Fewer entities than expected?\n",
    "\n",
    "    More entities than expected?\n",
    "\n",
    "What's the distribution of discrepancies in actual vs expected counts? e.g. how many LPAs have provided 5+ more entities than expected.\n",
    "\n",
    "Of all the LPAs who haven't provided data, how many do we have an 'expected' count for?"
   ]
  },
  {
   "cell_type": "code",
   "execution_count": null,
   "metadata": {},
   "outputs": [],
   "source": [
    "ca_org_count = ca_df.groupby([\"organisation\"], as_index=False).agg(\n",
    "    n_entities = (\"entity\", \"count\")\n",
    ")"
   ]
  },
  {
   "cell_type": "code",
   "execution_count": 150,
   "metadata": {},
   "outputs": [],
   "source": [
    "# join actual counts by org (not geog) to provision table\n",
    "exp_ca_check_org_actual = prov_ca.merge(\n",
    "    exp_ca_check,\n",
    "    how = \"left\",\n",
    "    on = \"organisation\"\n",
    "    ).merge(\n",
    "        ca_org_count,\n",
    "        how = \"left\",\n",
    "        on = \"organisation\"\n",
    "    )\n",
    "\n",
    "exp_ca_check_org_actual[\"delta\"] = exp_ca_check_org_actual[\"expected\"] - exp_ca_check_org_actual[\"n_entities\"]\n",
    "exp_ca_check_org_actual[\"expected_available\"] = np.where(exp_ca_check_org_actual[\"expected\"] != 0, True, False)\n",
    "exp_ca_check_org_actual[\"lpa_provision\"] = np.where(exp_ca_check_org_actual[\"n_entities\"].notnull(), True, False)\n",
    "\n",
    "# lpas with provision\n",
    "exp_ca_check_provs = exp_ca_check_org_actual[exp_ca_check_org_actual[\"lpa_provision\"] == True].copy()\n",
    "\n",
    "exp_ca_check_provs[\"bins\"] = np.select(\n",
    "    [\n",
    "        (exp_ca_check_provs[\"delta\"] == 0).astype(bool),\n",
    "        (exp_ca_check_provs[\"delta\"] < 0).astype(bool),\n",
    "        (exp_ca_check_provs[\"delta\"] > 0).astype(bool)\n",
    "    ],\n",
    "    [\n",
    "        \"Match\" , \"Fewer than expected\", \"More than expected\"\n",
    "    ], default = \"pass\"\n",
    ")"
   ]
  },
  {
   "cell_type": "markdown",
   "metadata": {},
   "source": [
    "### Breakdown of LPAs with discrepancy"
   ]
  },
  {
   "cell_type": "code",
   "execution_count": 151,
   "metadata": {},
   "outputs": [
    {
     "data": {
      "text/html": [
       "<div>\n",
       "<style scoped>\n",
       "    .dataframe tbody tr th:only-of-type {\n",
       "        vertical-align: middle;\n",
       "    }\n",
       "\n",
       "    .dataframe tbody tr th {\n",
       "        vertical-align: top;\n",
       "    }\n",
       "\n",
       "    .dataframe thead th {\n",
       "        text-align: right;\n",
       "    }\n",
       "</style>\n",
       "<table border=\"1\" class=\"dataframe\">\n",
       "  <thead>\n",
       "    <tr style=\"text-align: right;\">\n",
       "      <th></th>\n",
       "      <th>bins</th>\n",
       "      <th>size</th>\n",
       "    </tr>\n",
       "  </thead>\n",
       "  <tbody>\n",
       "    <tr>\n",
       "      <th>0</th>\n",
       "      <td>Fewer than expected</td>\n",
       "      <td>17</td>\n",
       "    </tr>\n",
       "    <tr>\n",
       "      <th>1</th>\n",
       "      <td>Match</td>\n",
       "      <td>25</td>\n",
       "    </tr>\n",
       "    <tr>\n",
       "      <th>2</th>\n",
       "      <td>More than expected</td>\n",
       "      <td>8</td>\n",
       "    </tr>\n",
       "  </tbody>\n",
       "</table>\n",
       "</div>"
      ],
      "text/plain": [
       "                  bins  size\n",
       "0  Fewer than expected    17\n",
       "1                Match    25\n",
       "2   More than expected     8"
      ]
     },
     "execution_count": 151,
     "metadata": {},
     "output_type": "execute_result"
    }
   ],
   "source": [
    "exp_ca_check_provs.groupby(\"bins\", as_index = False).size()"
   ]
  },
  {
   "cell_type": "markdown",
   "metadata": {},
   "source": [
    "### Distribution of LPAs with discrepancy"
   ]
  },
  {
   "cell_type": "code",
   "execution_count": 166,
   "metadata": {},
   "outputs": [
    {
     "data": {
      "image/png": "[encoded data removed]",
      "text/plain": [
       "<Figure size 600x300 with 1 Axes>"
      ]
     },
     "metadata": {},
     "output_type": "display_data"
    }
   ],
   "source": [
    "exp_ca_check_provs[\"delta\"].plot.hist(bins = 25, figsize = (6, 3))\n",
    "\n",
    "plt.xlabel('n entities from expected')\n",
    "plt.ylabel('n LPAs')\n",
    "plt.title('LPA count comparison histogram')\n",
    "plt.show()"
   ]
  },
  {
   "cell_type": "markdown",
   "metadata": {},
   "source": [
    "### How many LPAs do we have expected counts for?\n",
    "We have an expected count for 250 out of the 257 LPAs who haven't provided data"
   ]
  },
  {
   "cell_type": "code",
   "execution_count": 148,
   "metadata": {},
   "outputs": [
    {
     "data": {
      "text/html": [
       "<div>\n",
       "<style scoped>\n",
       "    .dataframe tbody tr th:only-of-type {\n",
       "        vertical-align: middle;\n",
       "    }\n",
       "\n",
       "    .dataframe tbody tr th {\n",
       "        vertical-align: top;\n",
       "    }\n",
       "\n",
       "    .dataframe thead th {\n",
       "        text-align: right;\n",
       "    }\n",
       "</style>\n",
       "<table border=\"1\" class=\"dataframe\">\n",
       "  <thead>\n",
       "    <tr style=\"text-align: right;\">\n",
       "      <th></th>\n",
       "      <th>expected_available</th>\n",
       "      <th>lpa_provision</th>\n",
       "      <th>size</th>\n",
       "    </tr>\n",
       "  </thead>\n",
       "  <tbody>\n",
       "    <tr>\n",
       "      <th>0</th>\n",
       "      <td>False</td>\n",
       "      <td>False</td>\n",
       "      <td>7</td>\n",
       "    </tr>\n",
       "    <tr>\n",
       "      <th>1</th>\n",
       "      <td>False</td>\n",
       "      <td>True</td>\n",
       "      <td>1</td>\n",
       "    </tr>\n",
       "    <tr>\n",
       "      <th>2</th>\n",
       "      <td>True</td>\n",
       "      <td>False</td>\n",
       "      <td>250</td>\n",
       "    </tr>\n",
       "    <tr>\n",
       "      <th>3</th>\n",
       "      <td>True</td>\n",
       "      <td>True</td>\n",
       "      <td>49</td>\n",
       "    </tr>\n",
       "  </tbody>\n",
       "</table>\n",
       "</div>"
      ],
      "text/plain": [
       "   expected_available  lpa_provision  size\n",
       "0               False          False     7\n",
       "1               False           True     1\n",
       "2                True          False   250\n",
       "3                True           True    49"
      ]
     },
     "execution_count": 148,
     "metadata": {},
     "output_type": "execute_result"
    }
   ],
   "source": [
    "exp_ca_check_org_actual.groupby([\"expected_available\", \"lpa_provision\"], as_index=False).size()"
   ]
  },
  {
   "cell_type": "markdown",
   "metadata": {},
   "source": [
    "#### Look at LPAs without an expected count"
   ]
  },
  {
   "cell_type": "code",
   "execution_count": 149,
   "metadata": {},
   "outputs": [
    {
     "data": {
      "text/html": [
       "<div>\n",
       "<style scoped>\n",
       "    .dataframe tbody tr th:only-of-type {\n",
       "        vertical-align: middle;\n",
       "    }\n",
       "\n",
       "    .dataframe tbody tr th {\n",
       "        vertical-align: top;\n",
       "    }\n",
       "\n",
       "    .dataframe thead th {\n",
       "        text-align: right;\n",
       "    }\n",
       "</style>\n",
       "<table border=\"1\" class=\"dataframe\">\n",
       "  <thead>\n",
       "    <tr style=\"text-align: right;\">\n",
       "      <th></th>\n",
       "      <th>dataset</th>\n",
       "      <th>organisation</th>\n",
       "      <th>parameters</th>\n",
       "      <th>passed</th>\n",
       "      <th>message</th>\n",
       "      <th>details</th>\n",
       "      <th>expected</th>\n",
       "      <th>n_entities</th>\n",
       "      <th>delta</th>\n",
       "      <th>expected_available</th>\n",
       "      <th>lpa_provision</th>\n",
       "    </tr>\n",
       "  </thead>\n",
       "  <tbody>\n",
       "    <tr>\n",
       "      <th>0</th>\n",
       "      <td>conservation-area</td>\n",
       "      <td>development-corporation:Q117149370</td>\n",
       "      <td>{\"lpa\": \"\", \"expected\": 0, \"geometric_relation...</td>\n",
       "      <td>False</td>\n",
       "      <td>An error occurred when retrieving lpa geometry...</td>\n",
       "      <td>{}</td>\n",
       "      <td>0</td>\n",
       "      <td>&lt;NA&gt;</td>\n",
       "      <td>&lt;NA&gt;</td>\n",
       "      <td>False</td>\n",
       "      <td>False</td>\n",
       "    </tr>\n",
       "    <tr>\n",
       "      <th>1</th>\n",
       "      <td>conservation-area</td>\n",
       "      <td>development-corporation:Q124604981</td>\n",
       "      <td>{\"lpa\": \"\", \"expected\": 0, \"geometric_relation...</td>\n",
       "      <td>False</td>\n",
       "      <td>An error occurred when retrieving lpa geometry...</td>\n",
       "      <td>{}</td>\n",
       "      <td>0</td>\n",
       "      <td>&lt;NA&gt;</td>\n",
       "      <td>&lt;NA&gt;</td>\n",
       "      <td>False</td>\n",
       "      <td>False</td>\n",
       "    </tr>\n",
       "    <tr>\n",
       "      <th>4</th>\n",
       "      <td>conservation-area</td>\n",
       "      <td>development-corporation:Q72463795</td>\n",
       "      <td>{\"lpa\": \"E60000328\", \"expected\": 0, \"geometric...</td>\n",
       "      <td>True</td>\n",
       "      <td>there were 0 entities found</td>\n",
       "      <td>{\"actual\": 0, \"expected\": 0, \"entities\": []}</td>\n",
       "      <td>0</td>\n",
       "      <td>&lt;NA&gt;</td>\n",
       "      <td>&lt;NA&gt;</td>\n",
       "      <td>False</td>\n",
       "      <td>False</td>\n",
       "    </tr>\n",
       "    <tr>\n",
       "      <th>40</th>\n",
       "      <td>conservation-area</td>\n",
       "      <td>local-authority:BUC</td>\n",
       "      <td>{\"lpa\": \"E60000331\", \"expected\": 0, \"geometric...</td>\n",
       "      <td>False</td>\n",
       "      <td>there were 360 entities found</td>\n",
       "      <td>{\"actual\": 360, \"expected\": 0, \"entities\": [44...</td>\n",
       "      <td>0</td>\n",
       "      <td>188</td>\n",
       "      <td>-188</td>\n",
       "      <td>False</td>\n",
       "      <td>True</td>\n",
       "    </tr>\n",
       "    <tr>\n",
       "      <th>59</th>\n",
       "      <td>conservation-area</td>\n",
       "      <td>local-authority:COL</td>\n",
       "      <td>{\"lpa\": \"E60000159\", \"expected\": 0, \"geometric...</td>\n",
       "      <td>False</td>\n",
       "      <td>there were 22 entities found</td>\n",
       "      <td>{\"actual\": 22, \"expected\": 0, \"entities\": [440...</td>\n",
       "      <td>0</td>\n",
       "      <td>&lt;NA&gt;</td>\n",
       "      <td>&lt;NA&gt;</td>\n",
       "      <td>False</td>\n",
       "      <td>False</td>\n",
       "    </tr>\n",
       "    <tr>\n",
       "      <th>179</th>\n",
       "      <td>conservation-area</td>\n",
       "      <td>local-authority:NYUA</td>\n",
       "      <td>{\"lpa\": \"E60000336\", \"expected\": 0, \"geometric...</td>\n",
       "      <td>False</td>\n",
       "      <td>there were 228 entities found</td>\n",
       "      <td>{\"actual\": 228, \"expected\": 0, \"entities\": [44...</td>\n",
       "      <td>0</td>\n",
       "      <td>&lt;NA&gt;</td>\n",
       "      <td>&lt;NA&gt;</td>\n",
       "      <td>False</td>\n",
       "      <td>False</td>\n",
       "    </tr>\n",
       "    <tr>\n",
       "      <th>240</th>\n",
       "      <td>conservation-area</td>\n",
       "      <td>local-authority:SUA</td>\n",
       "      <td>{\"lpa\": \"E60000337\", \"expected\": 0, \"geometric...</td>\n",
       "      <td>False</td>\n",
       "      <td>there were 179 entities found</td>\n",
       "      <td>{\"actual\": 179, \"expected\": 0, \"entities\": [44...</td>\n",
       "      <td>0</td>\n",
       "      <td>&lt;NA&gt;</td>\n",
       "      <td>&lt;NA&gt;</td>\n",
       "      <td>False</td>\n",
       "      <td>False</td>\n",
       "    </tr>\n",
       "    <tr>\n",
       "      <th>305</th>\n",
       "      <td>conservation-area</td>\n",
       "      <td>national-park-authority:Q72617890</td>\n",
       "      <td>{\"lpa\": \"E60000323\", \"expected\": 0, \"geometric...</td>\n",
       "      <td>False</td>\n",
       "      <td>there were 1 entities found</td>\n",
       "      <td>{\"actual\": 1, \"expected\": 0, \"entities\": [4400...</td>\n",
       "      <td>0</td>\n",
       "      <td>&lt;NA&gt;</td>\n",
       "      <td>&lt;NA&gt;</td>\n",
       "      <td>False</td>\n",
       "      <td>False</td>\n",
       "    </tr>\n",
       "  </tbody>\n",
       "</table>\n",
       "</div>"
      ],
      "text/plain": [
       "               dataset                        organisation  \\\n",
       "0    conservation-area  development-corporation:Q117149370   \n",
       "1    conservation-area  development-corporation:Q124604981   \n",
       "4    conservation-area   development-corporation:Q72463795   \n",
       "40   conservation-area                 local-authority:BUC   \n",
       "59   conservation-area                 local-authority:COL   \n",
       "179  conservation-area                local-authority:NYUA   \n",
       "240  conservation-area                 local-authority:SUA   \n",
       "305  conservation-area   national-park-authority:Q72617890   \n",
       "\n",
       "                                            parameters  passed  \\\n",
       "0    {\"lpa\": \"\", \"expected\": 0, \"geometric_relation...   False   \n",
       "1    {\"lpa\": \"\", \"expected\": 0, \"geometric_relation...   False   \n",
       "4    {\"lpa\": \"E60000328\", \"expected\": 0, \"geometric...    True   \n",
       "40   {\"lpa\": \"E60000331\", \"expected\": 0, \"geometric...   False   \n",
       "59   {\"lpa\": \"E60000159\", \"expected\": 0, \"geometric...   False   \n",
       "179  {\"lpa\": \"E60000336\", \"expected\": 0, \"geometric...   False   \n",
       "240  {\"lpa\": \"E60000337\", \"expected\": 0, \"geometric...   False   \n",
       "305  {\"lpa\": \"E60000323\", \"expected\": 0, \"geometric...   False   \n",
       "\n",
       "                                               message  \\\n",
       "0    An error occurred when retrieving lpa geometry...   \n",
       "1    An error occurred when retrieving lpa geometry...   \n",
       "4                          there were 0 entities found   \n",
       "40                       there were 360 entities found   \n",
       "59                        there were 22 entities found   \n",
       "179                      there were 228 entities found   \n",
       "240                      there were 179 entities found   \n",
       "305                        there were 1 entities found   \n",
       "\n",
       "                                               details  expected  n_entities  \\\n",
       "0                                                   {}         0        <NA>   \n",
       "1                                                   {}         0        <NA>   \n",
       "4         {\"actual\": 0, \"expected\": 0, \"entities\": []}         0        <NA>   \n",
       "40   {\"actual\": 360, \"expected\": 0, \"entities\": [44...         0         188   \n",
       "59   {\"actual\": 22, \"expected\": 0, \"entities\": [440...         0        <NA>   \n",
       "179  {\"actual\": 228, \"expected\": 0, \"entities\": [44...         0        <NA>   \n",
       "240  {\"actual\": 179, \"expected\": 0, \"entities\": [44...         0        <NA>   \n",
       "305  {\"actual\": 1, \"expected\": 0, \"entities\": [4400...         0        <NA>   \n",
       "\n",
       "     delta  expected_available  lpa_provision  \n",
       "0     <NA>               False          False  \n",
       "1     <NA>               False          False  \n",
       "4     <NA>               False          False  \n",
       "40    -188               False           True  \n",
       "59    <NA>               False          False  \n",
       "179   <NA>               False          False  \n",
       "240   <NA>               False          False  \n",
       "305   <NA>               False          False  "
      ]
     },
     "execution_count": 149,
     "metadata": {},
     "output_type": "execute_result"
    }
   ],
   "source": [
    "exp_ca_check_org_actual[exp_ca_check_org_actual[\"expected_available\"] == False]"
   ]
  },
  {
   "cell_type": "markdown",
   "metadata": {},
   "source": [
    "## Alternative source mismatched entities:\n",
    "\n",
    "How many LPAs have Historic England entities in their boundary that don't match to the LPA's submitted entities?\n",
    "\n",
    "What's the distribution of these entities?\n",
    "\n",
    "* Number of LPAs with 1-2 mismatched entities\n",
    "* Number of LPAs with 3-5 mismatched entities\n",
    "* Number of LPAs with more than 5 mismatched entities\n",
    "\n",
    "\n",
    "Note - as a bit of a shortcut I'm grabbing some data from another report here. It's not 100% what you've asked; it's identifying LPA entities which overlap partially with an HE entity, but may not count where for instance there are HE entities which are completely separate from any LPA ones."
   ]
  },
  {
   "cell_type": "code",
   "execution_count": 162,
   "metadata": {},
   "outputs": [],
   "source": [
    "dupe_checks = pd.read_csv(\"issues_type_2b-between_org-HE_to_LPA.csv\")\n",
    "\n",
    "mismatches = dupe_checks[\n",
    "    (dupe_checks[\"action\"] == \"investigate\") &\n",
    "    (dupe_checks[\"intersection_type\"] != \"edge intersection\")\n",
    "]"
   ]
  },
  {
   "cell_type": "markdown",
   "metadata": {},
   "source": [
    "#### Breakdown of the intersection types between LPA and Historic England entities"
   ]
  },
  {
   "cell_type": "code",
   "execution_count": 163,
   "metadata": {},
   "outputs": [
    {
     "data": {
      "text/plain": [
       "issue_type                                       intersection_type     action       priority  multiple_issues  org_overlap_type                  \n",
       "Between organisations - Historic England to LPA  > 90% combined match  investigate  high      True             LPA and HE mostly cover each other      7\n",
       "                                                 > 90% single match    investigate  medium    False            LPA mostly covered by HE               19\n",
       "                                                                                                               LPA mostly covers HE                   19\n",
       "                                                                                              True             LPA mostly covered by HE              112\n",
       "                                                                                                               LPA mostly covers HE                   15\n",
       "                                                 unclassified          investigate  low       False            -                                       6\n",
       "                                                                                              True             -                                       6\n",
       "dtype: int64"
      ]
     },
     "execution_count": 163,
     "metadata": {},
     "output_type": "execute_result"
    }
   ],
   "source": [
    "mismatches.groupby([\"issue_type\", \"intersection_type\", \"action\", \"priority\", \"multiple_issues\", \"org_overlap_type\"]).size()"
   ]
  },
  {
   "cell_type": "markdown",
   "metadata": {},
   "source": [
    "#### Count of issues per LPA\n",
    "\n",
    "Note, this isn't a strict count of entities, it's a count of the number of issues - one LPA entity could overlap with multiple HE entities, in which case it's counted multiple times as separate issues."
   ]
  },
  {
   "cell_type": "code",
   "execution_count": 164,
   "metadata": {},
   "outputs": [
    {
     "data": {
      "text/plain": [
       "organisation_name_1\n",
       "Maldon District Council                                52\n",
       "St Albans City and District Council                    27\n",
       "Mole Valley District Council                           13\n",
       "North Dorset District Council                          10\n",
       "Great Yarmouth Borough Council                          9\n",
       "East Hampshire District Council                         8\n",
       "Waverley Borough Council                                7\n",
       "Cambridge City Council                                  7\n",
       "Chichester District Council                             6\n",
       "Ministry of Housing, Communities & Local Government     5\n",
       "North Somerset Council                                  4\n",
       "Cornwall Council                                        3\n",
       "St Helens Council                                       3\n",
       "Calderdale Metropolitan Borough Council                 3\n",
       "Buckinghamshire Council                                 3\n",
       "Purbeck District Council                                2\n",
       "Vale of White Horse District Council                    2\n",
       "South Cambridgeshire District Council                   2\n",
       "Peak District National Park Authority                   2\n",
       "Carlisle City Council                                   2\n",
       "London Borough of Tower Hamlets                         2\n",
       "London Borough of Southwark                             2\n",
       "Horsham District Council                                2\n",
       "Bristol City Council                                    2\n",
       "City of York Council                                    1\n",
       "Rochdale Metropolitan Borough Council                   1\n",
       "Sandwell Metropolitan Borough Council                   1\n",
       "Southend-on-Sea Borough Council                         1\n",
       "Stockport Metropolitan Borough Council                  1\n",
       "Trafford Metropolitan Borough Council                   1\n",
       "dtype: int64"
      ]
     },
     "execution_count": 164,
     "metadata": {},
     "output_type": "execute_result"
    }
   ],
   "source": [
    "mismatches.groupby(\"organisation_name_1\").size().sort_values(ascending = False)"
   ]
  },
  {
   "cell_type": "code",
   "execution_count": null,
   "metadata": {},
   "outputs": [],
   "source": []
  }
 ],
 "metadata": {
  "kernelspec": {
   "display_name": "pdp_jupyter",
   "language": "python",
   "name": "python3"
  },
  "language_info": {
   "codemirror_mode": {
    "name": "ipython",
    "version": 3
   },
   "file_extension": ".py",
   "mimetype": "text/x-python",
   "name": "python",
   "nbconvert_exporter": "python",
   "pygments_lexer": "ipython3",
   "version": "3.10.13"
  }
 },
 "nbformat": 4,
 "nbformat_minor": 2
}
