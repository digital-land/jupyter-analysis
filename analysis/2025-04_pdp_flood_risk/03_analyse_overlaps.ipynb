{
 "cells": [
  {
   "cell_type": "markdown",
   "metadata": {},
   "source": [
    "# Title\n",
    "**Author**:  Greg Slater <br>\n",
    "**Date**:  15th April 2025 <br>\n",
    "**Dataset Scope**: `dataset` <br>\n",
    "**Report Type**: Ad-hoc analysis <br>\n",
    "\n",
    "## Purpose\n"
   ]
  },
  {
   "cell_type": "code",
   "execution_count": null,
   "metadata": {},
   "outputs": [],
   "source": [
    "import pandas as pd\n",
    "import geopandas as gpd\n",
    "import os\n",
    "from datetime import datetime\n",
    "\n",
    "pd.set_option(\"display.max_rows\", 100)\n",
    "\n",
    "td = datetime.today().strftime('%Y-%m-%d')\n",
    "data_dir = \"../../data/frz_checks/\"\n",
    "os.makedirs(data_dir, exist_ok=True)\n"
   ]
  },
  {
   "cell_type": "markdown",
   "metadata": {},
   "source": [
    "## Data Import"
   ]
  },
  {
   "cell_type": "code",
   "execution_count": null,
   "metadata": {},
   "outputs": [],
   "source": [
    "ea_23 = gpd.read_file(\"processed/sample_ea-2023_frz2.geojson\").to_crs(27700)\n",
    "ea_25 = gpd.read_file(\"processed/sample_ea-2025_frz2.geojson\").to_crs(27700)\n",
    "\n",
    "ea_23[\"area\"] = ea_23[\"geometry\"].area / 1000000\n",
    "ea_25[\"area\"] = ea_25[\"geometry\"].area / 1000000\n",
    "\n",
    "print(len(ea_23))\n",
    "print(len(ea_25))\n",
    "\n",
    "matches = pd.read_csv(\"output/calc_top_matches.csv\")"
   ]
  },
  {
   "cell_type": "markdown",
   "metadata": {},
   "source": [
    "## Checks"
   ]
  },
  {
   "cell_type": "code",
   "execution_count": null,
   "metadata": {},
   "outputs": [],
   "source": [
    "ea_23[\"area\"].describe().apply(lambda x: format(x, 'f'))"
   ]
  },
  {
   "cell_type": "code",
   "execution_count": null,
   "metadata": {},
   "outputs": [],
   "source": [
    "ea_25[\"area\"].describe().apply(lambda x: format(x, 'f'))"
   ]
  },
  {
   "cell_type": "code",
   "execution_count": null,
   "metadata": {},
   "outputs": [],
   "source": [
    "matches\n",
    "\n",
    "print(f\"Number of good matches (> 90% shared area) between datasets = {len(matches)}\")\n",
    "print(f\"{len(matches)} / {len(ea_23)} ({len(matches) / len(ea_23):0.2%}) 2023 records matched to {len(matches)} / {len(ea_25)} ({len(matches) / len(ea_25):0.2%}) 2025 records)\")"
   ]
  }
 ],
 "metadata": {
  "kernelspec": {
   "display_name": "pdp_jupyter",
   "language": "python",
   "name": "python3"
  },
  "language_info": {
   "codemirror_mode": {
    "name": "ipython",
    "version": 3
   },
   "file_extension": ".py",
   "mimetype": "text/x-python",
   "name": "python",
   "nbconvert_exporter": "python",
   "pygments_lexer": "ipython3",
   "version": "3.10.13"
  }
 },
 "nbformat": 4,
 "nbformat_minor": 2
}
