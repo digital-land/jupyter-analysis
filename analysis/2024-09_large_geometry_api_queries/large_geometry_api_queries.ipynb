{
 "cells": [
  {
   "cell_type": "markdown",
   "metadata": {},
   "source": [
    "# Title\n",
    "**Author**:  Greg Slater <br>\n",
    "**Date**:  27th September 2024 <br>\n",
    "**Dataset Scope**: <br>\n",
    "**Report Type**: Ad-hoc analysis <br>\n",
    "\n",
    "## Purpose\n",
    "Just some quick tests of simplifying some of the very large polygons in `flood-risk-zone` dataset to help with platform API query optimisation"
   ]
  },
  {
   "cell_type": "code",
   "execution_count": null,
   "metadata": {},
   "outputs": [],
   "source": [
    "import pandas as pd\n",
    "import geopandas as gpd\n",
    "import shapely\n",
    "import urllib\n",
    "\n",
    "pd.set_option(\"display.max_rows\", 100)\n",
    "\n",
    "# data_dir = \"../../data/db_downloads/\"\n",
    "# os.makedirs(data_dir, exist_ok=True)"
   ]
  },
  {
   "cell_type": "code",
   "execution_count": null,
   "metadata": {},
   "outputs": [],
   "source": [
    "def datasette_query(db, sql_string):\n",
    "    params = urllib.parse.urlencode({\n",
    "        \"sql\": sql_string,\n",
    "        \"_size\": \"max\"\n",
    "        })\n",
    "    url = f\"https://datasette.planning.data.gov.uk/{db}.csv?{params}\"\n",
    "    df = pd.read_csv(url)\n",
    "    return df"
   ]
  },
  {
   "cell_type": "markdown",
   "metadata": {},
   "source": [
    "## Data Import"
   ]
  },
  {
   "cell_type": "code",
   "execution_count": null,
   "metadata": {},
   "outputs": [],
   "source": [
    "# get geometry facts for entity 65123947 from datasette\n",
    "frz_polys = datasette_query(\"flood-risk-zone\", \"\"\"                       \n",
    "    select value\n",
    "    from fact\n",
    "    where entity = 65123947 and field = \"geometry\"\n",
    "    \"\"\")\n",
    "\n",
    "# turn into gdf\n",
    "frz_polys['value'] = frz_polys['value'].apply(shapely.wkt.loads)\n",
    "frz_polys = gpd.GeoDataFrame(frz_polys, geometry='value')\n",
    "frz_polys.set_crs(4326, inplace=True)\n"
   ]
  },
  {
   "cell_type": "code",
   "execution_count": null,
   "metadata": {},
   "outputs": [],
   "source": [
    "# gdf for the example polygon in the slow API call\n",
    "user_poly = pd.DataFrame({\"wkt\":[\"MULTIPOLYGON (((-2.241761 51.864916,-2.241601 51.864828,-2.241561 51.864854,-2.241617 51.864886,-2.2416 51.864897,-2.241703 51.864957,-2.241761 51.864916)))\"]})\n",
    "\n",
    "user_poly['wkt'] = user_poly['wkt'].apply(shapely.wkt.loads)\n",
    "user_poly = gpd.GeoDataFrame(user_poly, geometry='wkt')\n",
    "user_poly.set_crs(4326, inplace=True)\n",
    "\n",
    "user_poly.explore()"
   ]
  },
  {
   "cell_type": "markdown",
   "metadata": {},
   "source": [
    "## Analysis"
   ]
  },
  {
   "cell_type": "code",
   "execution_count": null,
   "metadata": {},
   "outputs": [],
   "source": [
    "# map big frz geom with user poly\n",
    "m = frz_polys.iloc[[1]].explore()\n",
    "\n",
    "user_poly.explore(\n",
    "    m = m,\n",
    "    color = \"red\"\n",
    ")"
   ]
  },
  {
   "cell_type": "code",
   "execution_count": null,
   "metadata": {},
   "outputs": [],
   "source": [
    "# same with simplification of frz poly\n",
    "m = frz_polys.iloc[[1]].simplify(.0001).explore()\n",
    "\n",
    "user_poly.explore(\n",
    "    m = m,\n",
    "    color = \"red\"\n",
    ")"
   ]
  }
 ],
 "metadata": {
  "kernelspec": {
   "display_name": "pdp_jupyter",
   "language": "python",
   "name": "python3"
  },
  "language_info": {
   "codemirror_mode": {
    "name": "ipython",
    "version": 3
   },
   "file_extension": ".py",
   "mimetype": "text/x-python",
   "name": "python",
   "nbconvert_exporter": "python",
   "pygments_lexer": "ipython3",
   "version": "3.10.13"
  }
 },
 "nbformat": 4,
 "nbformat_minor": 2
}
