{
 "cells": [
  {
   "cell_type": "code",
   "execution_count": 3,
   "metadata": {},
   "outputs": [],
   "source": [
    "import pandas as pd\n",
    "import geopandas as gpd\n",
    "import shapely.wkt\n",
    "import urllib\n",
    "import os\n",
    "import numpy as np"
   ]
  },
  {
   "cell_type": "code",
   "execution_count": 4,
   "metadata": {},
   "outputs": [],
   "source": [
    "# if running on Colab, uncomment and run this line below too:\n",
    "# !pip install mapclassify"
   ]
  },
  {
   "cell_type": "code",
   "execution_count": 5,
   "metadata": {},
   "outputs": [],
   "source": [
    "output_dir = \"output/\"\n",
    "os.makedirs(output_dir, exist_ok=True)"
   ]
  },
  {
   "cell_type": "code",
   "execution_count": 57,
   "metadata": {},
   "outputs": [],
   "source": [
    "# Functions\n",
    "\n",
    "def get_all_organisations():\n",
    "    params = urllib.parse.urlencode({\n",
    "        \"sql\": f\"\"\"\n",
    "        select entity as organisation_entity, name as org_name, organisation, dataset as org_type, end_date, \n",
    "        local_planning_authority as LPACD, local_authority_district,\n",
    "        case when dataset = \"local-authority\" then local_authority_district else local_planning_authority end as statistical_geography\n",
    "        from organisation\n",
    "        where name != \"Waveney District Council\"\n",
    "        \"\"\",\n",
    "        \"_size\": \"max\"\n",
    "        })\n",
    "    url = f\"https://datasette.planning.data.gov.uk/digital-land.csv?{params}\"\n",
    "    df = pd.read_csv(url, dtype = str)\n",
    "    return df\n",
    "\n",
    "\n",
    "def get_pdp_dataset(dataset, geometry_field = \"geometry\", crs_out=4326, underscore_cols=True):\n",
    "\n",
    "    df = pd.read_csv(f\"https://files.planning.data.gov.uk/dataset/{dataset}.csv\", dtype = \"str\")\n",
    "    df.columns = [x.replace(\"-\", \"_\") for x in df.columns]\n",
    "\n",
    "    df_valid_geom = df[df[geometry_field].notnull()].copy()\n",
    "\n",
    "    # load geometry and create GDF\n",
    "    df_valid_geom[geometry_field] = df_valid_geom[geometry_field].apply(shapely.wkt.loads)\n",
    "    gdf = gpd.GeoDataFrame(df_valid_geom, geometry = geometry_field)\n",
    "\n",
    "    # Transform to ESPG:27700 for more interpretable area units\n",
    "    gdf.set_crs(epsg=4326, inplace=True)\n",
    "    gdf.to_crs(epsg=crs_out, inplace=True)\n",
    "\n",
    "    return gdf"
   ]
  },
  {
   "cell_type": "markdown",
   "metadata": {},
   "source": [
    "## Data in"
   ]
  },
  {
   "cell_type": "code",
   "execution_count": null,
   "metadata": {},
   "outputs": [],
   "source": [
    "# get org lookup\n",
    "org_df = get_all_organisations()\n",
    "print(len(org_df))"
   ]
  },
  {
   "cell_type": "code",
   "execution_count": 8,
   "metadata": {},
   "outputs": [],
   "source": [
    "# # read in manual count sheet\n",
    "# con_count_df = pd.read_csv(\"https://docs.google.com/spreadsheets/d/e/2PACX-1vSGZIudsGx0ez4cU-4wSvymvXIFfpDb_qfbS3uW5RiuBkJrJQ9D8k0HBUPtgncRXA/pub?gid=485605871&single=true&output=csv\")\n",
    "# con_count_df.columns = [x.replace(\"-\", \"_\") for x in con_count_df.columns]\n",
    "\n",
    "# # join on organisation names and LPA codes\n",
    "# con_count_lpa_df = con_count_df.merge(\n",
    "#     org_df[[\"organisation_entity\", \"name\", \"local_planning_authority\"]],\n",
    "#     how = \"left\",\n",
    "#     on = \"organisation_entity\"\n",
    "# )\n",
    "\n",
    "# print(len(con_count_lpa_df))\n",
    "# # con_count_lpa_df.head()"
   ]
  },
  {
   "cell_type": "code",
   "execution_count": null,
   "metadata": {},
   "outputs": [],
   "source": [
    "ca_gdf = get_pdp_dataset(\"conservation-area\", \"point\")\n",
    "\n",
    "print(len(ca_gdf))\n",
    "\n",
    "ca_gdf = ca_gdf.merge(\n",
    "    org_df[[\"organisation_entity\", \"org_name\", \"org_type\"]],\n",
    "    how = \"left\",\n",
    "    on = \"organisation_entity\"\n",
    ")\n",
    "\n",
    "type_rank = dict(\n",
    "    {\n",
    "        \"local-authority\":1,\n",
    "        \"government-organisation\":2\n",
    "    })\n",
    "\n",
    "ca_gdf[\"org_type_rank\"] = ca_gdf[\"org_type\"].map(type_rank)\n",
    "\n",
    "print(len(ca_gdf))"
   ]
  },
  {
   "cell_type": "code",
   "execution_count": null,
   "metadata": {},
   "outputs": [],
   "source": [
    "# LPA boundaries from PDP site\n",
    "lpa_gdf = get_pdp_dataset(\"local-planning-authority\", \"geometry\")\n",
    "# drop empty end-date column from LPA dataset\n",
    "# lpa_gdf.drop([\"end_date\", \"organisation\", \"region\"], axis = 1, inplace=True)\n",
    "\n",
    "# rename for easier joining\n",
    "lpa_gdf.rename(columns={\n",
    "        'name':'lpa_name',\n",
    "        'reference':'LPACD'}, \n",
    "    inplace=True)\n",
    "\n",
    "print(len(lpa_gdf))\n",
    "\n",
    "# join on LAD org names and populated end date\n",
    "lpa_gdf = lpa_gdf[[\"dataset\", \"entity\", \"geometry\", \"lpa_name\", \"LPACD\"]].merge(\n",
    "    org_df[[\"LPACD\", \"end_date\"]],\n",
    "    how = \"left\",\n",
    "    on = \"LPACD\"\n",
    ")\n",
    "\n",
    "lpa_live_gdf = lpa_gdf[lpa_gdf[\"end_date\"].isnull()].copy()\n",
    "\n",
    "print(len(lpa_gdf))\n",
    "lpa_gdf.head()"
   ]
  },
  {
   "cell_type": "markdown",
   "metadata": {},
   "source": [
    "## Analysis"
   ]
  },
  {
   "cell_type": "markdown",
   "metadata": {},
   "source": [
    "### Spatial joining"
   ]
  },
  {
   "cell_type": "code",
   "execution_count": null,
   "metadata": {},
   "outputs": [],
   "source": [
    "# join LPAs to all conservation areas, then join on the names of supplying organisations for matching conservation areas\n",
    "lpa_ca_join = gpd.sjoin(\n",
    "    lpa_live_gdf[[\"LPACD\", \"lpa_name\", \"geometry\"]],\n",
    "    ca_gdf[[\"entity\", \"organisation_entity\", \"org_name\", \"org_type\", \"org_type_rank\", \"point\"]],\n",
    "    how = \"left\",\n",
    "    predicate = \"intersects\"\n",
    ")\n",
    "\n",
    "print(len(lpa_ca_join))\n",
    "lpa_ca_join.head()\n"
   ]
  },
  {
   "cell_type": "code",
   "execution_count": null,
   "metadata": {},
   "outputs": [],
   "source": [
    "# join LPAs to all conservation areas, then join on the names of supplying organisations for matching conservation areas\n",
    "lpa_ca_join = lpa_live_gdf[[\"LPACD\", \"lpa_name\", \"geometry\"]].overlay(\n",
    "    ca_gdf[[\"entity\", \"organisation_entity\", \"org_name\", \"org_type\", \"org_type_rank\", \"point\"]],\n",
    "    how = \"intersection\"\n",
    ")\n",
    "\n",
    "print(len(lpa_ca_join))\n",
    "lpa_ca_join.head()\n"
   ]
  },
  {
   "cell_type": "code",
   "execution_count": null,
   "metadata": {},
   "outputs": [],
   "source": [
    "type(lpa_ca_join)"
   ]
  },
  {
   "cell_type": "code",
   "execution_count": null,
   "metadata": {},
   "outputs": [],
   "source": [
    "# lpa_prov_map = lpa_ca_join.groupby([\"LPACD\", \"lpa_name\", \"geometry\"], as_index=False).agg(\n",
    "#     org_rank_min = (\"org_type_rank\", \"min\")\n",
    "# )\n",
    "\n",
    "rank_quality = dict(\n",
    "    {\n",
    "        np.nan : \"none\",\n",
    "        1 : \"trustworthy\",\n",
    "        2 : \"some\"\n",
    "    })\n",
    "\n",
    "lpa_prov_map[\"prov_quality\"] = lpa_prov_map[\"org_rank_min\"].map(rank_quality)\n",
    "\n",
    "# lpa_prov_map[\"geometry\"] = lpa_prov_map[\"geometry\"].apply(shapely.wkt.loads)\n",
    "lpa_prov_map = gpd.GeoDataFrame(lpa_prov_map, geometry = \"geometry\")\n",
    "\n",
    "lpa_prov_map.head()"
   ]
  },
  {
   "cell_type": "code",
   "execution_count": null,
   "metadata": {},
   "outputs": [],
   "source": [
    "lpa_prov_map.explore(\n",
    "    column = \"prov_quality\"\n",
    ")"
   ]
  }
 ],
 "metadata": {
  "kernelspec": {
   "display_name": "pdp_jupyter",
   "language": "python",
   "name": "python3"
  },
  "language_info": {
   "codemirror_mode": {
    "name": "ipython",
    "version": 3
   },
   "file_extension": ".py",
   "mimetype": "text/x-python",
   "name": "python",
   "nbconvert_exporter": "python",
   "pygments_lexer": "ipython3",
   "version": "3.10.13"
  }
 },
 "nbformat": 4,
 "nbformat_minor": 2
}
