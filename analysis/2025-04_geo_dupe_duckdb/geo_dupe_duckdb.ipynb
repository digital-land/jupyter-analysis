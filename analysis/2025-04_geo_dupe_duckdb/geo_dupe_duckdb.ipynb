{
 "cells": [
  {
   "cell_type": "markdown",
   "metadata": {},
   "source": [
    "# Geo dupes in DuckDB\n",
    "**Author**:  Greg Slater <br>\n",
    "**Date**:  24th September 2024 <br>\n",
    "**Dataset Scope**: `dataset` <br>\n",
    "**Report Type**: Ad-hoc analysis <br>\n",
    "**Purpose**: Minimal reproduction of method used in [conservation area geo duplicates report](https://github.com/digital-land/jupyter-analysis/blob/main/reports/find_conservation_area_duplicates/map_conservation_area_duplicates.ipynb), using duckdb instead of geopandas as this may be closer to the aproach that is required to identify geo-duplicates for any dataset in expectations or as part of the add-data command.\n"
   ]
  },
  {
   "cell_type": "code",
   "execution_count": 1,
   "metadata": {},
   "outputs": [],
   "source": [
    "import pandas as pd\n",
    "import geopandas as gpd\n",
    "import numpy as np\n",
    "import os\n",
    "import duckdb as ddb\n",
    "from datetime import datetime\n",
    "\n",
    "pd.set_option(\"display.max_rows\", 100)\n",
    "\n",
    "td = datetime.today().strftime('%Y-%m-%d')\n",
    "data_dir = \"../../data/endpoint_checker/entity_resolution/\"\n"
   ]
  },
  {
   "cell_type": "code",
   "execution_count": null,
   "metadata": {},
   "outputs": [
    {
     "data": {
      "text/plain": [
       "<duckdb.duckdb.DuckDBPyConnection at 0x126cffe70>"
      ]
     },
     "execution_count": 2,
     "metadata": {},
     "output_type": "execute_result"
    }
   ],
   "source": [
    "ca_sqlite_path = os.path.join(data_dir, \"conservation-area.sqlite3\")\n",
    "\n",
    "# Connect to DuckDB\n",
    "con = ddb.connect()\n",
    "\n",
    "# Load the SQLite extension\n",
    "con.execute(\"INSTALL sqlite;\")\n",
    "con.execute(\"LOAD sqlite;\")\n",
    "con.execute(\"INSTALL spatial;\")\n",
    "con.execute(\"LOAD spatial;\")\n",
    "\n",
    "# Attach the SQLite database\n",
    "con.execute(f\"ATTACH DATABASE '{ca_sqlite_path}' AS sqlite_db;\")\n",
    "\n",
    "# Create a new table in DuckDB, load in entity table from sqlite and create spatial index on geom field\n",
    "# Note - remove LIMIT statement to run on full entity table, restricted for now for easier testing\n",
    "con.execute(\"\"\"\n",
    "    DROP TABLE IF EXISTS entity_spatial;\n",
    "            \n",
    "    CREATE TABLE entity_spatial (\n",
    "    entity INTEGER,\n",
    "    reference TEXT,\n",
    "    geom GEOMETRY);\n",
    "            \n",
    "    DELETE FROM entity_spatial;\n",
    "\n",
    "    INSERT INTO entity_spatial (entity, reference, geom)\n",
    "    SELECT entity, reference, ST_GeomFromText(geometry)\n",
    "    FROM sqlite_db.entity\n",
    "    WHERE geometry != ''\n",
    "    LIMIT 1000;\n",
    "            \n",
    "    CREATE INDEX idx ON entity_spatial USING RTREE (geom);\n",
    "\"\"\")\n"
   ]
  },
  {
   "cell_type": "code",
   "execution_count": 3,
   "metadata": {},
   "outputs": [],
   "source": [
    "MATCH_THRESHOLD = 0.95\n",
    "\n",
    "con.sql(f\"\"\"\n",
    "    WITH calc as (\n",
    "        SELECT \n",
    "            a.entity as entity_a,\n",
    "            b.entity as entity_b,\n",
    "            CONCAT(LEAST(a.entity, b.entity), '-', GREATEST(a.entity, b.entity)) AS entity_join_key,\n",
    "            ST_Area(ST_Intersection(a.geom, b.geom)) / ST_Area(ST_Union(a.geom, b.geom)) as pct_comb_overlap,\n",
    "            ST_Area(ST_Intersection(a.geom, b.geom)) / ST_Area(a.geom) as pct_overlap_a,\n",
    "            ST_Area(ST_Intersection(a.geom, b.geom)) / ST_Area(b.geom) as pct_overlap_b\n",
    "        FROM entity_spatial a\n",
    "        JOIN entity_spatial b \n",
    "            ON ST_Intersects(a.geom, b.geom)\n",
    "            AND a.entity <> b.entity\n",
    "          ),\n",
    "        \n",
    "    categorised as (\n",
    "          \n",
    "        SELECT \n",
    "            *,\n",
    "            CASE \n",
    "                WHEN pct_overlap_a > {MATCH_THRESHOLD} AND pct_overlap_b > {MATCH_THRESHOLD} THEN 'Complete match (two-way)'\n",
    "                WHEN pct_overlap_a > {MATCH_THRESHOLD} OR pct_overlap_b > {MATCH_THRESHOLD} THEN 'Single match (one-way)'\n",
    "            ELSE 'undefined' END as intersection_type,\n",
    "            row_number() OVER (PARTITION BY entity_join_key ORDER BY pct_comb_overlap) as key_count\n",
    "        FROM calc\n",
    "        WHERE pct_overlap_a > 0.9 OR pct_overlap_a > 0.9\n",
    "        ORDER BY entity_join_key\n",
    "          )\n",
    "          \n",
    "    SELECT *\n",
    "    FROM categorised\n",
    "    WHERE key_count = 1\n",
    "\"\"\").to_csv(\"conservation-area_geo_dupes_duckdb.csv\")\n",
    "          \n",
    "con.close()"
   ]
  }
 ],
 "metadata": {
  "kernelspec": {
   "display_name": "pdp_jupyter",
   "language": "python",
   "name": "python3"
  },
  "language_info": {
   "codemirror_mode": {
    "name": "ipython",
    "version": 3
   },
   "file_extension": ".py",
   "mimetype": "text/x-python",
   "name": "python",
   "nbconvert_exporter": "python",
   "pygments_lexer": "ipython3",
   "version": "3.10.13"
  }
 },
 "nbformat": 4,
 "nbformat_minor": 2
}
