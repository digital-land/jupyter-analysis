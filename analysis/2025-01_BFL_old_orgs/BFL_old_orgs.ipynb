{
 "cells": [
  {
   "cell_type": "markdown",
   "metadata": {},
   "source": [
    "# Title\n",
    "**Author**:  Greg Slater <br>\n",
    "**Date**:  24th September 2024 <br>\n",
    "**Dataset Scope**: `dataset` <br>\n",
    "**Report Type**: Ad-hoc analysis <br>\n",
    "\n",
    "## Purpose\n"
   ]
  },
  {
   "cell_type": "code",
   "execution_count": null,
   "metadata": {},
   "outputs": [],
   "source": [
    "import pandas as pd\n",
    "import geopandas as gpd\n",
    "import numpy as np\n",
    "import os\n",
    "import urllib\n",
    "# from sqlite_query_functions import DatasetSqlite\n",
    "from datetime import datetime\n",
    "\n",
    "pd.set_option(\"display.max_rows\", 100)\n",
    "\n",
    "td = datetime.today().strftime('%Y-%m-%d')\n",
    "data_dir = \"../../data/BFL_old_orgs/\"\n",
    "os.makedirs(data_dir, exist_ok=True)\n",
    "# fn = os.path.join(data_dir, f\"FILENAME_{td}.csv\")\n"
   ]
  },
  {
   "cell_type": "markdown",
   "metadata": {},
   "source": [
    "## Data Import"
   ]
  },
  {
   "cell_type": "code",
   "execution_count": null,
   "metadata": {},
   "outputs": [],
   "source": [
    "bfl = pd.read_csv(\"https://files.planning.data.gov.uk/dataset/brownfield-land.csv\")"
   ]
  },
  {
   "cell_type": "code",
   "execution_count": null,
   "metadata": {},
   "outputs": [],
   "source": [
    "bfl_BBC = bfl[bfl[\"organisation-entity\"] == 47].copy()\n",
    "bfl_BCP = bfl[bfl[\"organisation-entity\"] == 54].copy()\n",
    "\n",
    "print(len(bfl_BCP))"
   ]
  },
  {
   "cell_type": "code",
   "execution_count": null,
   "metadata": {},
   "outputs": [],
   "source": [
    "cross_ref = pd.merge(\n",
    "    bfl_BBC,\n",
    "    bfl_BCP,\n",
    "    how = \"outer\",\n",
    "    on = [\"reference\"],\n",
    "    indicator=True,\n",
    ")[[\"reference\", \"entity_x\", \"entity_y\", \"point_x\", \"point_y\", \"site-address_x\", \"site-address_y\", \"_merge\"]]\n",
    "\n",
    "matches = cross_ref[cross_ref[\"_merge\"] == \"both\"].copy()\n",
    "matches.sort_values(by = \"reference\", inplace=True)\n",
    "\n",
    "matches.head()"
   ]
  },
  {
   "cell_type": "code",
   "execution_count": null,
   "metadata": {},
   "outputs": [],
   "source": [
    "matches.iloc[1][\"site-address_x\"]"
   ]
  },
  {
   "cell_type": "code",
   "execution_count": null,
   "metadata": {},
   "outputs": [],
   "source": [
    "matches.iloc[1][\"site-address_y\"]"
   ]
  },
  {
   "cell_type": "code",
   "execution_count": null,
   "metadata": {},
   "outputs": [],
   "source": [
    "matches_BBC = bfl_BBC[bfl_BBC[\"reference\"].isin(matches[\"reference\"])].copy()\n",
    "matches_BBC.set_index(\"reference\", inplace=True)\n",
    "matches_BBC.sort_index(inplace=True)\n",
    "\n",
    "matches_BCP = bfl_BCP[bfl_BCP[\"reference\"].isin(matches[\"reference\"])].copy()\n",
    "matches_BCP.set_index(\"reference\", inplace=True)\n",
    "matches_BCP.sort_index(inplace=True)\n",
    "\n",
    "matches_BBC.head()"
   ]
  },
  {
   "cell_type": "code",
   "execution_count": null,
   "metadata": {},
   "outputs": [],
   "source": [
    "full_comp = matches_BBC == matches_BCP\n",
    "# full_comp.reset_index(inplace=True)\n",
    "pd.DataFrame({\"x_y_match_pct\" : full_comp[[\"name\", \"point\", \"site\", \"site-address\"]].sum(axis=0) / len(full_comp)})"
   ]
  },
  {
   "cell_type": "markdown",
   "metadata": {},
   "source": []
  },
  {
   "cell_type": "markdown",
   "metadata": {},
   "source": [
    "## Analysis"
   ]
  },
  {
   "cell_type": "code",
   "execution_count": null,
   "metadata": {},
   "outputs": [],
   "source": []
  }
 ],
 "metadata": {
  "kernelspec": {
   "display_name": "pdp_jupyter",
   "language": "python",
   "name": "python3"
  },
  "language_info": {
   "codemirror_mode": {
    "name": "ipython",
    "version": 3
   },
   "file_extension": ".py",
   "mimetype": "text/x-python",
   "name": "python",
   "nbconvert_exporter": "python",
   "pygments_lexer": "ipython3",
   "version": "3.10.13"
  }
 },
 "nbformat": 4,
 "nbformat_minor": 2
}
