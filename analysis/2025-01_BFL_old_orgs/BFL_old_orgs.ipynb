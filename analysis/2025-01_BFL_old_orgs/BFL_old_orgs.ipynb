{
 "cells": [
  {
   "cell_type": "markdown",
   "metadata": {},
   "source": [
    "# Title\n",
    "**Author**:  Greg Slater <br>\n",
    "**Date**:  24th September 2024 <br>\n",
    "**Dataset Scope**: `dataset` <br>\n",
    "**Report Type**: Ad-hoc analysis <br>\n",
    "\n",
    "## Purpose\n"
   ]
  },
  {
   "cell_type": "code",
   "execution_count": null,
   "metadata": {},
   "outputs": [],
   "source": [
    "import pandas as pd\n",
    "import geopandas as gpd\n",
    "import numpy as np\n",
    "import os\n",
    "import urllib\n",
    "# from sqlite_query_functions import DatasetSqlite\n",
    "from datetime import datetime\n",
    "\n",
    "pd.set_option(\"display.max_rows\", 100)\n",
    "\n",
    "td = datetime.today().strftime('%Y-%m-%d')\n",
    "data_dir = \"../../data/BFL_old_orgs/\"\n",
    "os.makedirs(data_dir, exist_ok=True)\n",
    "# fn = os.path.join(data_dir, f\"FILENAME_{td}.csv\")\n"
   ]
  },
  {
   "cell_type": "markdown",
   "metadata": {},
   "source": [
    "## Data Import"
   ]
  },
  {
   "cell_type": "code",
   "execution_count": 190,
   "metadata": {},
   "outputs": [
    {
     "name": "stdout",
     "output_type": "stream",
     "text": [
      "35125\n"
     ]
    }
   ],
   "source": [
    "bfl = pd.read_csv(\"https://files.planning.data.gov.uk/dataset/brownfield-land.csv\")\n",
    "print(len(bfl))"
   ]
  },
  {
   "cell_type": "code",
   "execution_count": 90,
   "metadata": {},
   "outputs": [
    {
     "name": "stdout",
     "output_type": "stream",
     "text": [
      "50\n",
      "344\n"
     ]
    }
   ],
   "source": [
    "bfl_BBC = bfl[bfl[\"organisation-entity\"] == 47].copy()\n",
    "bfl_BCP = bfl[bfl[\"organisation-entity\"] == 54].copy()\n",
    "\n",
    "print(len(bfl_BBC))\n",
    "print(len(bfl_BCP))"
   ]
  },
  {
   "cell_type": "code",
   "execution_count": 142,
   "metadata": {},
   "outputs": [],
   "source": [
    "def get_all_organisations():\n",
    "    params = urllib.parse.urlencode({\n",
    "        \"sql\": f\"\"\"\n",
    "        select entity as organisation_entity, name as org_name, organisation, dataset as org_type, end_date\n",
    "        from organisation\n",
    "        \"\"\",\n",
    "        \"_size\": \"max\"\n",
    "        })\n",
    "    url = f\"https://datasette.planning.data.gov.uk/digital-land.csv?{params}\"\n",
    "    df = pd.read_csv(url)\n",
    "    return df\n",
    "\n",
    "org_df = get_all_organisations()\n",
    "\n",
    "org_df.set_index(\"organisation_entity\", inplace=True)\n",
    "org_dict = org_df[[\"org_name\"]].to_dict(\"index\")"
   ]
  },
  {
   "cell_type": "code",
   "execution_count": 154,
   "metadata": {},
   "outputs": [
    {
     "name": "stdout",
     "output_type": "stream",
     "text": [
      "no. of entities in left table (Bournemouth Borough Council) = 50\n",
      "no. of entities in right table  (Bournemouth, Christchurch and Poole Council)= 344\n"
     ]
    },
    {
     "data": {
      "text/plain": [
       "_merge\n",
       "right_only    296\n",
       "both           48\n",
       "left_only       2\n",
       "Name: count, dtype: int64"
      ]
     },
     "execution_count": 154,
     "metadata": {},
     "output_type": "execute_result"
    }
   ],
   "source": [
    "def check_matches(org_x, org_y, match_fields):\n",
    "\n",
    "    dfx = bfl[bfl[\"organisation-entity\"] == org_x].copy()\n",
    "    dfy = bfl[bfl[\"organisation-entity\"] == org_y].copy()\n",
    "\n",
    "    namex = org_dict[org_x][\"org_name\"]\n",
    "    namey = org_dict[org_y][\"org_name\"]\n",
    "    print(f\"no. of entities in left table ({namex}) = {len(dfx)}\")\n",
    "    print(f\"no. of entities in right table  ({namey})= {len(dfy)}\")\n",
    "\n",
    "    cross_ref_df = pd.merge(\n",
    "        dfx,\n",
    "        dfy,\n",
    "        how = \"outer\",\n",
    "        on = match_fields,\n",
    "        indicator=True,\n",
    "    )[match_fields + [\"_merge\"]]\n",
    "\n",
    "    # d[\"ref_matches\"] = d[\"cross_ref_df\"][d[\"cross_ref_df\"][\"_merge\"] == \"both\"][\"reference\"]\n",
    "    \n",
    "    return cross_ref_df\n",
    "\n",
    "cr_test = check_matches(47, 54, [\"reference\"])\n",
    "cr_test_matches = cr_test[cr_test[\"_merge\"] == \"both\"][\"reference\"]\n",
    "\n",
    "cr_test.value_counts(\"_merge\")"
   ]
  },
  {
   "cell_type": "code",
   "execution_count": 105,
   "metadata": {},
   "outputs": [
    {
     "data": {
      "text/html": [
       "<div>\n",
       "<style scoped>\n",
       "    .dataframe tbody tr th:only-of-type {\n",
       "        vertical-align: middle;\n",
       "    }\n",
       "\n",
       "    .dataframe tbody tr th {\n",
       "        vertical-align: top;\n",
       "    }\n",
       "\n",
       "    .dataframe thead th {\n",
       "        text-align: right;\n",
       "    }\n",
       "</style>\n",
       "<table border=\"1\" class=\"dataframe\">\n",
       "  <thead>\n",
       "    <tr style=\"text-align: right;\">\n",
       "      <th>index</th>\n",
       "      <th>name</th>\n",
       "      <th>point</th>\n",
       "      <th>site</th>\n",
       "      <th>site-address</th>\n",
       "    </tr>\n",
       "  </thead>\n",
       "  <tbody>\n",
       "    <tr>\n",
       "      <th>x_y_pct_match</th>\n",
       "      <td>1.0</td>\n",
       "      <td>0.0</td>\n",
       "      <td>0.0</td>\n",
       "      <td>0.708333</td>\n",
       "    </tr>\n",
       "  </tbody>\n",
       "</table>\n",
       "</div>"
      ],
      "text/plain": [
       "index          name  point  site  site-address\n",
       "x_y_pct_match   1.0    0.0   0.0      0.708333"
      ]
     },
     "execution_count": 105,
     "metadata": {},
     "output_type": "execute_result"
    }
   ],
   "source": [
    "def compare_match_fields(org_x, org_y, ref_matches, fields):\n",
    "\n",
    "    dfx = bfl[\n",
    "        (bfl[\"organisation-entity\"] == org_x) &\n",
    "        (bfl[\"reference\"].isin(ref_matches))].copy()\n",
    "    \n",
    "    dfy = bfl[\n",
    "        (bfl[\"organisation-entity\"] == org_y) &\n",
    "        (bfl[\"reference\"].isin(ref_matches))].copy()\n",
    "\n",
    "    # subset each table to only records which match on reference\n",
    "    matches_df1 = dfx[dfx[\"reference\"].isin(ref_matches)].copy()\n",
    "    matches_df1.set_index(\"reference\", inplace=True)\n",
    "    matches_df1.sort_index(inplace=True)\n",
    "\n",
    "    matches_df2 = dfy[dfy[\"reference\"].isin(ref_matches)].copy()\n",
    "    matches_df2.set_index(\"reference\", inplace=True)\n",
    "    matches_df2.sort_index(inplace=True)\n",
    "\n",
    "    # full comparison\n",
    "    full_comp = matches_df1 == matches_df2\n",
    "\n",
    "    # calculate match % for each field and make into neat wide table\n",
    "    results_df_nar = (full_comp[fields].sum(axis=0) / len(full_comp)).to_frame(name = \"x_y_pct_match\")\n",
    "    results_df_wide = results_df_nar.reset_index().pivot_table(columns = \"index\", values = \"x_y_pct_match\")\n",
    "    return results_df_wide\n",
    "\n",
    "t = compare_match_fields(47, 54, cr_test_matches, [\"name\", \"point\", \"site\", \"site-address\"])\n",
    "t"
   ]
  },
  {
   "cell_type": "code",
   "execution_count": null,
   "metadata": {},
   "outputs": [],
   "source": []
  },
  {
   "cell_type": "markdown",
   "metadata": {},
   "source": []
  },
  {
   "cell_type": "markdown",
   "metadata": {},
   "source": [
    "## Analysis"
   ]
  },
  {
   "cell_type": "markdown",
   "metadata": {},
   "source": [
    "### Bournemouth, Christchurch and Poole Council "
   ]
  },
  {
   "cell_type": "code",
   "execution_count": 164,
   "metadata": {},
   "outputs": [
    {
     "name": "stdout",
     "output_type": "stream",
     "text": [
      "no. of entities in left table (Bournemouth Borough Council) = 50\n",
      "no. of entities in right table  (Bournemouth, Christchurch and Poole Council)= 344\n",
      "\n",
      "Checking entity match on `reference` field\n",
      "_merge\n",
      "right_only    296\n",
      "both           48\n",
      "left_only       2\n",
      "Name: count, dtype: int64\n",
      "\n",
      "comparing field match % for entities matched on `reference` field\n"
     ]
    },
    {
     "data": {
      "text/html": [
       "<div>\n",
       "<style scoped>\n",
       "    .dataframe tbody tr th:only-of-type {\n",
       "        vertical-align: middle;\n",
       "    }\n",
       "\n",
       "    .dataframe tbody tr th {\n",
       "        vertical-align: top;\n",
       "    }\n",
       "\n",
       "    .dataframe thead th {\n",
       "        text-align: right;\n",
       "    }\n",
       "</style>\n",
       "<table border=\"1\" class=\"dataframe\">\n",
       "  <thead>\n",
       "    <tr style=\"text-align: right;\">\n",
       "      <th>index</th>\n",
       "      <th>name</th>\n",
       "      <th>point</th>\n",
       "      <th>site</th>\n",
       "      <th>site-address</th>\n",
       "    </tr>\n",
       "  </thead>\n",
       "  <tbody>\n",
       "    <tr>\n",
       "      <th>x_y_pct_match</th>\n",
       "      <td>1.0</td>\n",
       "      <td>0.0</td>\n",
       "      <td>0.0</td>\n",
       "      <td>0.708333</td>\n",
       "    </tr>\n",
       "  </tbody>\n",
       "</table>\n",
       "</div>"
      ],
      "text/plain": [
       "index          name  point  site  site-address\n",
       "x_y_pct_match   1.0    0.0   0.0      0.708333"
      ]
     },
     "execution_count": 164,
     "metadata": {},
     "output_type": "execute_result"
    }
   ],
   "source": [
    "ox = 47\n",
    "oy = 54\n",
    "\n",
    "cross_ref = check_matches(ox, oy, [\"reference\"])\n",
    "cr_matches = cross_ref[cross_ref[\"_merge\"] == \"both\"][\"reference\"]\n",
    "\n",
    "print()\n",
    "print(\"Checking entity match on `reference` field\")\n",
    "print(cross_ref.value_counts(\"_merge\"))\n",
    "\n",
    "print()\n",
    "print(\"comparing field match % for entities matched on `reference` field\")\n",
    "compare_match_fields(ox, oy, cr_matches, [\"name\", \"point\", \"site\", \"site-address\"])"
   ]
  },
  {
   "cell_type": "code",
   "execution_count": 162,
   "metadata": {},
   "outputs": [
    {
     "name": "stdout",
     "output_type": "stream",
     "text": [
      "no. of entities in left table (Christchurch Borough Council) = 41\n",
      "no. of entities in right table  (Bournemouth, Christchurch and Poole Council)= 344\n",
      "\n",
      "Checking entity match on `reference` field\n",
      "_merge\n",
      "right_only    305\n",
      "both           39\n",
      "left_only       2\n",
      "Name: count, dtype: int64\n",
      "\n",
      "comparing field match % for entities matched on `reference` field\n"
     ]
    },
    {
     "data": {
      "text/html": [
       "<div>\n",
       "<style scoped>\n",
       "    .dataframe tbody tr th:only-of-type {\n",
       "        vertical-align: middle;\n",
       "    }\n",
       "\n",
       "    .dataframe tbody tr th {\n",
       "        vertical-align: top;\n",
       "    }\n",
       "\n",
       "    .dataframe thead th {\n",
       "        text-align: right;\n",
       "    }\n",
       "</style>\n",
       "<table border=\"1\" class=\"dataframe\">\n",
       "  <thead>\n",
       "    <tr style=\"text-align: right;\">\n",
       "      <th>index</th>\n",
       "      <th>name</th>\n",
       "      <th>point</th>\n",
       "      <th>site</th>\n",
       "      <th>site-address</th>\n",
       "    </tr>\n",
       "  </thead>\n",
       "  <tbody>\n",
       "    <tr>\n",
       "      <th>x_y_pct_match</th>\n",
       "      <td>1.0</td>\n",
       "      <td>0.0</td>\n",
       "      <td>0.0</td>\n",
       "      <td>1.0</td>\n",
       "    </tr>\n",
       "  </tbody>\n",
       "</table>\n",
       "</div>"
      ],
      "text/plain": [
       "index          name  point  site  site-address\n",
       "x_y_pct_match   1.0    0.0   0.0           1.0"
      ]
     },
     "execution_count": 162,
     "metadata": {},
     "output_type": "execute_result"
    }
   ],
   "source": [
    "ox = 78\n",
    "oy = 54\n",
    "\n",
    "cross_ref = check_matches(ox, oy, [\"reference\"])\n",
    "cr_matches = cross_ref[cross_ref[\"_merge\"] == \"both\"][\"reference\"]\n",
    "\n",
    "print()\n",
    "print(\"Checking entity match on `reference` field\")\n",
    "print(cross_ref.value_counts(\"_merge\"))\n",
    "\n",
    "print()\n",
    "print(\"comparing field match % for entities matched on `reference` field\")\n",
    "compare_match_fields(ox, oy, cr_matches, [\"name\", \"point\", \"site\", \"site-address\"])"
   ]
  },
  {
   "cell_type": "code",
   "execution_count": 166,
   "metadata": {},
   "outputs": [
    {
     "name": "stdout",
     "output_type": "stream",
     "text": [
      "no. of entities in left table (Borough of Poole) = 122\n",
      "no. of entities in right table  (Bournemouth, Christchurch and Poole Council)= 344\n",
      "\n",
      "Checking entity match on `reference` field\n",
      "_merge\n",
      "right_only    255\n",
      "both           89\n",
      "left_only      33\n",
      "Name: count, dtype: int64\n",
      "\n",
      "comparing field match % for entities matched on `reference` field\n"
     ]
    },
    {
     "data": {
      "text/html": [
       "<div>\n",
       "<style scoped>\n",
       "    .dataframe tbody tr th:only-of-type {\n",
       "        vertical-align: middle;\n",
       "    }\n",
       "\n",
       "    .dataframe tbody tr th {\n",
       "        vertical-align: top;\n",
       "    }\n",
       "\n",
       "    .dataframe thead th {\n",
       "        text-align: right;\n",
       "    }\n",
       "</style>\n",
       "<table border=\"1\" class=\"dataframe\">\n",
       "  <thead>\n",
       "    <tr style=\"text-align: right;\">\n",
       "      <th>index</th>\n",
       "      <th>name</th>\n",
       "      <th>point</th>\n",
       "      <th>site</th>\n",
       "      <th>site-address</th>\n",
       "    </tr>\n",
       "  </thead>\n",
       "  <tbody>\n",
       "    <tr>\n",
       "      <th>x_y_pct_match</th>\n",
       "      <td>1.0</td>\n",
       "      <td>0.0</td>\n",
       "      <td>0.0</td>\n",
       "      <td>0.741573</td>\n",
       "    </tr>\n",
       "  </tbody>\n",
       "</table>\n",
       "</div>"
      ],
      "text/plain": [
       "index          name  point  site  site-address\n",
       "x_y_pct_match   1.0    0.0   0.0      0.741573"
      ]
     },
     "execution_count": 166,
     "metadata": {},
     "output_type": "execute_result"
    }
   ],
   "source": [
    "ox = 254\n",
    "oy = 54\n",
    "\n",
    "cross_ref = check_matches(ox, oy, [\"reference\"])\n",
    "cr_matches = cross_ref[cross_ref[\"_merge\"] == \"both\"][\"reference\"]\n",
    "\n",
    "print()\n",
    "print(\"Checking entity match on `reference` field\")\n",
    "print(cross_ref.value_counts(\"_merge\"))\n",
    "\n",
    "print()\n",
    "print(\"comparing field match % for entities matched on `reference` field\")\n",
    "compare_match_fields(ox, oy, cr_matches, [\"name\", \"point\", \"site\", \"site-address\"])"
   ]
  },
  {
   "cell_type": "markdown",
   "metadata": {},
   "source": [
    "### Buckinghamshire Council"
   ]
  },
  {
   "cell_type": "code",
   "execution_count": 170,
   "metadata": {},
   "outputs": [
    {
     "name": "stdout",
     "output_type": "stream",
     "text": [
      "no. of entities in left table (Aylesbury Vale District Council) = 17\n",
      "no. of entities in right table  (Buckinghamshire Council)= 139\n",
      "\n",
      "Checking entity match on `reference` field\n",
      "_merge\n",
      "right_only    138\n",
      "left_only      16\n",
      "both            1\n",
      "Name: count, dtype: int64\n",
      "\n",
      "comparing field match % for entities matched on `reference` field\n"
     ]
    },
    {
     "data": {
      "text/html": [
       "<div>\n",
       "<style scoped>\n",
       "    .dataframe tbody tr th:only-of-type {\n",
       "        vertical-align: middle;\n",
       "    }\n",
       "\n",
       "    .dataframe tbody tr th {\n",
       "        vertical-align: top;\n",
       "    }\n",
       "\n",
       "    .dataframe thead th {\n",
       "        text-align: right;\n",
       "    }\n",
       "</style>\n",
       "<table border=\"1\" class=\"dataframe\">\n",
       "  <thead>\n",
       "    <tr style=\"text-align: right;\">\n",
       "      <th>index</th>\n",
       "      <th>name</th>\n",
       "      <th>point</th>\n",
       "      <th>site</th>\n",
       "      <th>site-address</th>\n",
       "    </tr>\n",
       "  </thead>\n",
       "  <tbody>\n",
       "    <tr>\n",
       "      <th>x_y_pct_match</th>\n",
       "      <td>1.0</td>\n",
       "      <td>1.0</td>\n",
       "      <td>0.0</td>\n",
       "      <td>1.0</td>\n",
       "    </tr>\n",
       "  </tbody>\n",
       "</table>\n",
       "</div>"
      ],
      "text/plain": [
       "index          name  point  site  site-address\n",
       "x_y_pct_match   1.0    1.0   0.0           1.0"
      ]
     },
     "execution_count": 170,
     "metadata": {},
     "output_type": "execute_result"
    }
   ],
   "source": [
    "ox = 32\n",
    "oy = 67\n",
    "\n",
    "cross_ref = check_matches(ox, oy, [\"reference\"])\n",
    "cr_matches = cross_ref[cross_ref[\"_merge\"] == \"both\"][\"reference\"]\n",
    "\n",
    "print()\n",
    "print(\"Checking entity match on `reference` field\")\n",
    "print(cross_ref.value_counts(\"_merge\"))\n",
    "\n",
    "print()\n",
    "print(\"comparing field match % for entities matched on `reference` field\")\n",
    "compare_match_fields(ox, oy, cr_matches, [\"name\", \"point\", \"site\", \"site-address\"])"
   ]
  },
  {
   "cell_type": "code",
   "execution_count": 171,
   "metadata": {},
   "outputs": [
    {
     "name": "stdout",
     "output_type": "stream",
     "text": [
      "no. of entities in left table (Chiltern District Council) = 51\n",
      "no. of entities in right table  (Buckinghamshire Council)= 139\n",
      "\n",
      "Checking entity match on `reference` field\n",
      "_merge\n",
      "right_only    115\n",
      "left_only      27\n",
      "both           24\n",
      "Name: count, dtype: int64\n",
      "\n",
      "comparing field match % for entities matched on `reference` field\n"
     ]
    },
    {
     "data": {
      "text/html": [
       "<div>\n",
       "<style scoped>\n",
       "    .dataframe tbody tr th:only-of-type {\n",
       "        vertical-align: middle;\n",
       "    }\n",
       "\n",
       "    .dataframe tbody tr th {\n",
       "        vertical-align: top;\n",
       "    }\n",
       "\n",
       "    .dataframe thead th {\n",
       "        text-align: right;\n",
       "    }\n",
       "</style>\n",
       "<table border=\"1\" class=\"dataframe\">\n",
       "  <thead>\n",
       "    <tr style=\"text-align: right;\">\n",
       "      <th>index</th>\n",
       "      <th>name</th>\n",
       "      <th>point</th>\n",
       "      <th>site</th>\n",
       "      <th>site-address</th>\n",
       "    </tr>\n",
       "  </thead>\n",
       "  <tbody>\n",
       "    <tr>\n",
       "      <th>x_y_pct_match</th>\n",
       "      <td>1.0</td>\n",
       "      <td>0.0</td>\n",
       "      <td>0.0</td>\n",
       "      <td>0.125</td>\n",
       "    </tr>\n",
       "  </tbody>\n",
       "</table>\n",
       "</div>"
      ],
      "text/plain": [
       "index          name  point  site  site-address\n",
       "x_y_pct_match   1.0    0.0   0.0         0.125"
      ]
     },
     "execution_count": 171,
     "metadata": {},
     "output_type": "execute_result"
    }
   ],
   "source": [
    "ox = 82\n",
    "oy = 67\n",
    "\n",
    "cross_ref = check_matches(ox, oy, [\"reference\"])\n",
    "cr_matches = cross_ref[cross_ref[\"_merge\"] == \"both\"][\"reference\"]\n",
    "\n",
    "print()\n",
    "print(\"Checking entity match on `reference` field\")\n",
    "print(cross_ref.value_counts(\"_merge\"))\n",
    "\n",
    "print()\n",
    "print(\"comparing field match % for entities matched on `reference` field\")\n",
    "compare_match_fields(ox, oy, cr_matches, [\"name\", \"point\", \"site\", \"site-address\"])"
   ]
  },
  {
   "cell_type": "code",
   "execution_count": 173,
   "metadata": {},
   "outputs": [
    {
     "name": "stdout",
     "output_type": "stream",
     "text": [
      "no. of entities in left table (South Bucks District Council) = 37\n",
      "no. of entities in right table  (Buckinghamshire Council)= 139\n",
      "\n",
      "Checking entity match on `reference` field\n",
      "_merge\n",
      "right_only    120\n",
      "both           19\n",
      "left_only      18\n",
      "Name: count, dtype: int64\n",
      "\n",
      "comparing field match % for entities matched on `reference` field\n"
     ]
    },
    {
     "data": {
      "text/html": [
       "<div>\n",
       "<style scoped>\n",
       "    .dataframe tbody tr th:only-of-type {\n",
       "        vertical-align: middle;\n",
       "    }\n",
       "\n",
       "    .dataframe tbody tr th {\n",
       "        vertical-align: top;\n",
       "    }\n",
       "\n",
       "    .dataframe thead th {\n",
       "        text-align: right;\n",
       "    }\n",
       "</style>\n",
       "<table border=\"1\" class=\"dataframe\">\n",
       "  <thead>\n",
       "    <tr style=\"text-align: right;\">\n",
       "      <th>index</th>\n",
       "      <th>name</th>\n",
       "      <th>point</th>\n",
       "      <th>site</th>\n",
       "      <th>site-address</th>\n",
       "    </tr>\n",
       "  </thead>\n",
       "  <tbody>\n",
       "    <tr>\n",
       "      <th>x_y_pct_match</th>\n",
       "      <td>1.0</td>\n",
       "      <td>0.0</td>\n",
       "      <td>0.0</td>\n",
       "      <td>0.263158</td>\n",
       "    </tr>\n",
       "  </tbody>\n",
       "</table>\n",
       "</div>"
      ],
      "text/plain": [
       "index          name  point  site  site-address\n",
       "x_y_pct_match   1.0    0.0   0.0      0.263158"
      ]
     },
     "execution_count": 173,
     "metadata": {},
     "output_type": "execute_result"
    }
   ],
   "source": [
    "ox = 280\n",
    "oy = 67\n",
    "\n",
    "cross_ref = check_matches(ox, oy, [\"reference\"])\n",
    "cr_matches = cross_ref[cross_ref[\"_merge\"] == \"both\"][\"reference\"]\n",
    "\n",
    "print()\n",
    "print(\"Checking entity match on `reference` field\")\n",
    "print(cross_ref.value_counts(\"_merge\"))\n",
    "\n",
    "print()\n",
    "print(\"comparing field match % for entities matched on `reference` field\")\n",
    "compare_match_fields(ox, oy, cr_matches, [\"name\", \"point\", \"site\", \"site-address\"])"
   ]
  },
  {
   "cell_type": "code",
   "execution_count": 175,
   "metadata": {},
   "outputs": [
    {
     "name": "stdout",
     "output_type": "stream",
     "text": [
      "no. of entities in left table (Wycombe District Council) = 47\n",
      "no. of entities in right table  (Buckinghamshire Council)= 139\n",
      "\n",
      "Checking entity match on `reference` field\n",
      "_merge\n",
      "right_only    139\n",
      "left_only      47\n",
      "both            0\n",
      "Name: count, dtype: int64\n",
      "\n",
      "comparing field match % for entities matched on `reference` field\n"
     ]
    },
    {
     "data": {
      "text/html": [
       "<div>\n",
       "<style scoped>\n",
       "    .dataframe tbody tr th:only-of-type {\n",
       "        vertical-align: middle;\n",
       "    }\n",
       "\n",
       "    .dataframe tbody tr th {\n",
       "        vertical-align: top;\n",
       "    }\n",
       "\n",
       "    .dataframe thead th {\n",
       "        text-align: right;\n",
       "    }\n",
       "</style>\n",
       "<table border=\"1\" class=\"dataframe\">\n",
       "  <thead>\n",
       "    <tr style=\"text-align: right;\">\n",
       "      <th>index</th>\n",
       "    </tr>\n",
       "  </thead>\n",
       "  <tbody>\n",
       "    <tr>\n",
       "      <th>x_y_pct_match</th>\n",
       "    </tr>\n",
       "  </tbody>\n",
       "</table>\n",
       "</div>"
      ],
      "text/plain": [
       "Empty DataFrame\n",
       "Columns: []\n",
       "Index: [x_y_pct_match]"
      ]
     },
     "execution_count": 175,
     "metadata": {},
     "output_type": "execute_result"
    }
   ],
   "source": [
    "ox = 393\n",
    "oy = 67\n",
    "\n",
    "cross_ref = check_matches(ox, oy, [\"reference\"])\n",
    "cr_matches = cross_ref[cross_ref[\"_merge\"] == \"both\"][\"reference\"]\n",
    "\n",
    "print()\n",
    "print(\"Checking entity match on `reference` field\")\n",
    "print(cross_ref.value_counts(\"_merge\"))\n",
    "\n",
    "print()\n",
    "print(\"comparing field match % for entities matched on `reference` field\")\n",
    "compare_match_fields(ox, oy, cr_matches, [\"name\", \"point\", \"site\", \"site-address\"])"
   ]
  },
  {
   "cell_type": "markdown",
   "metadata": {},
   "source": [
    "### Dorset"
   ]
  },
  {
   "cell_type": "code",
   "execution_count": 178,
   "metadata": {},
   "outputs": [
    {
     "name": "stdout",
     "output_type": "stream",
     "text": [
      "no. of entities in left table (East Dorset District Council) = 29\n",
      "no. of entities in right table  (Dorset Council)= 83\n",
      "\n",
      "Checking entity match on `reference` field\n",
      "_merge\n",
      "right_only    83\n",
      "left_only     29\n",
      "both           0\n",
      "Name: count, dtype: int64\n",
      "\n",
      "comparing field match % for entities matched on `reference` field\n"
     ]
    },
    {
     "data": {
      "text/html": [
       "<div>\n",
       "<style scoped>\n",
       "    .dataframe tbody tr th:only-of-type {\n",
       "        vertical-align: middle;\n",
       "    }\n",
       "\n",
       "    .dataframe tbody tr th {\n",
       "        vertical-align: top;\n",
       "    }\n",
       "\n",
       "    .dataframe thead th {\n",
       "        text-align: right;\n",
       "    }\n",
       "</style>\n",
       "<table border=\"1\" class=\"dataframe\">\n",
       "  <thead>\n",
       "    <tr style=\"text-align: right;\">\n",
       "      <th>index</th>\n",
       "    </tr>\n",
       "  </thead>\n",
       "  <tbody>\n",
       "    <tr>\n",
       "      <th>x_y_pct_match</th>\n",
       "    </tr>\n",
       "  </tbody>\n",
       "</table>\n",
       "</div>"
      ],
      "text/plain": [
       "Empty DataFrame\n",
       "Columns: []\n",
       "Index: [x_y_pct_match]"
      ]
     },
     "execution_count": 178,
     "metadata": {},
     "output_type": "execute_result"
    }
   ],
   "source": [
    "ox = 121\n",
    "oy = 112\n",
    "\n",
    "cross_ref = check_matches(ox, oy, [\"reference\"])\n",
    "cr_matches = cross_ref[cross_ref[\"_merge\"] == \"both\"][\"reference\"]\n",
    "\n",
    "print()\n",
    "print(\"Checking entity match on `reference` field\")\n",
    "print(cross_ref.value_counts(\"_merge\"))\n",
    "\n",
    "print()\n",
    "print(\"comparing field match % for entities matched on `reference` field\")\n",
    "compare_match_fields(ox, oy, cr_matches, [\"name\", \"point\", \"site\", \"site-address\"])"
   ]
  },
  {
   "cell_type": "code",
   "execution_count": 179,
   "metadata": {},
   "outputs": [
    {
     "name": "stdout",
     "output_type": "stream",
     "text": [
      "no. of entities in left table (North Dorset District Council) = 16\n",
      "no. of entities in right table  (Dorset Council)= 83\n",
      "\n",
      "Checking entity match on `reference` field\n",
      "_merge\n",
      "right_only    83\n",
      "left_only     16\n",
      "both           0\n",
      "Name: count, dtype: int64\n",
      "\n",
      "comparing field match % for entities matched on `reference` field\n"
     ]
    },
    {
     "data": {
      "text/html": [
       "<div>\n",
       "<style scoped>\n",
       "    .dataframe tbody tr th:only-of-type {\n",
       "        vertical-align: middle;\n",
       "    }\n",
       "\n",
       "    .dataframe tbody tr th {\n",
       "        vertical-align: top;\n",
       "    }\n",
       "\n",
       "    .dataframe thead th {\n",
       "        text-align: right;\n",
       "    }\n",
       "</style>\n",
       "<table border=\"1\" class=\"dataframe\">\n",
       "  <thead>\n",
       "    <tr style=\"text-align: right;\">\n",
       "      <th>index</th>\n",
       "    </tr>\n",
       "  </thead>\n",
       "  <tbody>\n",
       "    <tr>\n",
       "      <th>x_y_pct_match</th>\n",
       "    </tr>\n",
       "  </tbody>\n",
       "</table>\n",
       "</div>"
      ],
      "text/plain": [
       "Empty DataFrame\n",
       "Columns: []\n",
       "Index: [x_y_pct_match]"
      ]
     },
     "execution_count": 179,
     "metadata": {},
     "output_type": "execute_result"
    }
   ],
   "source": [
    "ox = 222\n",
    "oy = 112\n",
    "\n",
    "cross_ref = check_matches(ox, oy, [\"reference\"])\n",
    "cr_matches = cross_ref[cross_ref[\"_merge\"] == \"both\"][\"reference\"]\n",
    "\n",
    "print()\n",
    "print(\"Checking entity match on `reference` field\")\n",
    "print(cross_ref.value_counts(\"_merge\"))\n",
    "\n",
    "print()\n",
    "print(\"comparing field match % for entities matched on `reference` field\")\n",
    "compare_match_fields(ox, oy, cr_matches, [\"name\", \"point\", \"site\", \"site-address\"])"
   ]
  },
  {
   "cell_type": "code",
   "execution_count": 180,
   "metadata": {},
   "outputs": [
    {
     "name": "stdout",
     "output_type": "stream",
     "text": [
      "no. of entities in left table (Purbeck District Council) = 12\n",
      "no. of entities in right table  (Dorset Council)= 83\n",
      "\n",
      "Checking entity match on `reference` field\n",
      "_merge\n",
      "right_only    83\n",
      "left_only     12\n",
      "both           0\n",
      "Name: count, dtype: int64\n",
      "\n",
      "comparing field match % for entities matched on `reference` field\n"
     ]
    },
    {
     "data": {
      "text/html": [
       "<div>\n",
       "<style scoped>\n",
       "    .dataframe tbody tr th:only-of-type {\n",
       "        vertical-align: middle;\n",
       "    }\n",
       "\n",
       "    .dataframe tbody tr th {\n",
       "        vertical-align: top;\n",
       "    }\n",
       "\n",
       "    .dataframe thead th {\n",
       "        text-align: right;\n",
       "    }\n",
       "</style>\n",
       "<table border=\"1\" class=\"dataframe\">\n",
       "  <thead>\n",
       "    <tr style=\"text-align: right;\">\n",
       "      <th>index</th>\n",
       "    </tr>\n",
       "  </thead>\n",
       "  <tbody>\n",
       "    <tr>\n",
       "      <th>x_y_pct_match</th>\n",
       "    </tr>\n",
       "  </tbody>\n",
       "</table>\n",
       "</div>"
      ],
      "text/plain": [
       "Empty DataFrame\n",
       "Columns: []\n",
       "Index: [x_y_pct_match]"
      ]
     },
     "execution_count": 180,
     "metadata": {},
     "output_type": "execute_result"
    }
   ],
   "source": [
    "ox = 258\n",
    "oy = 112\n",
    "\n",
    "cross_ref = check_matches(ox, oy, [\"reference\"])\n",
    "cr_matches = cross_ref[cross_ref[\"_merge\"] == \"both\"][\"reference\"]\n",
    "\n",
    "print()\n",
    "print(\"Checking entity match on `reference` field\")\n",
    "print(cross_ref.value_counts(\"_merge\"))\n",
    "\n",
    "print()\n",
    "print(\"comparing field match % for entities matched on `reference` field\")\n",
    "compare_match_fields(ox, oy, cr_matches, [\"name\", \"point\", \"site\", \"site-address\"])"
   ]
  },
  {
   "cell_type": "code",
   "execution_count": 181,
   "metadata": {},
   "outputs": [
    {
     "name": "stdout",
     "output_type": "stream",
     "text": [
      "no. of entities in left table (West Dorset District Council) = 47\n",
      "no. of entities in right table  (Dorset Council)= 83\n",
      "\n",
      "Checking entity match on `reference` field\n",
      "_merge\n",
      "right_only    83\n",
      "left_only     47\n",
      "both           0\n",
      "Name: count, dtype: int64\n",
      "\n",
      "comparing field match % for entities matched on `reference` field\n"
     ]
    },
    {
     "data": {
      "text/html": [
       "<div>\n",
       "<style scoped>\n",
       "    .dataframe tbody tr th:only-of-type {\n",
       "        vertical-align: middle;\n",
       "    }\n",
       "\n",
       "    .dataframe tbody tr th {\n",
       "        vertical-align: top;\n",
       "    }\n",
       "\n",
       "    .dataframe thead th {\n",
       "        text-align: right;\n",
       "    }\n",
       "</style>\n",
       "<table border=\"1\" class=\"dataframe\">\n",
       "  <thead>\n",
       "    <tr style=\"text-align: right;\">\n",
       "      <th>index</th>\n",
       "    </tr>\n",
       "  </thead>\n",
       "  <tbody>\n",
       "    <tr>\n",
       "      <th>x_y_pct_match</th>\n",
       "    </tr>\n",
       "  </tbody>\n",
       "</table>\n",
       "</div>"
      ],
      "text/plain": [
       "Empty DataFrame\n",
       "Columns: []\n",
       "Index: [x_y_pct_match]"
      ]
     },
     "execution_count": 181,
     "metadata": {},
     "output_type": "execute_result"
    }
   ],
   "source": [
    "ox = 360\n",
    "oy = 112\n",
    "\n",
    "cross_ref = check_matches(ox, oy, [\"reference\"])\n",
    "cr_matches = cross_ref[cross_ref[\"_merge\"] == \"both\"][\"reference\"]\n",
    "\n",
    "print()\n",
    "print(\"Checking entity match on `reference` field\")\n",
    "print(cross_ref.value_counts(\"_merge\"))\n",
    "\n",
    "print()\n",
    "print(\"comparing field match % for entities matched on `reference` field\")\n",
    "compare_match_fields(ox, oy, cr_matches, [\"name\", \"point\", \"site\", \"site-address\"])"
   ]
  },
  {
   "cell_type": "code",
   "execution_count": 183,
   "metadata": {},
   "outputs": [
    {
     "name": "stdout",
     "output_type": "stream",
     "text": [
      "no. of entities in left table (Weymouth and Portland Borough Council) = 50\n",
      "no. of entities in right table  (Dorset Council)= 83\n",
      "\n",
      "Checking entity match on `reference` field\n",
      "_merge\n",
      "right_only    83\n",
      "left_only     50\n",
      "both           0\n",
      "Name: count, dtype: int64\n",
      "\n",
      "comparing field match % for entities matched on `reference` field\n"
     ]
    },
    {
     "data": {
      "text/html": [
       "<div>\n",
       "<style scoped>\n",
       "    .dataframe tbody tr th:only-of-type {\n",
       "        vertical-align: middle;\n",
       "    }\n",
       "\n",
       "    .dataframe tbody tr th {\n",
       "        vertical-align: top;\n",
       "    }\n",
       "\n",
       "    .dataframe thead th {\n",
       "        text-align: right;\n",
       "    }\n",
       "</style>\n",
       "<table border=\"1\" class=\"dataframe\">\n",
       "  <thead>\n",
       "    <tr style=\"text-align: right;\">\n",
       "      <th>index</th>\n",
       "    </tr>\n",
       "  </thead>\n",
       "  <tbody>\n",
       "    <tr>\n",
       "      <th>x_y_pct_match</th>\n",
       "    </tr>\n",
       "  </tbody>\n",
       "</table>\n",
       "</div>"
      ],
      "text/plain": [
       "Empty DataFrame\n",
       "Columns: []\n",
       "Index: [x_y_pct_match]"
      ]
     },
     "execution_count": 183,
     "metadata": {},
     "output_type": "execute_result"
    }
   ],
   "source": [
    "ox = 365\n",
    "oy = 112\n",
    "\n",
    "cross_ref = check_matches(ox, oy, [\"reference\"])\n",
    "cr_matches = cross_ref[cross_ref[\"_merge\"] == \"both\"][\"reference\"]\n",
    "\n",
    "print()\n",
    "print(\"Checking entity match on `reference` field\")\n",
    "print(cross_ref.value_counts(\"_merge\"))\n",
    "\n",
    "print()\n",
    "print(\"comparing field match % for entities matched on `reference` field\")\n",
    "compare_match_fields(ox, oy, cr_matches, [\"name\", \"point\", \"site\", \"site-address\"])"
   ]
  },
  {
   "cell_type": "markdown",
   "metadata": {},
   "source": [
    "### East Suffolk"
   ]
  },
  {
   "cell_type": "code",
   "execution_count": 184,
   "metadata": {},
   "outputs": [
    {
     "name": "stdout",
     "output_type": "stream",
     "text": [
      "no. of entities in left table (Suffolk Coastal District Council) = 18\n",
      "no. of entities in right table  (East Suffolk Council)= 141\n",
      "\n",
      "Checking entity match on `reference` field\n",
      "_merge\n",
      "right_only    141\n",
      "left_only      18\n",
      "both            0\n",
      "Name: count, dtype: int64\n",
      "\n",
      "comparing field match % for entities matched on `reference` field\n"
     ]
    },
    {
     "data": {
      "text/html": [
       "<div>\n",
       "<style scoped>\n",
       "    .dataframe tbody tr th:only-of-type {\n",
       "        vertical-align: middle;\n",
       "    }\n",
       "\n",
       "    .dataframe tbody tr th {\n",
       "        vertical-align: top;\n",
       "    }\n",
       "\n",
       "    .dataframe thead th {\n",
       "        text-align: right;\n",
       "    }\n",
       "</style>\n",
       "<table border=\"1\" class=\"dataframe\">\n",
       "  <thead>\n",
       "    <tr style=\"text-align: right;\">\n",
       "      <th>index</th>\n",
       "    </tr>\n",
       "  </thead>\n",
       "  <tbody>\n",
       "    <tr>\n",
       "      <th>x_y_pct_match</th>\n",
       "    </tr>\n",
       "  </tbody>\n",
       "</table>\n",
       "</div>"
      ],
      "text/plain": [
       "Empty DataFrame\n",
       "Columns: []\n",
       "Index: [x_y_pct_match]"
      ]
     },
     "execution_count": 184,
     "metadata": {},
     "output_type": "execute_result"
    }
   ],
   "source": [
    "ox = 326\n",
    "oy = 132\n",
    "\n",
    "cross_ref = check_matches(ox, oy, [\"reference\"])\n",
    "cr_matches = cross_ref[cross_ref[\"_merge\"] == \"both\"][\"reference\"]\n",
    "\n",
    "print()\n",
    "print(\"Checking entity match on `reference` field\")\n",
    "print(cross_ref.value_counts(\"_merge\"))\n",
    "\n",
    "print()\n",
    "print(\"comparing field match % for entities matched on `reference` field\")\n",
    "compare_match_fields(ox, oy, cr_matches, [\"name\", \"point\", \"site\", \"site-address\"])"
   ]
  },
  {
   "cell_type": "code",
   "execution_count": 186,
   "metadata": {},
   "outputs": [
    {
     "name": "stdout",
     "output_type": "stream",
     "text": [
      "no. of entities in left table (Waveney District Council) = 33\n",
      "no. of entities in right table  (East Suffolk Council)= 141\n",
      "\n",
      "Checking entity match on `reference` field\n",
      "_merge\n",
      "right_only    141\n",
      "left_only      33\n",
      "both            0\n",
      "Name: count, dtype: int64\n",
      "\n",
      "comparing field match % for entities matched on `reference` field\n"
     ]
    },
    {
     "data": {
      "text/html": [
       "<div>\n",
       "<style scoped>\n",
       "    .dataframe tbody tr th:only-of-type {\n",
       "        vertical-align: middle;\n",
       "    }\n",
       "\n",
       "    .dataframe tbody tr th {\n",
       "        vertical-align: top;\n",
       "    }\n",
       "\n",
       "    .dataframe thead th {\n",
       "        text-align: right;\n",
       "    }\n",
       "</style>\n",
       "<table border=\"1\" class=\"dataframe\">\n",
       "  <thead>\n",
       "    <tr style=\"text-align: right;\">\n",
       "      <th>index</th>\n",
       "    </tr>\n",
       "  </thead>\n",
       "  <tbody>\n",
       "    <tr>\n",
       "      <th>x_y_pct_match</th>\n",
       "    </tr>\n",
       "  </tbody>\n",
       "</table>\n",
       "</div>"
      ],
      "text/plain": [
       "Empty DataFrame\n",
       "Columns: []\n",
       "Index: [x_y_pct_match]"
      ]
     },
     "execution_count": 186,
     "metadata": {},
     "output_type": "execute_result"
    }
   ],
   "source": [
    "ox = 356\n",
    "oy = 132\n",
    "\n",
    "cross_ref = check_matches(ox, oy, [\"reference\"])\n",
    "cr_matches = cross_ref[cross_ref[\"_merge\"] == \"both\"][\"reference\"]\n",
    "\n",
    "print()\n",
    "print(\"Checking entity match on `reference` field\")\n",
    "print(cross_ref.value_counts(\"_merge\"))\n",
    "\n",
    "print()\n",
    "print(\"comparing field match % for entities matched on `reference` field\")\n",
    "compare_match_fields(ox, oy, cr_matches, [\"name\", \"point\", \"site\", \"site-address\"])"
   ]
  },
  {
   "cell_type": "code",
   "execution_count": 187,
   "metadata": {},
   "outputs": [
    {
     "name": "stdout",
     "output_type": "stream",
     "text": [
      "no. of entities in left table (Forest Heath District Council) = 3\n",
      "no. of entities in right table  (West Suffolk Council)= 28\n",
      "\n",
      "Checking entity match on `reference` field\n",
      "_merge\n",
      "right_only    28\n",
      "left_only      3\n",
      "both           0\n",
      "Name: count, dtype: int64\n",
      "\n",
      "comparing field match % for entities matched on `reference` field\n"
     ]
    },
    {
     "data": {
      "text/html": [
       "<div>\n",
       "<style scoped>\n",
       "    .dataframe tbody tr th:only-of-type {\n",
       "        vertical-align: middle;\n",
       "    }\n",
       "\n",
       "    .dataframe tbody tr th {\n",
       "        vertical-align: top;\n",
       "    }\n",
       "\n",
       "    .dataframe thead th {\n",
       "        text-align: right;\n",
       "    }\n",
       "</style>\n",
       "<table border=\"1\" class=\"dataframe\">\n",
       "  <thead>\n",
       "    <tr style=\"text-align: right;\">\n",
       "      <th>index</th>\n",
       "    </tr>\n",
       "  </thead>\n",
       "  <tbody>\n",
       "    <tr>\n",
       "      <th>x_y_pct_match</th>\n",
       "    </tr>\n",
       "  </tbody>\n",
       "</table>\n",
       "</div>"
      ],
      "text/plain": [
       "Empty DataFrame\n",
       "Columns: []\n",
       "Index: [x_y_pct_match]"
      ]
     },
     "execution_count": 187,
     "metadata": {},
     "output_type": "execute_result"
    }
   ],
   "source": [
    "ox = 140\n",
    "oy = 386\n",
    "\n",
    "cross_ref = check_matches(ox, oy, [\"reference\"])\n",
    "cr_matches = cross_ref[cross_ref[\"_merge\"] == \"both\"][\"reference\"]\n",
    "\n",
    "print()\n",
    "print(\"Checking entity match on `reference` field\")\n",
    "print(cross_ref.value_counts(\"_merge\"))\n",
    "\n",
    "print()\n",
    "print(\"comparing field match % for entities matched on `reference` field\")\n",
    "compare_match_fields(ox, oy, cr_matches, [\"name\", \"point\", \"site\", \"site-address\"])"
   ]
  },
  {
   "cell_type": "code",
   "execution_count": 177,
   "metadata": {},
   "outputs": [
    {
     "data": {
      "text/plain": [
       "Series([], Name: reference, dtype: object)"
      ]
     },
     "execution_count": 177,
     "metadata": {},
     "output_type": "execute_result"
    }
   ],
   "source": [
    "cr_matches"
   ]
  }
 ],
 "metadata": {
  "kernelspec": {
   "display_name": "pdp_jupyter",
   "language": "python",
   "name": "python3"
  },
  "language_info": {
   "codemirror_mode": {
    "name": "ipython",
    "version": 3
   },
   "file_extension": ".py",
   "mimetype": "text/x-python",
   "name": "python",
   "nbconvert_exporter": "python",
   "pygments_lexer": "ipython3",
   "version": "3.10.13"
  }
 },
 "nbformat": 4,
 "nbformat_minor": 2
}
