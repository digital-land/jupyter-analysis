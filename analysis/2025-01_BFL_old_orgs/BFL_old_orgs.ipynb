{
 "cells": [
  {
   "cell_type": "markdown",
   "metadata": {},
   "source": [
    "# Title\n",
    "**Author**:  Greg Slater <br>\n",
    "**Date**:  24th September 2024 <br>\n",
    "**Dataset Scope**: `dataset` <br>\n",
    "**Report Type**: Ad-hoc analysis <br>\n",
    "\n",
    "**Purpose**: Identify how to redirect and retire brownfield-land entities belonging to organisations which have been retired and replaced by new organisations (usually new Unitary Authorities).\n"
   ]
  },
  {
   "cell_type": "code",
   "execution_count": 31,
   "metadata": {},
   "outputs": [],
   "source": [
    "import pandas as pd\n",
    "import geopandas as gpd\n",
    "import numpy as np\n",
    "import os\n",
    "import urllib\n",
    "# from sqlite_query_functions import DatasetSqlite\n",
    "from datetime import datetime\n",
    "\n",
    "pd.set_option(\"display.max_rows\", 100)\n",
    "\n",
    "td = datetime.today().strftime('%Y-%m-%d')\n",
    "data_dir = \"../../data/BFL_old_orgs/\"\n",
    "os.makedirs(data_dir, exist_ok=True)\n",
    "# fn = os.path.join(data_dir, f\"FILENAME_{td}.csv\")\n"
   ]
  },
  {
   "cell_type": "markdown",
   "metadata": {},
   "source": [
    "## Data Import"
   ]
  },
  {
   "cell_type": "code",
   "execution_count": 32,
   "metadata": {},
   "outputs": [],
   "source": [
    "org_df = get_all_organisations()\n",
    "org_dict = dict(zip(org_df[\"organisation_entity\"], org_df[\"organisation\"]))\n"
   ]
  },
  {
   "cell_type": "code",
   "execution_count": null,
   "metadata": {},
   "outputs": [],
   "source": [
    "bfl = pd.read_csv(\"https://files.planning.data.gov.uk/dataset/brownfield-land.csv\", dtype=str)\n",
    "print(len(bfl))\n",
    "\n",
    "bfl.columns = [x.replace(\"-\", \"_\") for x in bfl.columns]\n",
    "# bfl[\"organisation_entity\"] = bfl[\"organisation_entity\"].astype(str)\n",
    "# bfl.to_csv(f\"brownfield-land_{td}.csv\", index = False)"
   ]
  },
  {
   "cell_type": "code",
   "execution_count": null,
   "metadata": {},
   "outputs": [],
   "source": [
    "old_ent_df= pd.read_csv(f\"https://raw.githubusercontent.com/digital-land/config/refs/heads/main/pipeline/brownfield-land/old-entity.csv\")\n",
    "print(len(old_ent_df))"
   ]
  },
  {
   "cell_type": "code",
   "execution_count": null,
   "metadata": {},
   "outputs": [],
   "source": [
    "bfl[bfl[\"entity\"] == \"1700485\"]"
   ]
  },
  {
   "cell_type": "code",
   "execution_count": 36,
   "metadata": {},
   "outputs": [],
   "source": [
    "def get_all_organisations():\n",
    "    params = urllib.parse.urlencode({\n",
    "        \"sql\": f\"\"\"\n",
    "        select entity as organisation_entity, name as org_name, organisation, dataset as org_type, end_date\n",
    "        from organisation\n",
    "        \"\"\",\n",
    "        \"_size\": \"max\"\n",
    "        })\n",
    "    url = f\"https://datasette.planning.data.gov.uk/digital-land.csv?{params}\"\n",
    "    df = pd.read_csv(url, dtype=str)\n",
    "    return df\n",
    "\n",
    "\n",
    "def datasette_query(db, sql_string):\n",
    "    params = urllib.parse.urlencode({\n",
    "        \"sql\": sql_string,\n",
    "        \"_size\": \"max\"\n",
    "        })\n",
    "    url = f\"https://datasette.planning.data.gov.uk/{db}.csv?{params}\"\n",
    "    df = pd.read_csv(url)\n",
    "    return df"
   ]
  },
  {
   "cell_type": "code",
   "execution_count": null,
   "metadata": {},
   "outputs": [],
   "source": [
    "def check_matches(org_x, org_y, match_fields):\n",
    "\n",
    "    dfx = bfl[bfl[\"organisation_entity\"] == org_x].copy()\n",
    "    dfy = bfl[bfl[\"organisation_entity\"] == org_y].copy()\n",
    "\n",
    "    orgx = org_dict[org_x]\n",
    "    orgy = org_dict[org_y]\n",
    "    print(f\"no. of entities in left table ({orgx}) = {len(dfx)}\")\n",
    "    print(f\"no. of entities in right table  ({orgy})= {len(dfy)}\")\n",
    "\n",
    "    cross_ref_df = pd.merge(\n",
    "        dfx,\n",
    "        dfy,\n",
    "        how = \"outer\",\n",
    "        on = match_fields,\n",
    "        indicator=True,\n",
    "    )[match_fields + [\"entity_x\", \"entity_y\"] + [\"_merge\"]]\n",
    "\n",
    "    # d[\"ref_matches\"] = d[\"cross_ref_df\"][d[\"cross_ref_df\"][\"_merge\"] == \"both\"][\"reference\"]\n",
    "    cross_ref_df[\"organisation_x\"] = orgx\n",
    "    cross_ref_df[\"organisation_y\"] = orgy\n",
    "    \n",
    "    return cross_ref_df\n",
    "\n",
    "cr_test = check_matches(\"47\", \"54\", [\"reference\"])\n",
    "# cr_test_matches = cr_test[cr_test[\"_merge\"] == \"both\"][\"reference\"]\n",
    "\n",
    "cr_test.value_counts(\"_merge\")"
   ]
  },
  {
   "cell_type": "code",
   "execution_count": 38,
   "metadata": {},
   "outputs": [],
   "source": [
    "def compare_match_fields(org_x, org_y, ref_matches, fields):\n",
    "\n",
    "    dfx = bfl[\n",
    "        (bfl[\"organisation_entity\"] == org_x) &\n",
    "        (bfl[\"reference\"].isin(ref_matches))].copy()\n",
    "    \n",
    "    dfy = bfl[\n",
    "        (bfl[\"organisation_entity\"] == org_y) &\n",
    "        (bfl[\"reference\"].isin(ref_matches))].copy()\n",
    "\n",
    "    # subset each table to only records which match on reference\n",
    "    matches_df1 = dfx[dfx[\"reference\"].isin(ref_matches)].copy()\n",
    "    matches_df1.set_index(\"reference\", inplace=True)\n",
    "    matches_df1.sort_index(inplace=True)\n",
    "\n",
    "    matches_df2 = dfy[dfy[\"reference\"].isin(ref_matches)].copy()\n",
    "    matches_df2.set_index(\"reference\", inplace=True)\n",
    "    matches_df2.sort_index(inplace=True)\n",
    "\n",
    "    # full comparison\n",
    "    full_comp = matches_df1 == matches_df2\n",
    "\n",
    "    # calculate match % for each field and make into neat wide table\n",
    "    results_df_nar = (full_comp[fields].sum(axis=0) / len(full_comp)).to_frame(name = \"x_y_pct_match\")\n",
    "    results_df_wide = results_df_nar.reset_index().pivot_table(columns = \"index\", values = \"x_y_pct_match\")\n",
    "    return results_df_wide\n",
    "\n",
    "# t = compare_match_fields(\"47\", \"54\", cr_test_matches, [\"name\", \"point\", \"site\", \"site_address\"])\n",
    "# t"
   ]
  },
  {
   "cell_type": "markdown",
   "metadata": {},
   "source": [
    "## Analysis"
   ]
  },
  {
   "cell_type": "markdown",
   "metadata": {},
   "source": [
    "### Check all old orgs"
   ]
  },
  {
   "cell_type": "code",
   "execution_count": null,
   "metadata": {},
   "outputs": [],
   "source": [
    "# table of all existing provisions\n",
    "bfl_prov = datasette_query(\n",
    "    \"performance\",\n",
    "    \"\"\"\n",
    "    SELECT\n",
    "        organisation, name,\n",
    "        count(distinct endpoint) as count_endpoint\n",
    "        FROM\n",
    "        reporting_historic_endpoints\n",
    "        WHERE\n",
    "        latest_status = 200\n",
    "--        AND endpoint_end_date = \"\"\n",
    "        AND pipeline = \"brownfield-land\"\n",
    "        AND resource != \"\"\n",
    "        GROUP BY organisation, name\n",
    "    \"\"\")\n",
    "\n",
    "print(len(bfl_prov))\n",
    "bfl_prov.head()"
   ]
  },
  {
   "cell_type": "code",
   "execution_count": 40,
   "metadata": {},
   "outputs": [],
   "source": [
    "# count entities per org\n",
    "bfl_ent_count = bfl.groupby([\"organisation_entity\"], as_index=False).agg(entity_count = (\"entity\", \"count\"))\n",
    "\n",
    "# bfl_ent_count"
   ]
  },
  {
   "cell_type": "code",
   "execution_count": 41,
   "metadata": {},
   "outputs": [],
   "source": [
    "# count of entities for all old orgs\n",
    "old_orgs = org_df[org_df[\"end_date\"].notnull()]\n",
    "\n",
    "\n",
    "old_org_ent_count = bfl_prov[[\"organisation\", \"name\"]].merge(\n",
    "    old_orgs[[\"organisation\", \"organisation_entity\", \"end_date\"]],\n",
    "    how = \"inner\",\n",
    "    on = \"organisation\"\n",
    ").merge(\n",
    "    bfl_ent_count,\n",
    "    how = \"left\",\n",
    "    on = \"organisation_entity\"\n",
    ")\n",
    "\n",
    "# export to manually add in new organisations\n",
    "# old_org_ent_count.to_csv(\"old_org_ent_count.csv\", index=False)"
   ]
  },
  {
   "cell_type": "code",
   "execution_count": null,
   "metadata": {},
   "outputs": [],
   "source": [
    "old_org_ent_count"
   ]
  },
  {
   "cell_type": "code",
   "execution_count": null,
   "metadata": {},
   "outputs": [],
   "source": [
    "bfl[bfl[\"organisation_entity\"] == \"32\"]"
   ]
  },
  {
   "cell_type": "code",
   "execution_count": null,
   "metadata": {},
   "outputs": [],
   "source": [
    "# read in appended version with new organisations\n",
    "old_appended = pd.read_csv(\"old_org_ent_count_appended.csv\", dtype=str)\n",
    "\n",
    "# join org lookup and then count of entities for new orgs\n",
    "old_new_cross_ref = old_appended.merge(\n",
    "    org_df[[\"org_name\", \"organisation\", \"organisation_entity\"]],\n",
    "    how = \"left\",\n",
    "    left_on = \"name_new\",\n",
    "    right_on = \"org_name\"\n",
    ").merge(\n",
    "    bfl_ent_count,\n",
    "    how = \"left\",\n",
    "    left_on = \"organisation_entity_y\",\n",
    "    right_on = \"organisation_entity\"\n",
    ").sort_values([\"name_new\", \"name\"])\n",
    "\n",
    "old_new_cross_ref.drop([\"organisation_entity\", \"org_name\"], axis=1, inplace=True)\n",
    "old_new_cross_ref.columns = [\n",
    "    \"organisation_old\", \"name_old\", \"organisation_entity_old\", \"end_date\", \"entity_count_old\",\n",
    "    \"name_new\", \"checked\", \"organisation_new\", \"organisation_entity_new\", \"entity_count_new\"\n",
    "]\n",
    "\n",
    "# save\n",
    "# old_new_cross_ref.to_csv(\"old_new_cross_ref.csv\", index=False)\n",
    "\n",
    "old_new_cross_ref.head()"
   ]
  },
  {
   "cell_type": "code",
   "execution_count": null,
   "metadata": {},
   "outputs": [],
   "source": [
    "# where there are entities for the new org, run check_matches to work out which old and new org entities match on reference and site_address\n",
    "# matches will be redirected to new org entities, old org entities with no match will be retired.\n",
    "org_redirects = old_new_cross_ref[old_new_cross_ref[\"entity_count_new\"].notnull()]\n",
    "\n",
    "org_redirects_df = pd.concat([\n",
    "    check_matches(\n",
    "        r[\"organisation_entity_old\"], \n",
    "        r[\"organisation_entity_new\"], \n",
    "        [\"reference\", \"site_address\"]\n",
    "        ) \n",
    "    for i, r in org_redirects.iterrows()]\n",
    ")\n",
    "\n",
    "print(len(org_redirects_df))\n",
    "org_redirects_df.head()"
   ]
  },
  {
   "cell_type": "code",
   "execution_count": null,
   "metadata": {},
   "outputs": [],
   "source": [
    "org_redirects_df.value_counts(\"_merge\")"
   ]
  },
  {
   "cell_type": "code",
   "execution_count": 121,
   "metadata": {},
   "outputs": [],
   "source": [
    "# create output for brownfield-land old-entity.csv\n",
    "# where entities have matched (both), redirect, and where they haven't (left only), retire\n",
    "org_redirects_df[\"old_entity_entry\"] = np.select(\n",
    "    [\n",
    "        org_redirects_df[\"_merge\"] == \"both\",\n",
    "        org_redirects_df[\"_merge\"] == \"left_only\",\n",
    "    ],\n",
    "    [\n",
    "        org_redirects_df[\"entity_x\"] + \",301,\" + org_redirects_df[\"entity_y\"] + \",redirect due to organisation merge \" + org_redirects_df[\"organisation_x\"] + \" to \" + org_redirects_df[\"organisation_y\"] + \",,,\",\n",
    "        org_redirects_df[\"entity_x\"] + \",410,\" + \",retire due to organisation merge \" + org_redirects_df[\"organisation_x\"] + \" to \" + org_redirects_df[\"organisation_y\"] + \",,,\",\n",
    "    ],\n",
    "    default = \"\"\n",
    ")\n",
    "\n",
    "# filter to redirects and retires only, sort for readability and save\n",
    "org_redirects_df[org_redirects_df[\"_merge\"] != \"right_only\"].sort_values([\"organisation_y\", \"organisation_x\", \"_merge\"]).to_csv(\"old_entity_entries.csv\", index = False)"
   ]
  },
  {
   "cell_type": "code",
   "execution_count": null,
   "metadata": {},
   "outputs": [],
   "source": [
    "# breakdown to see how many redirects and retires per old org to new org\n",
    "redirect_breakdown = org_redirects_df[org_redirects_df[\"_merge\"] != \"right_only\"].groupby(\n",
    "    [\"organisation_x\", \"organisation_y\", \"_merge\"]\n",
    "    , observed=True, \n",
    "    as_index=False\n",
    "    ).size().sort_values(\n",
    "        [\"organisation_y\", \"organisation_x\", \"_merge\"]\n",
    "    )\n",
    "\n",
    "print(redirect_breakdown[\"size\"].sum())\n",
    "redirect_breakdown"
   ]
  },
  {
   "cell_type": "code",
   "execution_count": null,
   "metadata": {},
   "outputs": [],
   "source": [
    "old_new_cross_ref[old_new_cross_ref[\"entity_count_new\"].notnull()][\"entity_count_old\"].astype(float).sum()"
   ]
  },
  {
   "cell_type": "markdown",
   "metadata": {},
   "source": [
    "### Check retires and redirects made to already redirected ents"
   ]
  },
  {
   "cell_type": "code",
   "execution_count": null,
   "metadata": {},
   "outputs": [],
   "source": [
    "old_ent_df[old_ent_df[\"old-entity\"].isin(old_ent_df[\"entity\"])]"
   ]
  },
  {
   "cell_type": "code",
   "execution_count": null,
   "metadata": {},
   "outputs": [],
   "source": []
  },
  {
   "cell_type": "code",
   "execution_count": null,
   "metadata": {},
   "outputs": [],
   "source": []
  },
  {
   "cell_type": "code",
   "execution_count": null,
   "metadata": {},
   "outputs": [],
   "source": []
  },
  {
   "cell_type": "markdown",
   "metadata": {},
   "source": [
    "## Per org replacement, check count of entities and match %s across different fields.\n",
    "### Bournemouth, Christchurch and Poole Council "
   ]
  },
  {
   "cell_type": "code",
   "execution_count": null,
   "metadata": {},
   "outputs": [],
   "source": [
    "ox = \"47\"\n",
    "oy = \"54\"\n",
    "\n",
    "cross_ref = check_matches(ox, oy, [\"reference\"])\n",
    "cr_matches = cross_ref[cross_ref[\"_merge\"] == \"both\"][\"reference\"]\n",
    "\n",
    "print()\n",
    "print(\"Checking entity match on `reference` field\")\n",
    "print(cross_ref.value_counts(\"_merge\"))\n",
    "\n",
    "print()\n",
    "print(\"comparing field match % for entities matched on `reference` field\")\n",
    "compare_match_fields(ox, oy, cr_matches, [\"name\", \"point\", \"site\", \"site_address\"])"
   ]
  },
  {
   "cell_type": "code",
   "execution_count": null,
   "metadata": {},
   "outputs": [],
   "source": [
    "ox = \"78\"\n",
    "oy = \"54\"\n",
    "\n",
    "cross_ref = check_matches(ox, oy, [\"reference\"])\n",
    "cr_matches = cross_ref[cross_ref[\"_merge\"] == \"both\"][\"reference\"]\n",
    "\n",
    "print()\n",
    "print(\"Checking entity match on `reference` field\")\n",
    "print(cross_ref.value_counts(\"_merge\"))\n",
    "\n",
    "print()\n",
    "print(\"comparing field match % for entities matched on `reference` field\")\n",
    "compare_match_fields(ox, oy, cr_matches, [\"name\", \"point\", \"site\", \"site_address\"])"
   ]
  },
  {
   "cell_type": "code",
   "execution_count": null,
   "metadata": {},
   "outputs": [],
   "source": [
    "ox = \"254\"\n",
    "oy = \"54\"\n",
    "\n",
    "cross_ref = check_matches(ox, oy, [\"reference\"])\n",
    "cr_matches = cross_ref[cross_ref[\"_merge\"] == \"both\"][\"reference\"]\n",
    "\n",
    "print()\n",
    "print(\"Checking entity match on `reference` field\")\n",
    "print(cross_ref.value_counts(\"_merge\"))\n",
    "\n",
    "print()\n",
    "print(\"comparing field match % for entities matched on `reference` field\")\n",
    "compare_match_fields(ox, oy, cr_matches, [\"name\", \"point\", \"site\", \"site_address\"])"
   ]
  },
  {
   "cell_type": "markdown",
   "metadata": {},
   "source": [
    "### Buckinghamshire Council"
   ]
  },
  {
   "cell_type": "code",
   "execution_count": null,
   "metadata": {},
   "outputs": [],
   "source": [
    "ox = \"32\"\n",
    "oy = \"67\"\n",
    "\n",
    "cross_ref = check_matches(ox, oy, [\"reference\"])\n",
    "cr_matches = cross_ref[cross_ref[\"_merge\"] == \"both\"][\"reference\"]\n",
    "\n",
    "print()\n",
    "print(\"Checking entity match on `reference` field\")\n",
    "print(cross_ref.value_counts(\"_merge\"))\n",
    "\n",
    "print()\n",
    "print(\"comparing field match % for entities matched on `reference` field\")\n",
    "compare_match_fields(ox, oy, cr_matches, [\"name\", \"point\", \"site\", \"site_address\"])"
   ]
  },
  {
   "cell_type": "code",
   "execution_count": null,
   "metadata": {},
   "outputs": [],
   "source": [
    "ox = \"82\"\n",
    "oy = \"67\"\n",
    "\n",
    "cross_ref = check_matches(ox, oy, [\"reference\"])\n",
    "cr_matches = cross_ref[cross_ref[\"_merge\"] == \"both\"][\"reference\"]\n",
    "\n",
    "print()\n",
    "print(\"Checking entity match on `reference` field\")\n",
    "print(cross_ref.value_counts(\"_merge\"))\n",
    "\n",
    "print()\n",
    "print(\"comparing field match % for entities matched on `reference` field\")\n",
    "compare_match_fields(ox, oy, cr_matches, [\"name\", \"point\", \"site\", \"site_address\"])"
   ]
  },
  {
   "cell_type": "code",
   "execution_count": null,
   "metadata": {},
   "outputs": [],
   "source": [
    "ox = \"280\"\n",
    "oy = \"67\"\n",
    "\n",
    "cross_ref = check_matches(ox, oy, [\"reference\"])\n",
    "cr_matches = cross_ref[cross_ref[\"_merge\"] == \"both\"][\"reference\"]\n",
    "\n",
    "print()\n",
    "print(\"Checking entity match on `reference` field\")\n",
    "print(cross_ref.value_counts(\"_merge\"))\n",
    "\n",
    "print()\n",
    "print(\"comparing field match % for entities matched on `reference` field\")\n",
    "compare_match_fields(ox, oy, cr_matches, [\"name\", \"point\", \"site\", \"site_address\"])"
   ]
  },
  {
   "cell_type": "code",
   "execution_count": null,
   "metadata": {},
   "outputs": [],
   "source": [
    "ox = \"393\"\n",
    "oy = \"67\"\n",
    "\n",
    "cross_ref = check_matches(ox, oy, [\"reference\"])\n",
    "cr_matches = cross_ref[cross_ref[\"_merge\"] == \"both\"][\"reference\"]\n",
    "\n",
    "print()\n",
    "print(\"Checking entity match on `reference` field\")\n",
    "print(cross_ref.value_counts(\"_merge\"))\n",
    "\n",
    "print()\n",
    "print(\"comparing field match % for entities matched on `reference` field\")\n",
    "compare_match_fields(ox, oy, cr_matches, [\"name\", \"point\", \"site\", \"site_address\"])"
   ]
  },
  {
   "cell_type": "markdown",
   "metadata": {},
   "source": [
    "### Dorset"
   ]
  },
  {
   "cell_type": "code",
   "execution_count": null,
   "metadata": {},
   "outputs": [],
   "source": [
    "ox = \"121\"\n",
    "oy = \"112\"\n",
    "\n",
    "cross_ref = check_matches(ox, oy, [\"reference\"])\n",
    "cr_matches = cross_ref[cross_ref[\"_merge\"] == \"both\"][\"reference\"]\n",
    "\n",
    "print()\n",
    "print(\"Checking entity match on `reference` field\")\n",
    "print(cross_ref.value_counts(\"_merge\"))\n",
    "\n",
    "print()\n",
    "print(\"comparing field match % for entities matched on `reference` field\")\n",
    "compare_match_fields(ox, oy, cr_matches, [\"name\", \"point\", \"site\", \"site_address\"])"
   ]
  },
  {
   "cell_type": "code",
   "execution_count": null,
   "metadata": {},
   "outputs": [],
   "source": [
    "ox = \"222\"\n",
    "oy = \"112\"\n",
    "\n",
    "cross_ref = check_matches(ox, oy, [\"reference\"])\n",
    "cr_matches = cross_ref[cross_ref[\"_merge\"] == \"both\"][\"reference\"]\n",
    "\n",
    "print()\n",
    "print(\"Checking entity match on `reference` field\")\n",
    "print(cross_ref.value_counts(\"_merge\"))\n",
    "\n",
    "print()\n",
    "print(\"comparing field match % for entities matched on `reference` field\")\n",
    "compare_match_fields(ox, oy, cr_matches, [\"name\", \"point\", \"site\", \"site_address\"])"
   ]
  },
  {
   "cell_type": "code",
   "execution_count": null,
   "metadata": {},
   "outputs": [],
   "source": [
    "ox = \"258\"\n",
    "oy = \"112\"\n",
    "\n",
    "cross_ref = check_matches(ox, oy, [\"reference\"])\n",
    "cr_matches = cross_ref[cross_ref[\"_merge\"] == \"both\"][\"reference\"]\n",
    "\n",
    "print()\n",
    "print(\"Checking entity match on `reference` field\")\n",
    "print(cross_ref.value_counts(\"_merge\"))\n",
    "\n",
    "print()\n",
    "print(\"comparing field match % for entities matched on `reference` field\")\n",
    "compare_match_fields(ox, oy, cr_matches, [\"name\", \"point\", \"site\", \"site-address\"])"
   ]
  },
  {
   "cell_type": "code",
   "execution_count": null,
   "metadata": {},
   "outputs": [],
   "source": [
    "ox = \"360\"\n",
    "oy = \"112\"\n",
    "\n",
    "cross_ref = check_matches(ox, oy, [\"reference\"])\n",
    "cr_matches = cross_ref[cross_ref[\"_merge\"] == \"both\"][\"reference\"]\n",
    "\n",
    "print()\n",
    "print(\"Checking entity match on `reference` field\")\n",
    "print(cross_ref.value_counts(\"_merge\"))\n",
    "\n",
    "print()\n",
    "print(\"comparing field match % for entities matched on `reference` field\")\n",
    "compare_match_fields(ox, oy, cr_matches, [\"name\", \"point\", \"site\", \"site_address\"])"
   ]
  },
  {
   "cell_type": "code",
   "execution_count": null,
   "metadata": {},
   "outputs": [],
   "source": [
    "ox = \"365\"\n",
    "oy = \"112\"\n",
    "\n",
    "cross_ref = check_matches(ox, oy, [\"reference\"])\n",
    "cr_matches = cross_ref[cross_ref[\"_merge\"] == \"both\"][\"reference\"]\n",
    "\n",
    "print()\n",
    "print(\"Checking entity match on `reference` field\")\n",
    "print(cross_ref.value_counts(\"_merge\"))\n",
    "\n",
    "print()\n",
    "print(\"comparing field match % for entities matched on `reference` field\")\n",
    "compare_match_fields(ox, oy, cr_matches, [\"name\", \"point\", \"site\", \"site-address\"])"
   ]
  },
  {
   "cell_type": "markdown",
   "metadata": {},
   "source": [
    "### East Suffolk"
   ]
  },
  {
   "cell_type": "code",
   "execution_count": null,
   "metadata": {},
   "outputs": [],
   "source": [
    "ox = \"326\"\n",
    "oy = \"132\"\n",
    "\n",
    "cross_ref = check_matches(ox, oy, [\"reference\"])\n",
    "cr_matches = cross_ref[cross_ref[\"_merge\"] == \"both\"][\"reference\"]\n",
    "\n",
    "print()\n",
    "print(\"Checking entity match on `reference` field\")\n",
    "print(cross_ref.value_counts(\"_merge\"))\n",
    "\n",
    "print()\n",
    "print(\"comparing field match % for entities matched on `reference` field\")\n",
    "compare_match_fields(ox, oy, cr_matches, [\"name\", \"point\", \"site\", \"site_address\"])"
   ]
  },
  {
   "cell_type": "code",
   "execution_count": null,
   "metadata": {},
   "outputs": [],
   "source": [
    "ox = \"356\"\n",
    "oy = \"132\"\n",
    "\n",
    "cross_ref = check_matches(ox, oy, [\"reference\"])\n",
    "cr_matches = cross_ref[cross_ref[\"_merge\"] == \"both\"][\"reference\"]\n",
    "\n",
    "print()\n",
    "print(\"Checking entity match on `reference` field\")\n",
    "print(cross_ref.value_counts(\"_merge\"))\n",
    "\n",
    "print()\n",
    "print(\"comparing field match % for entities matched on `reference` field\")\n",
    "compare_match_fields(ox, oy, cr_matches, [\"name\", \"point\", \"site\", \"site-address\"])"
   ]
  },
  {
   "cell_type": "code",
   "execution_count": null,
   "metadata": {},
   "outputs": [],
   "source": [
    "ox = \"140\"\n",
    "oy = \"386\"\n",
    "\n",
    "cross_ref = check_matches(ox, oy, [\"reference\"])\n",
    "cr_matches = cross_ref[cross_ref[\"_merge\"] == \"both\"][\"reference\"]\n",
    "\n",
    "print()\n",
    "print(\"Checking entity match on `reference` field\")\n",
    "print(cross_ref.value_counts(\"_merge\"))\n",
    "\n",
    "print()\n",
    "print(\"comparing field match % for entities matched on `reference` field\")\n",
    "compare_match_fields(ox, oy, cr_matches, [\"name\", \"point\", \"site\", \"site_address\"])"
   ]
  },
  {
   "cell_type": "code",
   "execution_count": null,
   "metadata": {},
   "outputs": [],
   "source": [
    "cr_matches"
   ]
  }
 ],
 "metadata": {
  "kernelspec": {
   "display_name": "pdp_jupyter",
   "language": "python",
   "name": "python3"
  },
  "language_info": {
   "codemirror_mode": {
    "name": "ipython",
    "version": 3
   },
   "file_extension": ".py",
   "mimetype": "text/x-python",
   "name": "python",
   "nbconvert_exporter": "python",
   "pygments_lexer": "ipython3",
   "version": "3.10.13"
  }
 },
 "nbformat": 4,
 "nbformat_minor": 2
}
