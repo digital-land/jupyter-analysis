{
 "cells": [
  {
   "cell_type": "markdown",
   "metadata": {},
   "source": [
    "Notebook to get the Local Authority names for CA entities on planning.data.gov.uk based on their location rather than their organisation. This is being used by Mark and Dave in their data matching work"
   ]
  },
  {
   "cell_type": "code",
   "execution_count": 1,
   "metadata": {},
   "outputs": [],
   "source": [
    "import pandas as pd\n",
    "import geopandas as gpd\n",
    "import shapely.wkt\n",
    "import urllib\n",
    "import numpy as np\n",
    "import os"
   ]
  },
  {
   "cell_type": "code",
   "execution_count": 2,
   "metadata": {},
   "outputs": [],
   "source": [
    "output_dir = \"output/\"\n",
    "os.makedirs(output_dir, exist_ok=True)"
   ]
  },
  {
   "cell_type": "code",
   "execution_count": 3,
   "metadata": {},
   "outputs": [],
   "source": [
    "def get_all_organisations():\n",
    "    params = urllib.parse.urlencode({\n",
    "        \"sql\": f\"\"\"\n",
    "        select entity as organisation_entity, name, organisation, dataset, local_planning_authority\n",
    "        from organisation\n",
    "        \"\"\",\n",
    "        \"_size\": \"max\"\n",
    "        })\n",
    "    url = f\"https://datasette.planning.data.gov.uk/digital-land.csv?{params}\"\n",
    "    df = pd.read_csv(url)\n",
    "    return df\n",
    "\n",
    "def get_pdp_geo_dataset(dataset, underscore_cols=True, crs_out=27700):\n",
    "\n",
    "    url = f\"https://files.planning.data.gov.uk/dataset/{dataset}.geojson\"\n",
    "    gdf = gpd.read_file(url)\n",
    "\n",
    "    if underscore_cols:\n",
    "        gdf.columns = [x.replace(\"-\", \"_\") for x in gdf.columns]\n",
    "\n",
    "\n",
    "    gdf.set_crs(epsg=4326, inplace=True)\n",
    "    gdf.to_crs(epsg=crs_out, inplace=True)\n",
    "\n",
    "    return gdf"
   ]
  },
  {
   "cell_type": "markdown",
   "metadata": {},
   "source": [
    "## Data in"
   ]
  },
  {
   "cell_type": "code",
   "execution_count": 4,
   "metadata": {},
   "outputs": [
    {
     "name": "stdout",
     "output_type": "stream",
     "text": [
      "452\n"
     ]
    }
   ],
   "source": [
    "# get orgs\n",
    "org_df = get_all_organisations()\n",
    "print(len(org_df))"
   ]
  },
  {
   "cell_type": "code",
   "execution_count": 41,
   "metadata": {},
   "outputs": [],
   "source": [
    "# CA from pdp\n",
    "ca_in = pd.read_csv(\"https://files.planning.data.gov.uk/dataset/conservation-area.csv\",\n",
    "                            usecols = [\"entity\", \"name\", \"organisation-entity\", \"reference\", \"entry-date\", \"point\", \"geometry\"])\n",
    "\n",
    "ca_df = ca_in[ca_in[\"point\"].notnull()].copy()\n",
    "\n",
    "ca_df.columns = [x.replace(\"-\", \"_\") for x in ca_df.columns]\n",
    "ca_df.rename(columns={\"name\":\"entity_name\"}, inplace=True)\n",
    "\n",
    "# load to gdf\n",
    "ca_df[\"point\"] = ca_df[\"point\"].apply(shapely.wkt.loads)\n",
    "ca_gdf = gpd.GeoDataFrame(ca_df, geometry='point')\n",
    "\n",
    "# Transform to ESPG:27700 for more interpretable area units\n",
    "ca_gdf.set_crs(epsg=4326, inplace=True)\n",
    "ca_gdf.to_crs(epsg=27700, inplace=True)"
   ]
  },
  {
   "cell_type": "code",
   "execution_count": 6,
   "metadata": {},
   "outputs": [
    {
     "name": "stdout",
     "output_type": "stream",
     "text": [
      "337\n"
     ]
    }
   ],
   "source": [
    "# LPA boundaries from PDP site\n",
    "lpa_gdf = get_pdp_geo_dataset(\"local-planning-authority\")\n",
    "\n",
    "lpa_gdf.rename(columns={'name':'lpa_name'}, inplace=True)\n",
    "\n",
    "print(len(lpa_gdf))"
   ]
  },
  {
   "cell_type": "markdown",
   "metadata": {},
   "source": [
    "## Analysis"
   ]
  },
  {
   "cell_type": "markdown",
   "metadata": {},
   "source": [
    "### Spatial joining - LPA boundaries to conservation area points"
   ]
  },
  {
   "cell_type": "code",
   "execution_count": 42,
   "metadata": {},
   "outputs": [
    {
     "name": "stdout",
     "output_type": "stream",
     "text": [
      "9169\n",
      "9091\n"
     ]
    },
    {
     "data": {
      "text/html": [
       "<div>\n",
       "<style scoped>\n",
       "    .dataframe tbody tr th:only-of-type {\n",
       "        vertical-align: middle;\n",
       "    }\n",
       "\n",
       "    .dataframe tbody tr th {\n",
       "        vertical-align: top;\n",
       "    }\n",
       "\n",
       "    .dataframe thead th {\n",
       "        text-align: right;\n",
       "    }\n",
       "</style>\n",
       "<table border=\"1\" class=\"dataframe\">\n",
       "  <thead>\n",
       "    <tr style=\"text-align: right;\">\n",
       "      <th></th>\n",
       "      <th>lpa_reference</th>\n",
       "      <th>lpa_name</th>\n",
       "      <th>geometry</th>\n",
       "      <th>index_right</th>\n",
       "      <th>entity</th>\n",
       "      <th>entity_name</th>\n",
       "      <th>organisation_entity</th>\n",
       "      <th>la_name</th>\n",
       "      <th>local_planning_authority</th>\n",
       "    </tr>\n",
       "  </thead>\n",
       "  <tbody>\n",
       "    <tr>\n",
       "      <th>0</th>\n",
       "      <td>E60000001</td>\n",
       "      <td>County Durham LPA</td>\n",
       "      <td>POLYGON ((428366.003 554230.393, 428288.990 55...</td>\n",
       "      <td>4462</td>\n",
       "      <td>44004818</td>\n",
       "      <td>Aycliffe Village</td>\n",
       "      <td>16</td>\n",
       "      <td>Durham County Council</td>\n",
       "      <td>E60000001</td>\n",
       "    </tr>\n",
       "    <tr>\n",
       "      <th>1</th>\n",
       "      <td>E60000001</td>\n",
       "      <td>County Durham LPA</td>\n",
       "      <td>POLYGON ((428366.003 554230.393, 428288.990 55...</td>\n",
       "      <td>4466</td>\n",
       "      <td>44004822</td>\n",
       "      <td>Mordon</td>\n",
       "      <td>16</td>\n",
       "      <td>Durham County Council</td>\n",
       "      <td>E60000001</td>\n",
       "    </tr>\n",
       "    <tr>\n",
       "      <th>2</th>\n",
       "      <td>E60000001</td>\n",
       "      <td>County Durham LPA</td>\n",
       "      <td>POLYGON ((428366.003 554230.393, 428288.990 55...</td>\n",
       "      <td>4467</td>\n",
       "      <td>44004823</td>\n",
       "      <td>Hardwick Park</td>\n",
       "      <td>16</td>\n",
       "      <td>Durham County Council</td>\n",
       "      <td>E60000001</td>\n",
       "    </tr>\n",
       "    <tr>\n",
       "      <th>3</th>\n",
       "      <td>E60000001</td>\n",
       "      <td>County Durham LPA</td>\n",
       "      <td>POLYGON ((428366.003 554230.393, 428288.990 55...</td>\n",
       "      <td>5161</td>\n",
       "      <td>44005530</td>\n",
       "      <td>Bishop Middleham</td>\n",
       "      <td>16</td>\n",
       "      <td>Durham County Council</td>\n",
       "      <td>E60000001</td>\n",
       "    </tr>\n",
       "    <tr>\n",
       "      <th>4</th>\n",
       "      <td>E60000001</td>\n",
       "      <td>County Durham LPA</td>\n",
       "      <td>POLYGON ((428366.003 554230.393, 428288.990 55...</td>\n",
       "      <td>4465</td>\n",
       "      <td>44004821</td>\n",
       "      <td>Mainsforth</td>\n",
       "      <td>16</td>\n",
       "      <td>Durham County Council</td>\n",
       "      <td>E60000001</td>\n",
       "    </tr>\n",
       "  </tbody>\n",
       "</table>\n",
       "</div>"
      ],
      "text/plain": [
       "  lpa_reference           lpa_name  \\\n",
       "0     E60000001  County Durham LPA   \n",
       "1     E60000001  County Durham LPA   \n",
       "2     E60000001  County Durham LPA   \n",
       "3     E60000001  County Durham LPA   \n",
       "4     E60000001  County Durham LPA   \n",
       "\n",
       "                                            geometry  index_right    entity  \\\n",
       "0  POLYGON ((428366.003 554230.393, 428288.990 55...         4462  44004818   \n",
       "1  POLYGON ((428366.003 554230.393, 428288.990 55...         4466  44004822   \n",
       "2  POLYGON ((428366.003 554230.393, 428288.990 55...         4467  44004823   \n",
       "3  POLYGON ((428366.003 554230.393, 428288.990 55...         5161  44005530   \n",
       "4  POLYGON ((428366.003 554230.393, 428288.990 55...         4465  44004821   \n",
       "\n",
       "        entity_name  organisation_entity                la_name  \\\n",
       "0  Aycliffe Village                   16  Durham County Council   \n",
       "1            Mordon                   16  Durham County Council   \n",
       "2     Hardwick Park                   16  Durham County Council   \n",
       "3  Bishop Middleham                   16  Durham County Council   \n",
       "4        Mainsforth                   16  Durham County Council   \n",
       "\n",
       "  local_planning_authority  \n",
       "0                E60000001  \n",
       "1                E60000001  \n",
       "2                E60000001  \n",
       "3                E60000001  \n",
       "4                E60000001  "
      ]
     },
     "execution_count": 42,
     "metadata": {},
     "output_type": "execute_result"
    }
   ],
   "source": [
    "# join LPAs to all conservation areas, then join on the LA name based on location\n",
    "lpa_ca_join = gpd.sjoin(\n",
    "    lpa_gdf[[\"reference\", \"lpa_name\", \"geometry\"]],\n",
    "    ca_gdf[[\"entity\", \"entity_name\", \"organisation_entity\", \"point\"]],\n",
    "    how = \"inner\",\n",
    "    predicate = \"intersects\"\n",
    ")\n",
    "\n",
    "print(len(lpa_ca_join))\n",
    "\n",
    "lpa_ca_la_join = lpa_ca_join.merge(\n",
    "    org_df[[\"name\", \"local_planning_authority\"]],\n",
    "    how = \"inner\",\n",
    "    left_on = \"reference\",\n",
    "    right_on = \"local_planning_authority\"\n",
    ")\n",
    "\n",
    "lpa_ca_la_join.rename(columns={\n",
    "    'reference':'lpa_reference',\n",
    "    'name':'la_name'}, inplace=True)\n",
    "\n",
    "lpa_ca_la_join[\"entity\"] = lpa_ca_la_join[\"entity\"].astype(int)\n",
    "\n",
    "print(len(lpa_ca_la_join))\n",
    "\n",
    "lpa_ca_la_join.head()\n"
   ]
  },
  {
   "cell_type": "code",
   "execution_count": 45,
   "metadata": {},
   "outputs": [],
   "source": [
    "lpa_ca_la_join[[\"entity\", \"entity_name\", \"lpa_reference\", \"lpa_name\", \"la_name\"]].to_csv(\"output/ca_la_lpa_lookup_2024-09-30.csv\", index = False)"
   ]
  }
 ],
 "metadata": {
  "kernelspec": {
   "display_name": "pdp_jupyter",
   "language": "python",
   "name": "python3"
  },
  "language_info": {
   "codemirror_mode": {
    "name": "ipython",
    "version": 3
   },
   "file_extension": ".py",
   "mimetype": "text/x-python",
   "name": "python",
   "nbconvert_exporter": "python",
   "pygments_lexer": "ipython3",
   "version": "3.10.13"
  }
 },
 "nbformat": 4,
 "nbformat_minor": 2
}
