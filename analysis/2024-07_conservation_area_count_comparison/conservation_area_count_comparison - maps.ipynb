{
 "cells": [
  {
   "cell_type": "code",
   "execution_count": null,
   "metadata": {},
   "outputs": [],
   "source": [
    "import pandas as pd\n",
    "import geopandas as gpd\n",
    "import shapely.wkt\n",
    "import urllib\n",
    "import os\n",
    "import numpy as np"
   ]
  },
  {
   "cell_type": "code",
   "execution_count": null,
   "metadata": {},
   "outputs": [],
   "source": [
    "# if running on Colab, uncomment and run this line below too:\n",
    "# !pip install mapclassify"
   ]
  },
  {
   "cell_type": "code",
   "execution_count": null,
   "metadata": {},
   "outputs": [],
   "source": [
    "output_dir = \"output/\"\n",
    "os.makedirs(output_dir, exist_ok=True)"
   ]
  },
  {
   "cell_type": "code",
   "execution_count": null,
   "metadata": {},
   "outputs": [],
   "source": [
    "# Functions\n",
    "\n",
    "def get_all_organisations():\n",
    "    params = urllib.parse.urlencode({\n",
    "        \"sql\": f\"\"\"\n",
    "        select entity as organisation_entity, name, organisation, dataset, local_planning_authority, local_authority_district,\n",
    "        case when dataset = \"local-authority\" then local_authority_district else local_planning_authority end as statistical_geography\n",
    "        from organisation\n",
    "        \"\"\",\n",
    "        \"_size\": \"max\"\n",
    "        })\n",
    "    url = f\"https://datasette.planning.data.gov.uk/digital-land.csv?{params}\"\n",
    "    df = pd.read_csv(url)\n",
    "    return df\n",
    "\n",
    "\n",
    "def get_pdp_geo_dataset(dataset, underscore_cols=True, crs_out=27700):\n",
    "\n",
    "    url = f\"https://files.planning.data.gov.uk/dataset/{dataset}.geojson\"\n",
    "    gdf = gpd.read_file(url)\n",
    "\n",
    "    if underscore_cols:\n",
    "        gdf.columns = [x.replace(\"-\", \"_\") for x in gdf.columns]\n",
    "\n",
    "\n",
    "    gdf.set_crs(epsg=4326, inplace=True)\n",
    "    gdf.to_crs(epsg=crs_out, inplace=True)\n",
    "\n",
    "    return gdf"
   ]
  },
  {
   "cell_type": "markdown",
   "metadata": {},
   "source": [
    "## Data in"
   ]
  },
  {
   "cell_type": "code",
   "execution_count": null,
   "metadata": {},
   "outputs": [],
   "source": [
    "# get org lookup\n",
    "org_df = get_all_organisations()\n",
    "print(len(org_df))"
   ]
  },
  {
   "cell_type": "code",
   "execution_count": null,
   "metadata": {},
   "outputs": [],
   "source": [
    "# read in manual count sheet\n",
    "con_count_df = pd.read_csv(\"https://docs.google.com/spreadsheets/d/e/2PACX-1vSGZIudsGx0ez4cU-4wSvymvXIFfpDb_qfbS3uW5RiuBkJrJQ9D8k0HBUPtgncRXA/pub?gid=485605871&single=true&output=csv\")\n",
    "con_count_df.columns = [x.replace(\"-\", \"_\") for x in con_count_df.columns]\n",
    "\n",
    "# join on organisation names and LPA codes\n",
    "con_count_lpa_df = con_count_df.merge(\n",
    "    org_df[[\"organisation_entity\", \"name\", \"local_planning_authority\"]],\n",
    "    how = \"left\",\n",
    "    on = \"organisation_entity\"\n",
    ")\n",
    "\n",
    "print(len(con_count_lpa_df))\n",
    "# con_count_lpa_df.head()"
   ]
  },
  {
   "cell_type": "code",
   "execution_count": null,
   "metadata": {},
   "outputs": [],
   "source": [
    "# CA from pdp\n",
    "ca_df = pd.read_csv(\"https://files.planning.data.gov.uk/dataset/conservation-area.csv\",\n",
    "                            usecols = [\"entity\", \"name\", \"organisation-entity\", \"reference\", \"entry-date\", \"point\"])\n",
    "\n",
    "ca_df.columns = [x.replace(\"-\", \"_\") for x in ca_df.columns]\n",
    "\n",
    "# load to gdf\n",
    "ca_df[\"point\"] = ca_df[\"point\"].apply(shapely.wkt.loads)\n",
    "ca_gdf = gpd.GeoDataFrame(ca_df, geometry='point')\n",
    "\n",
    "# Transform to ESPG:27700 for more interpretable area units\n",
    "ca_gdf.set_crs(epsg=4326, inplace=True)\n",
    "ca_gdf.to_crs(epsg=27700, inplace=True)"
   ]
  },
  {
   "cell_type": "code",
   "execution_count": null,
   "metadata": {},
   "outputs": [],
   "source": [
    "# Latest ONS LPA file, for flagging whether pdp LPAs are 2023 or not\n",
    "ons_lpa_gpd = gpd.read_file(\"https://services1.arcgis.com/ESMARspQHYMw9BZ9/arcgis/rest/services/Local_Planning_Authorities_April_2023_Boundaries_UK_BGC/FeatureServer/0/query?outFields=*&where=1%3D1&f=geojson\",)\n",
    "\n",
    "print(len(ons_lpa_gpd))\n",
    "# ons_lpa_gpd.head()"
   ]
  },
  {
   "cell_type": "code",
   "execution_count": null,
   "metadata": {},
   "outputs": [],
   "source": [
    "# LPA boundaries from PDP site\n",
    "lpa_gdf = get_pdp_geo_dataset(\"local-planning-authority\")\n",
    "\n",
    "lpa_gdf[\"lpa_2023\"] = np.where(lpa_gdf[\"reference\"].isin(ons_lpa_gpd[\"LPA23CD\"]), True, False)\n",
    "lpa_gdf.rename(columns={'name':'lpa_name'}, inplace=True)\n",
    "\n",
    "print(len(lpa_gdf))\n",
    "# lpa_gdf.head()"
   ]
  },
  {
   "cell_type": "markdown",
   "metadata": {},
   "source": [
    "## Analysis"
   ]
  },
  {
   "cell_type": "markdown",
   "metadata": {},
   "source": [
    "### Spatial joining"
   ]
  },
  {
   "cell_type": "code",
   "execution_count": null,
   "metadata": {},
   "outputs": [],
   "source": [
    "# join LPAs to all conservation areas, then join on the names of supplying organisations for matching conservation areas\n",
    "lpa_ca_join = gpd.sjoin(\n",
    "    lpa_gdf[[\"reference\", \"lpa_name\", \"lpa_2023\", \"geometry\"]],\n",
    "    ca_gdf[[\"entity\", \"organisation_entity\", \"point\"]],\n",
    "    how = \"left\",\n",
    "    predicate = \"intersects\"\n",
    ").merge(\n",
    "    org_df[[\"organisation_entity\", \"name\"]],\n",
    "    how = \"left\",\n",
    "    on = \"organisation_entity\"\n",
    ")\n",
    "\n",
    "lpa_ca_join[\"name\"] = lpa_ca_join[\"name\"].astype(str)\n",
    "\n",
    "print(len(lpa_ca_join))\n",
    "# lpa_ca_join.head()\n"
   ]
  },
  {
   "cell_type": "code",
   "execution_count": null,
   "metadata": {},
   "outputs": [],
   "source": [
    "# flag the providing org type - ranking so when we group and count we can count areas with LPA and Historic England providing as LPA\n",
    "lpa_ca_join[\"org_type_rank\"] = np.select(\n",
    "    [\n",
    "        (lpa_ca_join[\"organisation_entity\"] != 16) & (lpa_ca_join[\"organisation_entity\"].notnull()),\n",
    "        lpa_ca_join[\"organisation_entity\"] == 16\n",
    "    ],\n",
    "    [1, 2],\n",
    "    default = 3)\n",
    "\n",
    "# lpa_ca_join.head()"
   ]
  },
  {
   "cell_type": "code",
   "execution_count": null,
   "metadata": {},
   "outputs": [],
   "source": [
    "# count no. of conservation areas per LPA then join on the manual counts\n",
    "lpa_ca_join_count = lpa_ca_join.groupby(\n",
    "        [\"reference\", \"lpa_name\", \"lpa_2023\"]\n",
    "    ).agg(\n",
    "        {\"entity\" : \"count\",\n",
    "         \"name\" : lambda x: ', '.join(set(x)),\n",
    "         \"organisation_entity\" : \"nunique\",\n",
    "         \"org_type_rank\" : \"min\"}\n",
    "    ).reset_index(    \n",
    "    ).merge(\n",
    "        con_count_lpa_df[[\"local_planning_authority\", \"name\", \"conservation_area_count\"]],\n",
    "        how = \"left\",\n",
    "        left_on = \"reference\",\n",
    "        right_on = \"local_planning_authority\"\n",
    "    )\n",
    "\n",
    "# rename cols\n",
    "lpa_ca_join_count.rename(columns=\n",
    "                         {\"entity\":\"count_platform\", \n",
    "                          \"name_x\":\"platform_data_providers\", \n",
    "                          \"organisation_entity\" : \"n_platform_data_providers\",\n",
    "                          \"conservation_area_count\":\"count_manual\",\n",
    "                          \"name_y\":\"lpa_name_manual\"}, inplace = True)\n",
    "\n",
    "# calculate count comparison delta\n",
    "lpa_ca_join_count[\"count_delta\"] = (lpa_ca_join_count[\"count_platform\"] - lpa_ca_join_count[\"count_manual\"]) / lpa_ca_join_count[\"count_manual\"]\n",
    "lpa_ca_join_count[\"count_delta_abs\"] = abs(lpa_ca_join_count[\"count_delta\"])\n",
    "# use org type rank to flag the best provider for an area\n",
    "lpa_ca_join_count[\"provider_org_type\"] = lpa_ca_join_count[\"org_type_rank\"].map({1:\"LPA\", 2:\"Historic England\", 3:\"None\"})\n",
    "lpa_ca_join_count[\"provider_org_type_s\"] = np.where(lpa_ca_join_count[\"n_platform_data_providers\"] > 1, \"Historic England & LPA\", lpa_ca_join_count[\"provider_org_type\"])\n",
    "\n",
    "# lpa_ca_join_count.to_csv(os.path.join(output_dir, \"LPA_conservation_area_count_comparison.csv\"), index = False)\n",
    "\n",
    "# lpa_ca_join_count.head()"
   ]
  },
  {
   "cell_type": "markdown",
   "metadata": {},
   "source": [
    "#### Get single LPA layers\n",
    "\n",
    "Where we have manual CA counts from organisations which are now technically \"retired\" LPAs (i.e. replaced by a newer LPA), it indicates that the data is still divided and provided by these historic orgs. In these cases we don't want to show the new 2023 LPA on the map at the same time as it overlaps and is confusing as we haven't technically collected data from this new org.\n",
    "\n",
    "So we want to find the new 2023 LPAs which sit over retired LPAs that have supplied us with data, so we can remove them from the map and get a single contiguous layer which is a mix of historic and current LPA boundaries."
   ]
  },
  {
   "cell_type": "code",
   "execution_count": null,
   "metadata": {},
   "outputs": [],
   "source": [
    "# create gdf of the match counts for all LPAs\n",
    "lpa_ca_join_count_gdf = lpa_gdf[[\"reference\", \"geometry\"]].merge(\n",
    "    lpa_ca_join_count[[\"reference\", \"lpa_name\", \"lpa_2023\", \"provider_org_type\", \"provider_org_type_s\", \"platform_data_providers\", \"count_platform\", \"count_manual\", \"count_delta\", \"count_delta_abs\"]],\n",
    "    how = \"left\",\n",
    "    on = \"reference\"\n",
    ")"
   ]
  },
  {
   "cell_type": "code",
   "execution_count": null,
   "metadata": {},
   "outputs": [],
   "source": [
    "# old lpas = those which are not a 2023 boundary and we have data on the platform for\n",
    "old_lpas = lpa_ca_join_count_gdf[(lpa_ca_join_count_gdf[\"lpa_2023\"] == False) & (lpa_ca_join_count_gdf[\"count_manual\"].notnull())]\n",
    "\n",
    "# buffer the boundaries of new 2023 lpas a bit, so we can find which old ones are contained within them\n",
    "buffered_new_lpas = lpa_ca_join_count_gdf[(lpa_ca_join_count_gdf[\"lpa_2023\"] == True)][[\"reference\", \"lpa_name\", \"geometry\"]].copy()\n",
    "buffered_new_lpas[\"geometry\"] = buffered_new_lpas[\"geometry\"].buffer(100)\n",
    "\n",
    "# new 2023 lpas to flag are those which have an \"old\" lpa within them\n",
    "new_lpas = gpd.sjoin(\n",
    "    old_lpas[[\"reference\", \"lpa_name\", \"lpa_2023\", \"geometry\"]],\n",
    "    buffered_new_lpas,\n",
    "    how = \"inner\",\n",
    "    predicate = \"within\"\n",
    ")"
   ]
  },
  {
   "cell_type": "code",
   "execution_count": null,
   "metadata": {},
   "outputs": [],
   "source": [
    "# create a new flag in lpa gpd for whether or not LPAs are included in the historic & new combo single layer\n",
    "\n",
    "old_lpas_incl_list = old_lpas[\"reference\"].drop_duplicates().values\n",
    "new_lpas_excl_list = new_lpas[\"reference_right\"].drop_duplicates().values\n",
    "\n",
    "lpa_ca_join_count_gdf[\"old_lpa_combo_display\"] = np.select(\n",
    "    [\n",
    "        # is in old exclude list - show\n",
    "        lpa_ca_join_count_gdf[\"reference\"].isin(old_lpas_incl_list),\n",
    "        # is new and not in the new exclude list - show \n",
    "        (lpa_ca_join_count_gdf[\"lpa_2023\"] == True) & (~lpa_ca_join_count_gdf[\"reference\"].isin(new_lpas_excl_list))\n",
    "    ],\n",
    "    [True, True],\n",
    "    default = False\n",
    ")\n"
   ]
  },
  {
   "cell_type": "code",
   "execution_count": null,
   "metadata": {},
   "outputs": [],
   "source": [
    "# bin the count comparison delta\n",
    "bins = [-np.inf, -0.5, -0.4, -0.3, -0.2, -0.1, 0, 0.1, 0.2, 0.3, 0.4, 0.5, np.inf]\n",
    "labels = [\"< -50%\", \"-50% : -40%\", \"-40% : -30%\", \"-30% : -20%\", \"-20% : -10%\", \"-10% : 0\", \"0 : +10%\", \"+10% : +20%\", \"+20% : +30%\", \"+30% : +40%\", \"+40% : +50%\", \"> +50% \"]\n",
    "\n",
    "lpa_ca_join_count_gdf[\"count_delta_bins\"] = pd.cut(lpa_ca_join_count_gdf[\"count_delta\"], bins = bins, labels = labels)\n"
   ]
  },
  {
   "cell_type": "code",
   "execution_count": null,
   "metadata": {},
   "outputs": [],
   "source": [
    "# bin the count comparison delta\n",
    "bins = [0, 0.2, 0.4, 0.6, 0.8, 1, np.inf]\n",
    "labels = [\"0 - 20%\", \"20% - 40%\", \"40% - 60%\", \"60% - 80%\", \"80% - 100%\", \"> 100%\"]\n",
    "\n",
    "lpa_ca_join_count_gdf[\"+/- count difference pct\"] = pd.cut(lpa_ca_join_count_gdf[\"count_delta_abs\"], bins = bins, labels = labels)\n"
   ]
  },
  {
   "cell_type": "code",
   "execution_count": null,
   "metadata": {},
   "outputs": [],
   "source": [
    "lpa_ca_join_count_gdf[\n",
    "    (lpa_ca_join_count_gdf[\"count_delta_abs\"] < 2) &\n",
    "    (lpa_ca_join_count_gdf[\"count_delta_abs\"] != 0)][\"count_delta_abs\"].hist()"
   ]
  },
  {
   "cell_type": "code",
   "execution_count": null,
   "metadata": {},
   "outputs": [],
   "source": [
    "# simplify geometry for smaller maps (helps running in colab)\n",
    "lpa_ca_join_count_gdf[\"geometry\"] = lpa_ca_join_count_gdf[\"geometry\"].simplify(100)"
   ]
  },
  {
   "cell_type": "markdown",
   "metadata": {},
   "source": [
    "## Map\n",
    "\n",
    "### Conservation area national provision"
   ]
  },
  {
   "cell_type": "code",
   "execution_count": null,
   "metadata": {},
   "outputs": [],
   "source": [
    "def org_type_colormap(value):  # scalar value defined in 'column'\n",
    "    if value == \"LPA\":\n",
    "        return \"#28A197\"\n",
    "    if value == \"Historic England\":\n",
    "        return \"#12436D\"\n",
    "    if value == \"Historic England & LPA\":\n",
    "        return \"#ECC30B\"\n",
    "    return \"grey\"\n",
    "\n",
    "lpa_ca_join_count_gdf[lpa_ca_join_count_gdf[\"old_lpa_combo_display\"] == True].explore(\n",
    "    tiles = \"CartoDB positron\",\n",
    "    column = \"provider_org_type_s\", \n",
    "    tooltip = [\"reference\", \"lpa_name\", \"platform_data_providers\"],\n",
    "    # cmap = [\"#357DED\", \"#ECC30B\", \"#28A197\", \"white\"],\n",
    "    # cmap - HE, HE&LPA, LPA, none\n",
    "    cmap = [\"#28A197\", \"#F46A25\", \"#A285D1\", \"white\"],\n",
    "    style_kwds=dict(color=\"black\", weight = 1))"
   ]
  },
  {
   "cell_type": "code",
   "execution_count": null,
   "metadata": {},
   "outputs": [],
   "source": []
  },
  {
   "cell_type": "code",
   "execution_count": null,
   "metadata": {},
   "outputs": [],
   "source": [
    "# gdf for matches\n",
    "count_comp_equal_gdf = lpa_ca_join_count_gdf[\n",
    "    (lpa_ca_join_count_gdf[\"old_lpa_combo_display\"] == True) &\n",
    "    (lpa_ca_join_count_gdf[\"count_platform\"] == lpa_ca_join_count_gdf[\"count_manual\"])].copy()\n",
    "\n",
    "count_comp_equal_gdf[\"count_comparison\"] = \"match\"\n",
    "\n",
    "# gdf for mis-matches\n",
    "count_comp_gdf = lpa_ca_join_count_gdf[\n",
    "    (lpa_ca_join_count_gdf[\"old_lpa_combo_display\"] == True) &\n",
    "    (lpa_ca_join_count_gdf[\"count_platform\"] > 0) &\n",
    "    (lpa_ca_join_count_gdf[\"count_platform\"] != lpa_ca_join_count_gdf[\"count_manual\"])].copy()"
   ]
  },
  {
   "cell_type": "markdown",
   "metadata": {},
   "source": [
    "### Conservation area count comparison: matches"
   ]
  },
  {
   "cell_type": "code",
   "execution_count": null,
   "metadata": {},
   "outputs": [],
   "source": [
    "# show areas where the site count vs. manual count matches\n",
    "\n",
    "count_comp_equal_gdf.explore(\n",
    "    tiles = \"CartoDB positron\",\n",
    "    color = \"#28A197\", \n",
    "    tooltip = [\"reference\", \"lpa_name\", \"platform_data_providers\", \"count_platform\", \"count_manual\", \"count_comparison\"],\n",
    "    style_kwds=dict(color=\"black\", weight = 1, fillOpacity = 0.3)\n",
    ")\n"
   ]
  },
  {
   "cell_type": "markdown",
   "metadata": {},
   "source": [
    "### Conservation area count comparison: mis-matches"
   ]
  },
  {
   "cell_type": "code",
   "execution_count": null,
   "metadata": {},
   "outputs": [],
   "source": [
    "# show map of areas where there are mis-matches between site and manual CA count\n",
    "\n",
    "count_comp_gdf.explore(\n",
    "    tiles = \"CartoDB positron\",\n",
    "        column = \"+/- count difference pct\", \n",
    "        tooltip = [\"reference\", \"lpa_name\", \"platform_data_providers\", \"count_platform\", \"count_manual\", \"count_delta\", \"count_delta_bins\"],\n",
    "        cmap = \"YlOrRd\",\n",
    "    style_kwds=dict(color=\"black\", weight = 1)\n",
    ")"
   ]
  },
  {
   "cell_type": "code",
   "execution_count": null,
   "metadata": {},
   "outputs": [],
   "source": [
    "[\"#fee187\", \"#feab49\", \"#fc5b2e\", \"#d40f20\", \"#800026\"]"
   ]
  },
  {
   "cell_type": "code",
   "execution_count": null,
   "metadata": {},
   "outputs": [],
   "source": [
    "lpa_ca_join_count_gdf[\"chart_labs\"] = np.where(\n",
    "    lpa_ca_join_count_gdf[\"count_platform\"] == lpa_ca_join_count_gdf[\"count_manual\"], \n",
    "    \"perfect match\",\n",
    "    lpa_ca_join_count_gdf[\"count_delta_bins\"])\n",
    "\n",
    "difference_count_chart = lpa_ca_join_count_gdf.groupby([\"chart_labs\"]).size().reset_index(name = \"n LPAs\")\n",
    "difference_count_chart[\"pct\"] = difference_count_chart[\"n LPAs\"] / difference_count_chart[\"n LPAs\"].sum()\n",
    "difference_count_chart.sort_values(by = \"chart_labs\", inplace= True)\n",
    "\n",
    "difference_count_chart[\"chart_labs\"].values"
   ]
  },
  {
   "cell_type": "code",
   "execution_count": null,
   "metadata": {},
   "outputs": [],
   "source": [
    "mix_bounds_with_pdp_data = lpa_ca_join_count_gdf[\n",
    "      (lpa_ca_join_count_gdf[\"old_lpa_combo_display\"] == True) &\n",
    "      (lpa_ca_join_count_gdf[\"count_platform\"] > 0)]\n",
    "\n",
    "ax = mix_bounds_with_pdp_data[\"chart_labs\"].value_counts(\n",
    "    normalize = True\n",
    "    ).reindex(\n",
    "        ['> 100%', '80% - 100%', '60% - 80%', '40% - 60%', '20% - 40%', '0 - 20%', 'perfect match']\n",
    "    ).plot.barh(\n",
    "        x = \"chart_labs\", y = \"pct\",\n",
    "          color = [\"#800026\", \"#d40f20\", \"#fc5b2e\", \"#feab49\", \"#fee187\", \"#ffffcc\", \"#28A197\"],\n",
    "        # title = \"% of English LPAs by conservation-area data provider type\",\n",
    "        ylabel = \"\",\n",
    "        legend = False,\n",
    "        xlim = [0, 0.5]\n",
    "        )\n",
    "\n",
    "vals = ax.get_xticks()\n",
    "ax = ax.set_xticklabels(['{:,.0%}'.format(x) for x in vals])\n"
   ]
  },
  {
   "cell_type": "code",
   "execution_count": null,
   "metadata": {},
   "outputs": [],
   "source": [
    "(mix_bounds_with_pdp_data[\"count_platform\"] == mix_bounds_with_pdp_data[\"count_manual\"]).value_counts(normalize = True)"
   ]
  },
  {
   "cell_type": "code",
   "execution_count": null,
   "metadata": {},
   "outputs": [],
   "source": [
    "mix_bounds_with_pdp_data[\"chart_labs\"].value_counts(\n",
    "    normalize = True\n",
    "    )"
   ]
  },
  {
   "cell_type": "code",
   "execution_count": null,
   "metadata": {},
   "outputs": [],
   "source": [
    "ax = lpa_ca_join_count_gdf[\"chart_labs\"].value_counts(\n",
    "    normalize = True\n",
    "    ).reindex(\n",
    "        ['> 100%', '80% - 100%', '60% - 80%', '40% - 60%', '20% - 40%', '0 - 20%', 'perfect match']\n",
    "    ).plot.barh(\n",
    "        x = \"chart_labs\", y = \"pct\",\n",
    "          color = [\"#800026\", \"#d40f20\", \"#fc5b2e\", \"#feab49\", \"#fee187\", \"#ffffcc\", \"#28A197\"],\n",
    "        # title = \"% of English LPAs by conservation-area data provider type\",\n",
    "        ylabel = \"\",\n",
    "        legend = False,\n",
    "        xlim = [0, 0.4]\n",
    "        )\n",
    "\n",
    "vals = ax.get_xticks()\n",
    "ax = ax.set_xticklabels(['{:,.0%}'.format(x) for x in vals])\n"
   ]
  },
  {
   "cell_type": "code",
   "execution_count": null,
   "metadata": {},
   "outputs": [],
   "source": [
    "ax = difference_count_chart.plot.barh(x = \"chart_labs\", y = \"pct\",\n",
    "                #   color = [\"#A285D1\", \"#F46A25\", \"grey\",\"#28A197\"],\n",
    "                  title = \"% of English LPAs by conservation-area data provider type\",\n",
    "                  ylabel = \"\",\n",
    "                  legend = False,\n",
    "                #   xlim = [0, 0.8]\n",
    "                  )\n",
    "\n",
    "ax.bar_label(ax.containers[0], fmt='{:,.0%}', padding = 4)\n",
    "ax.tick_params(\n",
    "    axis='x',          # changes apply to the x-axis\n",
    "    which='both',      # both major and minor ticks are affected\n",
    "    bottom=False,      # ticks along the bottom edge are off\n",
    "    top=False,         # ticks along the top edge are off\n",
    "    labelbottom=False) # labels along the bottom edge are off"
   ]
  },
  {
   "cell_type": "code",
   "execution_count": null,
   "metadata": {},
   "outputs": [],
   "source": [
    "# show map of areas where there are mis-matches between site and manual CA count\n",
    "\n",
    "count_comp_gdf.explore(\n",
    "    tiles = \"CartoDB positron\",\n",
    "        column = \"count_delta_bins\", \n",
    "        tooltip = [\"reference\", \"lpa_name\", \"platform_data_providers\", \"count_platform\", \"count_manual\", \"count_delta\", \"count_delta_bins\"],\n",
    "        cmap = \"coolwarm\",\n",
    "    style_kwds=dict(color=\"black\", weight = 1)\n",
    ")"
   ]
  }
 ],
 "metadata": {
  "kernelspec": {
   "display_name": "pdp_jupyter",
   "language": "python",
   "name": "python3"
  },
  "language_info": {
   "codemirror_mode": {
    "name": "ipython",
    "version": 3
   },
   "file_extension": ".py",
   "mimetype": "text/x-python",
   "name": "python",
   "nbconvert_exporter": "python",
   "pygments_lexer": "ipython3",
   "version": "3.10.13"
  }
 },
 "nbformat": 4,
 "nbformat_minor": 2
}
