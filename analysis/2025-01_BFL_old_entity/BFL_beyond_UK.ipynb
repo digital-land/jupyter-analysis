{
 "cells": [
  {
   "cell_type": "markdown",
   "metadata": {},
   "source": [
    "# Title\n",
    "**Author**:  Greg Slater <br>\n",
    "**Date**:  24th September 2024 <br>\n",
    "**Dataset Scope**: `dataset` <br>\n",
    "**Report Type**: Ad-hoc analysis <br>\n",
    "\n",
    "## Purpose\n"
   ]
  },
  {
   "cell_type": "code",
   "execution_count": 2,
   "metadata": {},
   "outputs": [],
   "source": [
    "import pandas as pd\n",
    "import geopandas as gpd\n",
    "import numpy as np\n",
    "import os\n",
    "import urllib\n",
    "# from sqlite_query_functions import DatasetSqlite\n",
    "from datetime import datetime\n",
    "import shapely\n",
    "\n",
    "pd.set_option(\"display.max_rows\", 100)\n",
    "\n",
    "td = datetime.today().strftime('%Y-%m-%d')\n",
    "data_dir = \"../../data/deleted_entities/\"\n",
    "os.makedirs(data_dir, exist_ok=True)\n",
    "# fn = os.path.join(data_dir, f\"FILENAME_{td}.csv\")\n"
   ]
  },
  {
   "cell_type": "code",
   "execution_count": 3,
   "metadata": {},
   "outputs": [],
   "source": [
    "def get_pdp_dataset(dataset, geometry_field = \"geometry\", crs_out=4326, underscore_cols=True):\n",
    "\n",
    "    df = pd.read_csv(f\"https://files.planning.data.gov.uk/dataset/{dataset}.csv\", \n",
    "                     dtype = {\"organisation-entity\": pd.Int64Dtype()})  #, dtype = \"str\"\n",
    "    df.columns = [x.replace(\"-\", \"_\") for x in df.columns]\n",
    "\n",
    "    df_valid_geom = df[df[geometry_field].notnull()].copy()\n",
    "\n",
    "    # load geometry and create GDF\n",
    "    df_valid_geom[geometry_field] = df_valid_geom[geometry_field].apply(shapely.wkt.loads)\n",
    "    gdf = gpd.GeoDataFrame(df_valid_geom, geometry = geometry_field)\n",
    "\n",
    "    # Transform to ESPG:27700 for more interpretable area units\n",
    "    gdf.set_crs(epsg=4326, inplace=True)\n",
    "    gdf.to_crs(epsg=crs_out, inplace=True)\n",
    "\n",
    "    return gdf"
   ]
  },
  {
   "cell_type": "code",
   "execution_count": 4,
   "metadata": {},
   "outputs": [],
   "source": [
    "def get_all_organisations():\n",
    "    params = urllib.parse.urlencode({\n",
    "        \"sql\": f\"\"\"\n",
    "        select entity as organisation_entity, name as org_name, organisation, dataset as org_type, end_date\n",
    "        from organisation\n",
    "        \"\"\",\n",
    "        \"_size\": \"max\"\n",
    "        })\n",
    "    url = f\"https://datasette.planning.data.gov.uk/digital-land.csv?{params}\"\n",
    "    df = pd.read_csv(url, dtype={\"organisation_entity\" : pd.Int64Dtype()})\n",
    "    return df"
   ]
  },
  {
   "cell_type": "markdown",
   "metadata": {},
   "source": [
    "## Data Import"
   ]
  },
  {
   "cell_type": "code",
   "execution_count": 5,
   "metadata": {},
   "outputs": [],
   "source": [
    "lookup_org = get_all_organisations()"
   ]
  },
  {
   "cell_type": "code",
   "execution_count": 29,
   "metadata": {},
   "outputs": [],
   "source": [
    "bfl_gdf = get_pdp_dataset(\"brownfield-land\", geometry_field=\"point\", crs_out=27700)"
   ]
  },
  {
   "cell_type": "code",
   "execution_count": 7,
   "metadata": {},
   "outputs": [],
   "source": [
    "uk_gdf = gpd.read_file(\"Countries_December_2023_Boundaries_UK_BFC_-7514124880420163797.gpkg\")"
   ]
  },
  {
   "cell_type": "code",
   "execution_count": 32,
   "metadata": {},
   "outputs": [],
   "source": [
    "old_ents_df = pd.read_csv(os.path.join(data_dir, \"test - old ents - 2025-01-23.csv\"))"
   ]
  },
  {
   "cell_type": "code",
   "execution_count": 33,
   "metadata": {},
   "outputs": [],
   "source": [
    "bfl_gdf[\"old_entity\"] = np.where(\n",
    "    (bfl_gdf[\"entity\"].isin(old_ents_df[\"entity\"])) |\n",
    "    (bfl_gdf[\"end_date\"].notnull())\n",
    "    , \n",
    "    True, False)"
   ]
  },
  {
   "cell_type": "code",
   "execution_count": null,
   "metadata": {},
   "outputs": [],
   "source": [
    "bfl_gdf[\"old_entity\"].value_counts()"
   ]
  },
  {
   "cell_type": "markdown",
   "metadata": {},
   "source": [
    "## Analysis"
   ]
  },
  {
   "cell_type": "code",
   "execution_count": null,
   "metadata": {},
   "outputs": [],
   "source": [
    "# spatial join between UK extent and BFL points\n",
    "bfl_uk = gpd.sjoin(\n",
    "    bfl_gdf,\n",
    "    uk_gdf,\n",
    "    how = \"inner\",\n",
    "    predicate = \"intersects\"\n",
    ")\n",
    "\n",
    "# beyond is where bfl points aren't in intersected table\n",
    "bfl_beyond = bfl_gdf[~bfl_gdf[\"entity\"].isin(bfl_uk[\"entity\"])]\n",
    "\n",
    "print(len(bfl_gdf))\n",
    "print(len(bfl_uk))\n",
    "print(len(bfl_beyond))"
   ]
  },
  {
   "cell_type": "code",
   "execution_count": null,
   "metadata": {},
   "outputs": [],
   "source": [
    "bfl_beyond[\"old_entity\"].value_counts()"
   ]
  },
  {
   "cell_type": "code",
   "execution_count": null,
   "metadata": {},
   "outputs": [],
   "source": [
    "bfl_beyond_org_count = bfl_beyond.groupby([\"organisation_entity\"], as_index=False).agg(\n",
    "        \"size\"\n",
    "    ).merge(\n",
    "        lookup_org[[\"organisation_entity\", \"org_name\", \"organisation\"]],\n",
    "        how = \"inner\",\n",
    "        on = \"organisation_entity\"\n",
    "    )\n",
    "\n",
    "bfl_beyond_org_count.sort_values(\"size\", ascending=False).head(20)"
   ]
  },
  {
   "cell_type": "code",
   "execution_count": null,
   "metadata": {},
   "outputs": [],
   "source": [
    "# count n beyond UK per org\n",
    "bfl_beyond_org_count = bfl_beyond.groupby([\"organisation_entity\", \"old_entity\"], as_index=False).agg(\n",
    "        \"size\"\n",
    "    ).merge(\n",
    "        lookup_org[[\"organisation_entity\", \"org_name\", \"organisation\"]],\n",
    "        how = \"inner\",\n",
    "        on = \"organisation_entity\"\n",
    "    )\n",
    "\n",
    "# bfl_beyond_org_count.sort_values(\"size\", ascending=False).to_csv(f\"bfl_beyond_uk_by_org-{td}.csv\", index = False)\n",
    "bfl_beyond_org_count[bfl_beyond_org_count[\"old_entity\"] == False].sort_values(\"size\", ascending=False).head(20)"
   ]
  },
  {
   "cell_type": "code",
   "execution_count": null,
   "metadata": {},
   "outputs": [],
   "source": [
    "# bfl_beyond_org_count[bfl_beyond_org_count[\"old_entity\"] == True].sort_values(\"size\", ascending=False).head(20)"
   ]
  },
  {
   "cell_type": "code",
   "execution_count": null,
   "metadata": {},
   "outputs": [],
   "source": [
    "bfl_beyond[\n",
    "    (bfl_beyond[\"organisation_entity\"] == 315) \n",
    "    # (bfl_beyond[\"old_entity\"] == False)\n",
    "][[\"entity\", \"reference\", \"name\", \"point\", \"site_address\", \"end_date\", \"old_entity\"]]"
   ]
  },
  {
   "cell_type": "code",
   "execution_count": null,
   "metadata": {},
   "outputs": [],
   "source": []
  },
  {
   "cell_type": "code",
   "execution_count": null,
   "metadata": {},
   "outputs": [],
   "source": [
    "bfl_to_retire = bfl_beyond[bfl_beyond[\"old_entity\"] == True].merge(\n",
    "        lookup_org[[\"organisation_entity\", \"org_name\", \"organisation\"]],\n",
    "        how = \"inner\",\n",
    "        on = \"organisation_entity\"\n",
    "    )\n",
    "\n",
    "bfl_to_retire.head()"
   ]
  },
  {
   "cell_type": "code",
   "execution_count": 22,
   "metadata": {},
   "outputs": [],
   "source": [
    "bfl_to_retire[\"old_entity_message\"] = np.where(\n",
    "    bfl_to_retire[\"end_date\"].notnull(),\n",
    "    bfl_to_retire[\"entity\"].astype(str) + \",410,,retire \" + bfl_to_retire[\"organisation_y\"] + \" entity which is end-dated and is in the sea,,,\",\n",
    "    bfl_to_retire[\"entity\"].astype(str) + \",410,,retire \" + bfl_to_retire[\"organisation_y\"] + \" entity which is not on latest resource and is in the sea,,,\"\n",
    ")\n",
    "\n",
    "bfl_to_retire.to_csv(\"bfl_entities_to_retire.csv\", index = False)"
   ]
  },
  {
   "cell_type": "code",
   "execution_count": null,
   "metadata": {},
   "outputs": [],
   "source": [
    "bfl_to_retire.explore()"
   ]
  },
  {
   "cell_type": "code",
   "execution_count": null,
   "metadata": {},
   "outputs": [],
   "source": [
    "bfl_gdf[bfl_gdf[\"site_address\"].str.contains(\"Port Royal\", na=False)]"
   ]
  }
 ],
 "metadata": {
  "kernelspec": {
   "display_name": "pdp_jupyter",
   "language": "python",
   "name": "python3"
  },
  "language_info": {
   "codemirror_mode": {
    "name": "ipython",
    "version": 3
   },
   "file_extension": ".py",
   "mimetype": "text/x-python",
   "name": "python",
   "nbconvert_exporter": "python",
   "pygments_lexer": "ipython3",
   "version": "3.10.13"
  }
 },
 "nbformat": 4,
 "nbformat_minor": 2
}
