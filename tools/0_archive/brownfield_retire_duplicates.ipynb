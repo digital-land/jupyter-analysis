{
 "cells": [
  {
   "cell_type": "markdown",
   "metadata": {},
   "source": [
    "'Automatically' retires brownfield land endpoints. \n",
    "\n",
    "Needs a file `duplicates_list_file` per the code below, containing these fields: \"resource\", \"endpoint\", \"ep_start_date\", \"ACTION\", where the ACTION colun contains the letter R meaning Retire this one.\n",
    "\n",
    "it reads the duplicates file and creates two files endpoint_new.csv and old-resource_new.csv\n",
    "\n",
    "1. Runs through the above file, locating endpoints and setting their end-date to the dead-date (below).\n",
    "1. Adds the resource to the old-resource file, setting their status to 410, meaning 'gone away'.\n"
   ]
  },
  {
   "cell_type": "code",
   "execution_count": null,
   "metadata": {},
   "outputs": [],
   "source": [
    "duplicates_list_file = r'/mnt/c/Users/MarkSmith/Downloads/Brownfield_Duplicates.csv'\n",
    "\n",
    "source_folder= \"/home/mark/DLUHC/brownfield-land-collection/collection/\"\n",
    "\n",
    "dead_date = \"2023-07-24\"\n"
   ]
  },
  {
   "cell_type": "code",
   "execution_count": null,
   "metadata": {},
   "outputs": [],
   "source": [
    "import pandas as pd\n",
    "import numpy as np\n"
   ]
  },
  {
   "cell_type": "code",
   "execution_count": null,
   "metadata": {},
   "outputs": [],
   "source": [
    "\n",
    "all_duplicates = pd.read_csv(duplicates_list_file)\n",
    "\n",
    "all_duplicates.head()"
   ]
  },
  {
   "cell_type": "code",
   "execution_count": null,
   "metadata": {},
   "outputs": [],
   "source": [
    "# Load the files that make up the collection\n",
    "\n",
    "old_resource_file = F\"{source_folder}/old-resource.csv\"\n",
    "old_resource = pd.read_csv(old_resource_file)\n",
    "\n",
    "endpoint_file =  F\"{source_folder}/endpoint.csv\"\n",
    "endpoints = pd.read_csv(endpoint_file)\n",
    "\n",
    "source_file = F\"{source_folder}/source.csv\"\n",
    "source =  pd.read_csv(source_file)"
   ]
  },
  {
   "cell_type": "code",
   "execution_count": null,
   "metadata": {},
   "outputs": [],
   "source": [
    "\n",
    "duplicates = all_duplicates [all_duplicates[\"ACTION\"] == \"R\"]\n",
    "duplicates = duplicates [duplicates[\"end_date\"] != \"\"]\n",
    "\n",
    "duplicates = duplicates[[\"resource\", \"endpoint\", \"ep_start_date\", \"end_date\", \"ACTION\"]]\n",
    "\n",
    "\n",
    "\n",
    "len(duplicates)\n",
    "#duplicatea.head()"
   ]
  },
  {
   "cell_type": "code",
   "execution_count": null,
   "metadata": {},
   "outputs": [],
   "source": [
    "def subDate (current):\n",
    "    if pd.isnull(current):\n",
    "        return dead_date\n",
    "    else: \n",
    "        return current\n",
    "\n",
    "for duplicate_row in duplicates.iterrows():\n",
    "    resource_value = duplicate_row[1].values[0]\n",
    "    endpoint_value = duplicate_row[1].values[1]\n",
    "    start_date_value = duplicate_row[1].values[2]\n",
    "    end_date_value = duplicate_row[1].values[3]\n",
    "    \n",
    "    sub = subDate (end_date_value)\n",
    "    \n",
    "    print (F\"{resource_value} // {endpoint_value} // {start_date_value} // {end_date_value} // {sub} \")\n",
    "\n",
    "    # end it in endpint.csv\n",
    "    endpoints.loc[endpoints.endpoint == endpoint_value, 'end-date'] = sub\n",
    "    \n",
    "    # write it to the old_resource file'\n",
    "    old_resource.loc[len(old_resource)] = {'old-resource': resource_value, 'status': 410, 'resource': ''}\n",
    "\n",
    "\n",
    "endpoint_file_out =  F\"{source_folder}/endpoint_new.csv\"\n",
    "endpoints.to_csv (endpoint_file_out, index=False)\n",
    "\n",
    "old_resource_file_out = F\"{source_folder}/old-resource_new.csv\"\n",
    "old_resource.to_csv(old_resource_file_out, index=False)"
   ]
  }
 ],
 "metadata": {
  "kernelspec": {
   "display_name": ".venv",
   "language": "python",
   "name": "python3"
  },
  "language_info": {
   "codemirror_mode": {
    "name": "ipython",
    "version": 3
   },
   "file_extension": ".py",
   "mimetype": "text/x-python",
   "name": "python",
   "nbconvert_exporter": "python",
   "pygments_lexer": "ipython3",
   "version": "3.10.6"
  },
  "orig_nbformat": 4
 },
 "nbformat": 4,
 "nbformat_minor": 2
}
