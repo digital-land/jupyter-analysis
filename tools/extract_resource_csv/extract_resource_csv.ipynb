{
 "cells": [
  {
   "cell_type": "markdown",
   "id": "5817c05a",
   "metadata": {},
   "source": [
    "# Extract Converted Resource\n",
    "\n",
    "This notebook can be used to extract a given resource from planning data. it uses the files.planning.data.gov.uk url to extract what it needs. resources and converted resources can be found in the data directory"
   ]
  },
  {
   "cell_type": "code",
   "execution_count": 3,
   "id": "8a5abd25",
   "metadata": {},
   "outputs": [],
   "source": [
    "from custom_convert_phase import convert_resource"
   ]
  },
  {
   "cell_type": "code",
   "execution_count": 5,
   "id": "1ed9dde3",
   "metadata": {},
   "outputs": [],
   "source": [
    "# the resource\n",
    "resource = 'f8aaf696417923bac77e7c2d7fedeff24a9c4be81cf33e4e7a800fc8d70c2c0c'\n",
    "dataset = 'conservation-area'\n",
    "collection = 'conservation-area-collection'\n",
    "\n",
    "convert_resource(resource,dataset,collection)"
   ]
  }
 ],
 "metadata": {
  "kernelspec": {
   "display_name": "Python 3 (ipykernel)",
   "language": "python",
   "name": "python3"
  },
  "language_info": {
   "codemirror_mode": {
    "name": "ipython",
    "version": 3
   },
   "file_extension": ".py",
   "mimetype": "text/x-python",
   "name": "python",
   "nbconvert_exporter": "python",
   "pygments_lexer": "ipython3",
   "version": "3.10.8"
  }
 },
 "nbformat": 4,
 "nbformat_minor": 5
}
