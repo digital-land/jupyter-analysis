{
 "cells": [
  {
   "cell_type": "code",
   "execution_count": 2,
   "metadata": {},
   "outputs": [],
   "source": [
    "from digital_land.collection import Collection\n",
    "from digital_land.pipeline import Pipeline\n",
    "import os\n",
    "from pathlib import Path"
   ]
  },
  {
   "cell_type": "code",
   "execution_count": 35,
   "metadata": {},
   "outputs": [],
   "source": [
    "collection_dir = os.path.join('../data/endpoint_checker','collection')\n",
    "try:\n",
    "        os.remove(Path(collection_dir) / \"log.csv\")\n",
    "        os.remove(Path(collection_dir) / \"resource.csv\")\n",
    "except OSError:\n",
    "    pass\n",
    "collection = Collection(name='article-4-direction',directory=collection_dir)\n",
    "collection.load(directory=collection_dir)"
   ]
  },
  {
   "cell_type": "code",
   "execution_count": 5,
   "metadata": {},
   "outputs": [],
   "source": [
    "pipeline_dir = os.path.join('../data/endpoint_checker','pipeline')\n",
    "pipeline = Pipeline(pipeline_dir,'tree-preservation-order')"
   ]
  },
  {
   "cell_type": "code",
   "execution_count": 38,
   "metadata": {},
   "outputs": [
    {
     "data": {
      "text/plain": [
       "{'16857564d1658edeaa7703207b91525d005e7696e2e9392fbb6fa4231fa550ef': [{'elapsed': '0.491', 'endpoint-url': 'https://datamillnorth.org/download/newcastle-article-4-directions/4c650010-8d88-4bba-9f4a-85587742a64d/article4directionareas.csv', 'entry-date': '2023-07-17T13:20:55.860144', 'request-headers': {'Accept': '*/*', 'Accept-Encoding': 'gzip, deflate', 'Connection': 'keep-alive', 'User-Agent': 'DLUHC Digital Land'}, 'resource': '07e829ee232d63954874da98e4549befcb8b9a3ea51988799844e9b4a1731def', 'response-headers': {'Accept-Ranges': 'bytes', 'Cache-Control': 'no-cache', 'Content-Length': '39539', 'Content-Type': 'text/csv', 'Date': 'Mon, 17 Jul 2023 13:30:28 GMT', 'ETag': '\"603ca2d7834a9b4b920d5ee73deab967\"', 'Last-Modified': 'Wed, 22 Feb 2023 14:19:11 GMT', 'Server': 'AmazonS3', 'x-amz-id-2': 'ShUih1OgydqZWg0RuPLWoq1zA7EybsFAb+zvFd+OjkirU+V9P3AzImom/MBzVipgv9Y4WZ6KMZI=', 'x-amz-request-id': 'K46A4YSWAT9GE9EA', 'x-amz-server-side-encryption': 'AES256', 'x-amz-version-id': 'dahE0b49hypjR4GKPTiR4f79b616b3Ha'}, 'ssl-verify': True, 'status': '200', 'content-type': 'text/csv', 'bytes': '39539', 'endpoint': '16857564d1658edeaa7703207b91525d005e7696e2e9392fbb6fa4231fa550ef'}]}"
      ]
     },
     "execution_count": 38,
     "metadata": {},
     "output_type": "execute_result"
    }
   ],
   "source": [
    "endpoint='de1eb90a8b037292ef8ae14bfabd1184847ef99b7c6296bb6e75379e6c1f9572'\n",
    "resource='e6b0ccaf9b50a7f57a543484fd291dbe43f52a6231b681c3a7cc5e35a6aba254'\n",
    "pipeline.concatanations()"
   ]
  },
  {
   "cell_type": "code",
   "execution_count": null,
   "metadata": {},
   "outputs": [],
   "source": []
  }
 ],
 "metadata": {
  "kernelspec": {
   "display_name": ".venv",
   "language": "python",
   "name": "python3"
  },
  "language_info": {
   "codemirror_mode": {
    "name": "ipython",
    "version": 3
   },
   "file_extension": ".py",
   "mimetype": "text/x-python",
   "name": "python",
   "nbconvert_exporter": "python",
   "pygments_lexer": "ipython3",
   "version": "3.10.11"
  },
  "orig_nbformat": 4
 },
 "nbformat": 4,
 "nbformat_minor": 2
}
