{
 "cells": [
  {
   "cell_type": "code",
   "execution_count": null,
   "metadata": {},
   "outputs": [],
   "source": [
    "collections = {\n",
    "    'Article 4 Direction': (\n",
    "        'https://raw.githubusercontent.com/digital-land/article-4-direction-collection/main/collection/source.csv',\n",
    "        'https://raw.githubusercontent.com/digital-land/article-4-direction-collection/main/collection/endpoint.csv'),\n",
    "    \"Conservation Area\": (\n",
    "        'https://raw.githubusercontent.com/digital-land/conservation-area-collection/main/collection/source.csv',\n",
    "        'https://raw.githubusercontent.com/digital-land/conservation-area-collection/main/collection/endpoint.csv'),\n",
    "    \"Listed Building\": (\n",
    "        'https://raw.githubusercontent.com/digital-land/listed-building-collection/main/collection/source.csv',\n",
    "        'https://raw.githubusercontent.com/digital-land/listed-building-collection/main/collection//endpoint.csv'),\n",
    "    \"Tree Preservation Order\": (\n",
    "        'https://raw.githubusercontent.com/digital-land/tree-preservation-order-collection/main/collection/source.csv',\n",
    "        'https://raw.githubusercontent.com/digital-land/tree-preservation-order-collection/main/collection/endpoint.csv')\n",
    "}\n",
    "\n",
    "lpa_filter = None"
   ]
  },
  {
   "cell_type": "code",
   "execution_count": null,
   "metadata": {},
   "outputs": [],
   "source": [
    "import csv\n",
    "from io import StringIO\n",
    "import urllib.request\n",
    "import pandas as pd"
   ]
  },
  {
   "cell_type": "code",
   "execution_count": null,
   "metadata": {},
   "outputs": [],
   "source": [
    "lpa_name = {}\n",
    "\n",
    "raw = urllib.request.urlopen('https://raw.githubusercontent.com/digital-land/organisation-dataset/main/data/local-authority.csv').read().decode('utf-8')\n",
    "with StringIO(raw) as f:\n",
    "    reader = csv.DictReader(f)\n",
    "    for row in reader:\n",
    "        lpa_name[row['local-authority-eng']] = row['name']"
   ]
  },
  {
   "cell_type": "code",
   "execution_count": null,
   "metadata": {},
   "outputs": [],
   "source": [
    "def get_csv(url: str):\n",
    "    raw = urllib.request.urlopen(url).read().decode('utf-8')\n",
    "    with StringIO(raw) as f:\n",
    "        reader = csv.DictReader(f)\n",
    "        return list(reader)"
   ]
  },
  {
   "cell_type": "code",
   "execution_count": null,
   "metadata": {},
   "outputs": [],
   "source": [
    "endpoint_frames = {}\n",
    "\n",
    "for collection in collections:\n",
    "    print(f\"Processing collection {collection}...\")\n",
    "\n",
    "    sources_url, endpoints_url = collections[collection]\n",
    "    sources = get_csv(sources_url)\n",
    "    endpoints = dict(map(lambda x:((x['endpoint'],x['endpoint-url'])), get_csv(endpoints_url)))\n",
    "\n",
    "    data = []\n",
    "    \n",
    "    for source in sources:\n",
    "        if not source['organisation'].startswith('local-authority-eng'):\n",
    "            continue # not an LPA row            \n",
    "        lpa = lpa_name[source['organisation'].split(':')[1].upper()]\n",
    "        if source['endpoint'] and not source['documentation-url']:\n",
    "            endpoint_url = endpoints[source['endpoint']]\n",
    "            data.append( (lpa, source['collection'],endpoint_url,source['documentation-url']) )\n",
    "\n",
    "    endpoint_frames[collection] = pd.DataFrame(data=sorted(data), columns=['LPA Name','Collection','Endpoint','Documentation URL'])"
   ]
  },
  {
   "cell_type": "code",
   "execution_count": null,
   "metadata": {},
   "outputs": [],
   "source": [
    "filename = \"endpoints-without-documentation.xlsx\"\n",
    "with pd.ExcelWriter(filename) as writer:\n",
    "    for frame in endpoint_frames:\n",
    "        endpoint_frames[frame].to_excel(writer, sheet_name=frame, index=False)\n",
    "\n",
    "from IPython.display import FileLink\n",
    "\n",
    "print(\"Excel file:\")\n",
    "FileLink(filename)"
   ]
  }
 ],
 "metadata": {
  "kernelspec": {
   "display_name": ".venv",
   "language": "python",
   "name": "python3"
  },
  "language_info": {
   "codemirror_mode": {
    "name": "ipython",
    "version": 3
   },
   "file_extension": ".py",
   "mimetype": "text/x-python",
   "name": "python",
   "nbconvert_exporter": "python",
   "pygments_lexer": "ipython3",
   "version": "3.8.18"
  }
 },
 "nbformat": 4,
 "nbformat_minor": 2
}
