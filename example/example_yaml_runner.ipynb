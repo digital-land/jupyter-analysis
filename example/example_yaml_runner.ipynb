{
 "cells": [
  {
   "cell_type": "markdown",
   "id": "4d259be9-807c-4bf2-87d4-f5c88caf55e9",
   "metadata": {},
   "source": [
    "## Running a yaml data validation configuration\n",
    "This is a short notebook put together to show how to use the expectations tool inside of digital land python. We have mainly based these off the sqllite databases for each dataset, these are all avaulable via. the datasettes which sit behind the platform."
   ]
  },
  {
   "cell_type": "code",
   "execution_count": null,
   "id": "7596a0f4-181b-4600-bc00-64d82f4426ae",
   "metadata": {},
   "outputs": [],
   "source": []
  }
 ],
 "metadata": {
  "kernelspec": {
   "display_name": "Python 3 (ipykernel)",
   "language": "python",
   "name": "python3"
  },
  "language_info": {
   "codemirror_mode": {
    "name": "ipython",
    "version": 3
   },
   "file_extension": ".py",
   "mimetype": "text/x-python",
   "name": "python",
   "nbconvert_exporter": "python",
   "pygments_lexer": "ipython3",
   "version": "3.8.0"
  }
 },
 "nbformat": 4,
 "nbformat_minor": 5
}
