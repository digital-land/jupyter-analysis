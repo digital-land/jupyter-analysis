{
 "cells": [
  {
   "cell_type": "code",
   "execution_count": null,
   "id": "c225fc5d",
   "metadata": {},
   "outputs": [],
   "source": [
    "from osdatahub import FeaturesAPI, Extent, NGD\n",
    "import geojson\n",
    "import pandas as pd\n",
    "import geopandas as gpd\n",
    "import shapely.wkt\n",
    "import shapely.geometry\n",
    "import os\n",
    "\n",
    "from key import ngd_key\n",
    "\n",
    "pd.set_option(\"display.max_rows\", 100)\n",
    "\n",
    "data_dir = \"../data/geo_analysis/os_licensing/\"\n",
    "os.makedirs(data_dir, exist_ok=True)"
   ]
  },
  {
   "cell_type": "code",
   "execution_count": null,
   "id": "1cc8ef06",
   "metadata": {},
   "outputs": [],
   "source": [
    "def nrow(df):\n",
    "    return print(f\"No. of records in df: {len(df):,}\")"
   ]
  },
  {
   "cell_type": "markdown",
   "id": "7e014a86",
   "metadata": {},
   "source": [
    "## Data import"
   ]
  },
  {
   "cell_type": "code",
   "execution_count": null,
   "id": "48b91eec",
   "metadata": {},
   "outputs": [],
   "source": [
    "# LPA boundary data from planning.data.gov\n",
    "\n",
    "LAD_boundary_df = pd.read_csv(\"https://files.planning.data.gov.uk/dataset/local-authority-district.csv\", \n",
    "                                  usecols = [\"reference\", \"name\", \"geometry\"])\n",
    "\n",
    "# LAD_boundary_df.columns = [\"geometry\", \"name\", \"LPACD\"]\n",
    "\n",
    "\n",
    "# load geometry and create GDF\n",
    "LAD_boundary_df['geometry'] = LAD_boundary_df['geometry'].apply(shapely.wkt.loads)\n",
    "LAD_boundary_gdf = gpd.GeoDataFrame(LAD_boundary_df, geometry='geometry')\n",
    "\n",
    "# Transform to ESPG:27700 for more interpretable area units\n",
    "LAD_boundary_gdf.set_crs(epsg=4326, inplace=True)\n",
    "LAD_boundary_gdf.to_crs(epsg=27700, inplace=True)\n",
    "\n",
    "nrow(LAD_boundary_gdf)\n",
    "LAD_boundary_gdf.head()\n"
   ]
  },
  {
   "cell_type": "code",
   "execution_count": null,
   "id": "5523e6d4",
   "metadata": {},
   "outputs": [],
   "source": [
    "# get camden listed building data direct from endpoint\n",
    "cmd_df = pd.read_csv(\"https://opendata.camden.gov.uk/api/views/uu3n-zgbj/rows.csv?accessType=DOWNLOAD\")\n",
    "\n",
    "# load geometry and create GDF\n",
    "cmd_df['geometry'] = cmd_df['geometry'].apply(shapely.wkt.loads)\n",
    "cmd_gdf = gpd.GeoDataFrame(cmd_df[[\"reference\", \"geometry\"]], geometry='geometry')\n",
    "\n",
    "cmd_gdf[\"geogcd\"] = \"E09000007\"\n",
    "\n",
    "# Transform to ESPG:27700 for more interpretable area units\n",
    "cmd_gdf.set_crs(epsg=4326, inplace=True)\n",
    "cmd_gdf.to_crs(epsg=27700, inplace=True)\n",
    "\n",
    "nrow(cmd_gdf)\n",
    "cmd_gdf.head()"
   ]
  },
  {
   "cell_type": "code",
   "execution_count": null,
   "id": "dcb2761f",
   "metadata": {},
   "outputs": [],
   "source": [
    "nwc_df = pd.read_csv(\"https://datamillnorth.org/download/listedbuildings/91298d09-45a6-4c6d-a909-11ec4eaab957/listedbuildings.csv\")\n",
    "\n",
    "# load geometry and create GDF\n",
    "nwc_df['geometry'] = nwc_df['WKT'].apply(shapely.wkt.loads)\n",
    "nwc_gdf = gpd.GeoDataFrame(nwc_df[[\"id\", \"geometry\"]], geometry='geometry')\n",
    "\n",
    "nwc_gdf[\"geogcd\"] = \"E08000021\"\n",
    "\n",
    "# Transform to ESPG:27700 for more interpretable area units\n",
    "nwc_gdf.set_crs(epsg=27700, inplace=True)\n",
    "\n",
    "nrow(nwc_gdf)\n",
    "nwc_gdf.head()\n"
   ]
  },
  {
   "cell_type": "code",
   "execution_count": null,
   "id": "563a9684",
   "metadata": {},
   "outputs": [],
   "source": [
    "dnc_gdf = gpd.read_file(\"https://maps.doncaster.gov.uk/server/rest/services/Planning/Heritage_Map/MapServer/1/query?where=1%3D1&f=geojson&outFields=*\")[[\"LBREFNO\", \"geometry\"]]\n",
    "\n",
    "dnc_gdf[\"geogcd\"] = \"E08000017\"\n",
    "\n",
    "dnc_gdf.set_crs(epsg=4326, inplace=True)\n",
    "dnc_gdf.to_crs(epsg=27700, inplace=True)\n",
    "\n",
    "nrow(dnc_gdf)\n",
    "dnc_gdf.head()"
   ]
  },
  {
   "cell_type": "code",
   "execution_count": null,
   "id": "af592d51",
   "metadata": {},
   "outputs": [],
   "source": [
    "800/175000"
   ]
  },
  {
   "cell_type": "code",
   "execution_count": null,
   "id": "49c487a3",
   "metadata": {},
   "outputs": [],
   "source": [
    "lpa_gdf = pd.concat([cmd_gdf, nwc_gdf, dnc_gdf])\n",
    "\n",
    "lpa_gdf.groupby(\"geogcd\").size()"
   ]
  },
  {
   "cell_type": "code",
   "execution_count": null,
   "id": "03daf7bd",
   "metadata": {},
   "outputs": [],
   "source": [
    "nrow(cmd_gdf)"
   ]
  }
 ],
 "metadata": {
  "kernelspec": {
   "display_name": "pdp_jupyter",
   "language": "python",
   "name": "python3"
  },
  "language_info": {
   "codemirror_mode": {
    "name": "ipython",
    "version": 3
   },
   "file_extension": ".py",
   "mimetype": "text/x-python",
   "name": "python",
   "nbconvert_exporter": "python",
   "pygments_lexer": "ipython3",
   "version": "3.8.18"
  }
 },
 "nbformat": 4,
 "nbformat_minor": 5
}
