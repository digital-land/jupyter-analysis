{
 "cells": [
  {
   "cell_type": "code",
   "execution_count": null,
   "id": "a279bd2a-487f-4496-8a2e-ba50e8de9070",
   "metadata": {
    "scrolled": true
   },
   "outputs": [],
   "source": [
    "import spatialite\n",
    "import pandas as pd\n",
    "import geopandas as gpd\n",
    "import os\n",
    "import itertools\n",
    "import shapely.wkt\n",
    "import logging\n",
    "import urllib\n",
    "import numpy as np\n",
    "\n",
    "pd.set_option(\"display.max_rows\", 100)\n"
   ]
  },
  {
   "cell_type": "code",
   "execution_count": null,
   "id": "022dabbb",
   "metadata": {},
   "outputs": [],
   "source": [
    "# if running on Colab, uncomment and run this line below too:\n",
    "# !pip install mapclassify"
   ]
  },
  {
   "cell_type": "code",
   "execution_count": null,
   "id": "faa03e39",
   "metadata": {},
   "outputs": [],
   "source": [
    "# global variables\n",
    "data_dir = \"../data/geo_analysis/area_bounds/\"\n",
    "os.makedirs(data_dir, exist_ok=True)"
   ]
  },
  {
   "cell_type": "markdown",
   "id": "1aefbc24",
   "metadata": {},
   "source": [
    "### Functions"
   ]
  },
  {
   "cell_type": "code",
   "execution_count": null,
   "id": "73ddc2ca",
   "metadata": {},
   "outputs": [],
   "source": [
    "def nrow(df):\n",
    "    return print(f\"No. of records in df: {len(df):,}\")\n",
    "\n",
    "def get_all_organisations():\n",
    "    params = urllib.parse.urlencode({\n",
    "        \"sql\": f\"\"\"\n",
    "        select organisation, name, entity as organisation_entity, statistical_geography\n",
    "        from organisation\n",
    "        \"\"\",\n",
    "        \"_size\": \"max\"\n",
    "        })\n",
    "    url = f\"https://datasette.planning.data.gov.uk/digital-land.csv?{params}\"\n",
    "    df = pd.read_csv(url)\n",
    "    return df"
   ]
  },
  {
   "cell_type": "code",
   "execution_count": null,
   "id": "dd58eeea",
   "metadata": {},
   "outputs": [],
   "source": [
    "def get_pdp_geo_dataset(dataset, underscore_cols=True, crs_out=27700):\n",
    "\n",
    "    url = f\"https://files.planning.data.gov.uk/dataset/{dataset}.geojson\"\n",
    "    gdf = gpd.read_file(url)\n",
    "\n",
    "    if underscore_cols:\n",
    "        gdf.columns = [x.replace(\"-\", \"_\") for x in gdf.columns]\n",
    "\n",
    "    try:\n",
    "        gdf[\"organisation_entity\"] = gdf[\"organisation_entity\"].astype(int)\n",
    "\n",
    "    except:\n",
    "        print(\"issue with organisation_entity column\") \n",
    "\n",
    "    gdf.set_crs(epsg=4326, inplace=True)\n",
    "    gdf.to_crs(epsg=crs_out, inplace=True)\n",
    "\n",
    "    return gdf"
   ]
  },
  {
   "cell_type": "markdown",
   "id": "93c4f722",
   "metadata": {},
   "source": [
    "### Data import"
   ]
  },
  {
   "cell_type": "code",
   "execution_count": null,
   "id": "61a7b5a4",
   "metadata": {},
   "outputs": [],
   "source": [
    "# get LAD to LPA lookup from github\n",
    "lookup_lad_lpa = pd.read_csv(\"https://github.com/digital-land/organisation-collection/raw/main/data/local-authority.csv\",\n",
    "                             usecols = [\"entity\", \"local-authority-district\", \"local-planning-authority\"])\n",
    "\n",
    "lookup_lad_lpa.columns = [\"organisation_entity\", \"LADCD\", \"LPACD\"]\n",
    "\n",
    "nrow(lookup_lad_lpa)\n",
    "lookup_lad_lpa.head()"
   ]
  },
  {
   "cell_type": "markdown",
   "id": "875da976",
   "metadata": {},
   "source": [
    "**Note on LAD to LPA mapping**   \n",
    "Currently this [lookup file from github](https://github.com/digital-land/organisation-collection/raw/main/data/local-authority.csv) just records a 1:1 link between LADs and LPAs, but according to the ONS this relationship is actually 1:many. \n",
    "See [2020 lookup file](https://geoportal.statistics.gov.uk/datasets/ons::local-planning-authority-to-local-authority-district-april-2020-in-the-united-kingdom-lookup-1/about) and the example of Ryedale [`E07000167`], which is mapped to the following two LPAs:\n",
    "\n",
    "* Ryedale LPA [`E60000061`]\n",
    "* North York Moors National Park LPA [`E60000322`]\n",
    "\n",
    "We need to agree some validation rules around this, i.e. can we expect Ryedale to submit data that might sit within either of these LPA areas, or for any London Boroughs to submit within the \"London Legacy Development Corporation LPA\" area?\n",
    "But for simplicity's sake at the moment to get things up and running (as per Owen's advice), will test with existing 1:1 mapping and aim to develop logic once there is more clarity about multiple area handling.\n",
    "\n",
    "The git lookup file also seems to be missing some areas, e.g. \"Peak District National Park Authority\" entity 405."
   ]
  },
  {
   "cell_type": "code",
   "execution_count": null,
   "id": "42f4a672",
   "metadata": {},
   "outputs": [],
   "source": [
    "# get org data from datasette\n",
    "lookup_org = get_all_organisations()\n",
    "\n",
    "# lookup_org[\"organisation_entity\"] = lookup_org[\"organisation_entity\"].astype(str)\n",
    "lookup_org.columns = [\"organisation\", \"organisation_name\", \"organisation_entity\", \"statistical_geography\"]\n",
    "\n",
    "# split out org type and join on LPA codes from LAD to LPA lookup\n",
    "lookup_org[\"organisation_type\"] = lookup_org[\"organisation\"].apply(lambda x: x.split(\":\")[0])\n",
    "lookup_org = lookup_org.merge(lookup_lad_lpa, how = \"left\", on = \"organisation_entity\")\n",
    "\n",
    "nrow(lookup_org)\n",
    "lookup_org.head()"
   ]
  },
  {
   "cell_type": "code",
   "execution_count": null,
   "id": "66684810",
   "metadata": {},
   "outputs": [],
   "source": [
    "# check the number of lpas which we don't have a LADCD for\n",
    "len(lookup_org[(lookup_org[\"LADCD\"].isnull()) & (lookup_org[\"organisation_type\"] == \"local-authority\")])"
   ]
  },
  {
   "cell_type": "code",
   "execution_count": null,
   "id": "c238946a",
   "metadata": {},
   "outputs": [],
   "source": [
    "# LPA boundary data from planning.data.gov\n",
    "\n",
    "LPA_boundary_df = pd.read_csv(\"https://files.planning.data.gov.uk/dataset/local-planning-authority.csv\", \n",
    "                                  usecols = [\"reference\", \"name\", \"geometry\"])\n",
    "\n",
    "LPA_boundary_df.columns = [\"geometry\", \"name\", \"LPACD\"]\n",
    "\n",
    "\n",
    "# load geometry and create GDF\n",
    "LPA_boundary_df['geometry'] = LPA_boundary_df['geometry'].apply(shapely.wkt.loads)\n",
    "LPA_boundary_gdf = gpd.GeoDataFrame(LPA_boundary_df, geometry='geometry')\n",
    "\n",
    "# Transform to ESPG:27700 for more interpretable area units\n",
    "LPA_boundary_gdf.set_crs(epsg=4326, inplace=True)\n",
    "LPA_boundary_gdf.to_crs(epsg=27700, inplace=True)\n",
    "\n",
    "nrow(LPA_boundary_gdf)\n",
    "LPA_boundary_gdf.head()\n"
   ]
  },
  {
   "cell_type": "code",
   "execution_count": null,
   "id": "18927b22",
   "metadata": {},
   "outputs": [],
   "source": [
    "# LAD boundary data from planning.data.gov\n",
    "\n",
    "LAD_boundary_df = pd.read_csv(\"https://files.planning.data.gov.uk/dataset/local-authority-district.csv\", \n",
    "                                  usecols = [\"reference\", \"name\", \"geometry\"])\n",
    "\n",
    "LAD_boundary_df.columns = [\"geometry\", \"name\", \"LADCD\"]\n",
    "\n",
    "\n",
    "# load geometry and create GDF\n",
    "LAD_boundary_df['geometry'] = LAD_boundary_df['geometry'].apply(shapely.wkt.loads)\n",
    "LAD_boundary_gdf = gpd.GeoDataFrame(LAD_boundary_df, geometry='geometry')\n",
    "\n",
    "# Transform to ESPG:27700 for more interpretable area units\n",
    "LAD_boundary_gdf.set_crs(epsg=4326, inplace=True)\n",
    "LAD_boundary_gdf.to_crs(epsg=27700, inplace=True)\n",
    "\n",
    "nrow(LAD_boundary_gdf)\n",
    "LAD_boundary_gdf.head()\n"
   ]
  },
  {
   "cell_type": "code",
   "execution_count": null,
   "id": "e3028c50",
   "metadata": {},
   "outputs": [],
   "source": [
    "pdp_la_orgs = lookup_org[lookup_org[\"organisation_type\"] == \"local-authority\"]\n",
    "\n",
    "LAD_valid = pdp_la_orgs.merge(\n",
    "    LAD_boundary_df,\n",
    "    how = \"inner\",\n",
    "    on = \"LADCD\"\n",
    ")\n",
    "\n",
    "\n",
    "print(f\"n local-authority orgs in PDP organisation entity table: {len(pdp_la_orgs)}\")\n",
    "print(f\"n local authorities in pdp local-authority-district dataset : {len(LAD_boundary_df)}\")\n",
    "print(f\"n in both (by LAD code): {len(LAD_valid)}\")\n",
    "\n",
    "# nrow(LAD_boundary_df)\n",
    "# nrow(lookup_org[lookup_org[\"organisation_type\"] == \"local-authority\"])\n",
    "# nrow(pdp_LAD_2020)"
   ]
  },
  {
   "cell_type": "markdown",
   "id": "7d294572",
   "metadata": {},
   "source": [
    "# Checking expected bounds of data  "
   ]
  },
  {
   "cell_type": "code",
   "execution_count": null,
   "id": "d8788df1",
   "metadata": {},
   "outputs": [],
   "source": [
    "def find_geos_beyond_border(geos, border):\n",
    "\n",
    "    # filter table of geos to those which are outside of a single border\n",
    "    return geos.loc[\n",
    "        geos.geometry.disjoint(\n",
    "            border.iloc[0].geometry)\n",
    "        ]\n",
    "\n",
    "def check_against_border(geos_gdf, border_gdf, code_type):\n",
    "\n",
    "    # list of the area codes in input geos_gdf to loop through\n",
    "    code_list = geos_gdf[code_type][geos_gdf[code_type].notnull()].drop_duplicates().to_list()\n",
    "\n",
    "    # check geos in each area code against area border\n",
    "    results = [\n",
    "       find_geos_beyond_border(\n",
    "        geos_gdf[geos_gdf[code_type] == code], \n",
    "        border_gdf.loc[border_gdf[code_type] == code]\n",
    "    ) for code in code_list \n",
    "    ]\n",
    "\n",
    "    return pd.concat(results)\n"
   ]
  },
  {
   "cell_type": "markdown",
   "id": "a9d87e4d",
   "metadata": {},
   "source": [
    "## Conservation areas"
   ]
  },
  {
   "cell_type": "code",
   "execution_count": null,
   "id": "39a8674b",
   "metadata": {},
   "outputs": [],
   "source": [
    "# download CA dataset\n",
    "ca_gdf = get_pdp_geo_dataset(\"conservation-area\")\n",
    "\n",
    "nrow(ca_gdf)\n",
    "\n",
    "ca_gdf = ca_gdf.merge(\n",
    "    lookup_org[[\"organisation_name\", \"organisation_type\", \"organisation_entity\", \"LPACD\", \"LADCD\"]], \n",
    "    how = \"left\",\n",
    "    on = \"organisation_entity\")\n",
    "\n",
    "nrow(ca_gdf)\n",
    "ca_gdf.head(2)"
   ]
  },
  {
   "cell_type": "code",
   "execution_count": null,
   "id": "572ab3e5",
   "metadata": {},
   "outputs": [],
   "source": [
    "# check against LAD\n",
    "ca_beyond_LAD = check_against_border(ca_gdf, LAD_boundary_gdf, \"LADCD\")\n",
    "\n",
    "print(f\"No. of entities not contained by their expected boundary: {len(ca_beyond_LAD):,}\")\n",
    "ca_beyond_LAD.groupby([\"LPACD\", \"organisation_entity\", \"organisation_name\"]).size().sort_values(ascending=False).reset_index(name = \"count\")"
   ]
  },
  {
   "cell_type": "code",
   "execution_count": null,
   "id": "9d70e54b",
   "metadata": {},
   "outputs": [],
   "source": [
    "# check against LPA\n",
    "ca_beyond_LPA = check_against_border(ca_gdf, LPA_boundary_gdf, \"LPACD\")\n",
    "\n",
    "print(f\"No. of entities not contained by their expected boundary: {len(ca_beyond_LPA):,}\")\n",
    "ca_beyond_LPA.groupby([\"LPACD\", \"organisation_entity\", \"organisation_name\"]).size().sort_values(ascending=False).reset_index(name = \"count\")"
   ]
  },
  {
   "cell_type": "markdown",
   "id": "e9d3bbe5",
   "metadata": {},
   "source": [
    "Checking conservation areas against LAD boundaries throws up issues with Babergh entities which are outside of the Babergh area.\n",
    "However, using LPA boundaries throws issues with other LPAs which have part of their admin area covered by a development corporation or a national park, and so the LPA boundary doesn't cover the full extent of the admin area.\n",
    "\n",
    "See map below, which shows areas outside of LPA boundaries alongside the boundaries themselves."
   ]
  },
  {
   "cell_type": "code",
   "execution_count": null,
   "id": "7a2a2a50",
   "metadata": {},
   "outputs": [],
   "source": [
    "# Plot all entities outside of expected boundaries, alongside LPA boundaries\n",
    "\n",
    "map_entities = ca_beyond_LPA.explore(\n",
    "    color = \"red\",\n",
    "    tooltip = False,\n",
    "    popup = [\"organisation_name\", \"entity\", \"name\", \"reference\"],\n",
    "    tiles = \"CartoDB positron\",  # use \"CartoDB positron\" tiles\n",
    "    # highlight = False,\n",
    "    style_kwds = {\n",
    "    \"fillOpacity\" : \"0.1\"\n",
    "    }\n",
    ")\n",
    "\n",
    "LPA_boundary_gdf[LPA_boundary_gdf[\"LPACD\"].isin(ca_beyond_LPA[\"LPACD\"])].explore(\n",
    "    m = map_entities,\n",
    "    color = \"blue\",\n",
    "    tooltip = False,\n",
    "    popup = [\"name\", \"LPACD\"],\n",
    "        style_kwds = {\n",
    "        \"fillOpacity\" : \"0\"\n",
    "        }\n",
    ")"
   ]
  },
  {
   "cell_type": "code",
   "execution_count": null,
   "id": "8f31559a",
   "metadata": {},
   "outputs": [],
   "source": [
    "# Map showing issues with Hammersmith & Fulham, and Ealing entities which fall inside development corp LPA boundariy\n",
    "\n",
    "map_bounds = LPA_boundary_gdf[LPA_boundary_gdf[\"LPACD\"].isin([\"E60000191\", \"E60000208\", \"E60000330\"])].explore(\n",
    "    tiles = \"CartoDB positron\",  # use \"CartoDB positron\" tiles\n",
    "    color = \"blue\",\n",
    "    tooltip = False,\n",
    "    # highlight = False,\n",
    "    popup = [\"name\", \"LPACD\"],\n",
    "        style_kwds = {\n",
    "        \"fillOpacity\" : \"0\"\n",
    "        }\n",
    ")\n",
    "\n",
    "ca_beyond_LPA[ca_beyond_LPA[\"LPACD\"].isin([\"E60000191\", \"E60000208\"])].explore(\n",
    "    m = map_bounds,\n",
    "    color = \"red\",\n",
    "    tooltip = False,\n",
    "    popup = [\"organisation_name\", \"entity\", \"name\", \"reference\"],\n",
    "    # highlight = False,\n",
    "    style_kwds = {\n",
    "    \"fillOpacity\" : \"0.1\"\n",
    "    }\n",
    ")"
   ]
  },
  {
   "cell_type": "markdown",
   "id": "5fa4f456",
   "metadata": {},
   "source": [
    "## Listed Building Outlines"
   ]
  },
  {
   "cell_type": "code",
   "execution_count": null,
   "id": "317dafd5",
   "metadata": {},
   "outputs": [],
   "source": [
    "# download listed-building-outline dataset\n",
    "lbo_gdf = get_pdp_geo_dataset(\"listed-building-outline\")\n",
    "\n",
    "nrow(lbo_gdf)\n",
    "\n",
    "lbo_gdf = lbo_gdf.merge(\n",
    "    lookup_org[[\"organisation_name\", \"organisation_type\", \"organisation_entity\", \"LPACD\", \"LADCD\"]], \n",
    "    how = \"left\",\n",
    "    on = \"organisation_entity\")\n",
    "\n",
    "nrow(lbo_gdf)\n",
    "lbo_gdf.head(2)"
   ]
  },
  {
   "cell_type": "code",
   "execution_count": null,
   "id": "b9fc1002",
   "metadata": {},
   "outputs": [],
   "source": [
    "# check against LAD\n",
    "lbo_beyond_LAD = check_against_border(lbo_gdf, LAD_boundary_gdf, \"LADCD\")\n",
    "\n",
    "print(f\"No. of entities not contained by their expected boundary: {len(lbo_beyond_LAD):,}\")\n",
    "lbo_beyond_LAD.groupby([\"LPACD\", \"organisation_entity\", \"organisation_name\"]).size().sort_values(ascending=False).reset_index(name = \"count\")"
   ]
  },
  {
   "cell_type": "code",
   "execution_count": null,
   "id": "1051bbc2",
   "metadata": {},
   "outputs": [],
   "source": [
    "# check against LPA\n",
    "lbo_beyond_LPA = check_against_border(lbo_gdf, LPA_boundary_gdf, \"LPACD\")\n",
    "\n",
    "print(f\"No. of entities not contained by their expected boundary: {len(lbo_beyond_LPA):,}\")\n",
    "lbo_beyond_LPA.groupby([\"LPACD\", \"organisation_entity\", \"organisation_name\"]).size().sort_values(ascending=False).reset_index(name = \"count\")"
   ]
  },
  {
   "cell_type": "code",
   "execution_count": null,
   "id": "9b2ee5fa",
   "metadata": {},
   "outputs": [],
   "source": [
    "# Plot all entities outside of expected boundaries, alongside LPA boundaries\n",
    "\n",
    "map_entities = lbo_beyond_LAD.explore(\n",
    "    color = \"red\",\n",
    "    tooltip = False,\n",
    "    popup = [\"organisation_name\", \"entity\", \"name\", \"reference\"],\n",
    "    tiles = \"CartoDB positron\",  # use \"CartoDB positron\" tiles\n",
    "    # highlight = False,\n",
    "    style_kwds = {\n",
    "    \"fillOpacity\" : \"0.1\"\n",
    "    }\n",
    ")\n",
    "\n",
    "LAD_boundary_gdf[LAD_boundary_gdf[\"LADCD\"].isin(lbo_beyond_LAD[\"LADCD\"])].explore(\n",
    "    m = map_entities,\n",
    "    color = \"blue\",\n",
    "    tooltip = False,\n",
    "    popup = [\"name\", \"LADCD\"],\n",
    "        style_kwds = {\n",
    "        \"fillOpacity\" : \"0\"\n",
    "        }\n",
    ")"
   ]
  },
  {
   "cell_type": "markdown",
   "id": "a3ce20ed",
   "metadata": {},
   "source": [
    "## Article 4 direction areas"
   ]
  },
  {
   "cell_type": "code",
   "execution_count": null,
   "id": "b18ac99b",
   "metadata": {},
   "outputs": [],
   "source": [
    "# download article-4-direction-area dataset\n",
    "afa_gdf = get_pdp_geo_dataset(\"article-4-direction-area\")\n",
    "\n",
    "nrow(afa_gdf)\n",
    "\n",
    "afa_gdf = afa_gdf.merge(\n",
    "    lookup_org[[\"organisation_name\", \"organisation_type\", \"organisation_entity\", \"LPACD\", \"LADCD\"]], \n",
    "    how = \"left\",\n",
    "    on = \"organisation_entity\")\n",
    "\n",
    "nrow(afa_gdf)\n",
    "afa_gdf.head(2)"
   ]
  },
  {
   "cell_type": "code",
   "execution_count": null,
   "id": "e4dd11cb",
   "metadata": {},
   "outputs": [],
   "source": [
    "# check against LAD\n",
    "afa_beyond_LAD = check_against_border(afa_gdf, LAD_boundary_gdf, \"LADCD\")\n",
    "\n",
    "print(f\"No. of entities not contained by their expected boundary: {len(afa_beyond_LAD):,}\")\n",
    "afa_beyond_LAD.groupby([\"LPACD\", \"organisation_entity\", \"organisation_name\"]).size().sort_values(ascending=False).reset_index(name = \"count\")"
   ]
  },
  {
   "cell_type": "code",
   "execution_count": null,
   "id": "c76094a8",
   "metadata": {},
   "outputs": [],
   "source": [
    "# check against LPA\n",
    "afa_beyond_LPA = check_against_border(afa_gdf, LPA_boundary_gdf, \"LPACD\")\n",
    "\n",
    "print(f\"No. of entities not contained by their expected boundary: {len(afa_beyond_LPA):,}\")\n",
    "afa_beyond_LPA.groupby([\"LPACD\", \"organisation_entity\", \"organisation_name\"]).size().sort_values(ascending=False).reset_index(name = \"count\")"
   ]
  },
  {
   "cell_type": "code",
   "execution_count": null,
   "id": "e2b6d120",
   "metadata": {},
   "outputs": [],
   "source": [
    "# Plot all entities outside of expected boundaries, alongside LPA boundaries\n",
    "\n",
    "map_entities = afa_beyond_LPA.explore(\n",
    "    color = \"red\",\n",
    "    tooltip = False,\n",
    "    popup = [\"organisation_name\", \"entity\", \"name\", \"reference\"],\n",
    "    tiles = \"CartoDB positron\",  # use \"CartoDB positron\" tiles\n",
    "    # highlight = False,\n",
    "    style_kwds = {\n",
    "    \"fillOpacity\" : \"0.1\"\n",
    "    }\n",
    ")\n",
    "\n",
    "LPA_boundary_gdf[LPA_boundary_gdf[\"LPACD\"].isin(afa_beyond_LPA[\"LPACD\"])].explore(\n",
    "    m = map_entities,\n",
    "    color = \"blue\",\n",
    "    tooltip = False,\n",
    "    popup = [\"name\", \"LPACD\"],\n",
    "        style_kwds = {\n",
    "        \"fillOpacity\" : \"0\"\n",
    "        }\n",
    ")"
   ]
  },
  {
   "cell_type": "markdown",
   "id": "b05c8310",
   "metadata": {},
   "source": [
    "## Trees"
   ]
  },
  {
   "cell_type": "code",
   "execution_count": null,
   "id": "02019d98",
   "metadata": {},
   "outputs": [],
   "source": [
    "# download listed-building-outline dataset\n",
    "tree_gdf = get_pdp_geo_dataset(\"tree\")\n",
    "\n",
    "nrow(tree_gdf)\n",
    "\n",
    "tree_gdf = tree_gdf.merge(\n",
    "    lookup_org[[\"organisation_name\", \"organisation_type\", \"organisation_entity\", \"LPACD\", \"LADCD\"]], \n",
    "    how = \"left\",\n",
    "    on = \"organisation_entity\")\n",
    "\n",
    "nrow(tree_gdf)\n",
    "tree_gdf.head(2)"
   ]
  },
  {
   "cell_type": "code",
   "execution_count": null,
   "id": "a33a95cc",
   "metadata": {},
   "outputs": [],
   "source": [
    "# check against LAD\n",
    "tree_beyond_LAD = check_against_border(tree_gdf, LAD_boundary_gdf, \"LADCD\")\n",
    "\n",
    "print(f\"No. of entities not contained by their expected boundary: {len(tree_beyond_LAD):,}\")\n",
    "tree_beyond_LAD.groupby([\"LPACD\", \"organisation_entity\", \"organisation_name\"]).size().sort_values(ascending=False).reset_index(name = \"count\")"
   ]
  },
  {
   "cell_type": "code",
   "execution_count": null,
   "id": "5c4fcc50",
   "metadata": {},
   "outputs": [],
   "source": [
    "# check against LPA\n",
    "tree_beyond_LPA = check_against_border(tree_gdf, LPA_boundary_gdf, \"LPACD\")\n",
    "\n",
    "print(f\"No. of entities not contained by their expected boundary: {len(tree_beyond_LPA):,}\")\n",
    "tree_beyond_LPA.groupby([\"LPACD\", \"organisation_entity\", \"organisation_name\"]).size().sort_values(ascending=False).reset_index(name = \"count\")"
   ]
  },
  {
   "cell_type": "markdown",
   "id": "1055d868",
   "metadata": {},
   "source": [
    "None of the organisations with issues here are those which have big differences between LAD and LPA boundaries, so these small differences in the number of issues with each boundary type appear to be caused by very minor variations in the LAD vs. LPA boundary.\n",
    "\n",
    "The main result to note is that there are a high number of issues with Barnet trees being outside of the LAD boundary."
   ]
  },
  {
   "cell_type": "code",
   "execution_count": null,
   "id": "62d45686",
   "metadata": {},
   "outputs": [],
   "source": [
    "# Plot all entities outside of expected boundaries, alongside LPA boundaries\n",
    "\n",
    "map_entities = tree_beyond_LAD.explore(\n",
    "    color = \"red\",\n",
    "    tooltip = False,\n",
    "    popup = [\"organisation_name\", \"entity\", \"name\", \"reference\"],\n",
    "    tiles = \"CartoDB positron\",  # use \"CartoDB positron\" tiles\n",
    "    # highlight = False,\n",
    "    style_kwds = {\n",
    "    \"fillOpacity\" : \"0.1\"\n",
    "    }\n",
    ")\n",
    "\n",
    "LAD_boundary_gdf[LAD_boundary_gdf[\"LADCD\"].isin(tree_beyond_LAD[\"LADCD\"])].explore(\n",
    "    m = map_entities,\n",
    "    color = \"blue\",\n",
    "    tooltip = False,\n",
    "    popup = [\"name\", \"LADCD\"],\n",
    "        style_kwds = {\n",
    "        \"fillOpacity\" : \"0\"\n",
    "        }\n",
    ")"
   ]
  },
  {
   "cell_type": "code",
   "execution_count": null,
   "id": "dd601a16",
   "metadata": {},
   "outputs": [],
   "source": [
    "# Plot all entities outside of expected boundaries, alongside LPA boundaries\n",
    "\n",
    "map_entities = tree_beyond_LPA.explore(\n",
    "    color = \"red\",\n",
    "    tooltip = False,\n",
    "    popup = [\"organisation_name\", \"entity\", \"name\", \"reference\"],\n",
    "    tiles = \"CartoDB positron\",  # use \"CartoDB positron\" tiles\n",
    "    # highlight = False,\n",
    "    style_kwds = {\n",
    "    \"fillOpacity\" : \"0.1\"\n",
    "    }\n",
    ")\n",
    "\n",
    "LPA_boundary_gdf[LPA_boundary_gdf[\"LPACD\"].isin(tree_beyond_LPA[\"LPACD\"])].explore(\n",
    "    m = map_entities,\n",
    "    color = \"blue\",\n",
    "    tooltip = False,\n",
    "    popup = [\"name\", \"LPACD\"],\n",
    "        style_kwds = {\n",
    "        \"fillOpacity\" : \"0\"\n",
    "        }\n",
    ")"
   ]
  },
  {
   "cell_type": "markdown",
   "id": "2e62423b",
   "metadata": {},
   "source": [
    "## Tree preservation zones"
   ]
  },
  {
   "cell_type": "code",
   "execution_count": null,
   "id": "b77d4f6c",
   "metadata": {},
   "outputs": [],
   "source": [
    "# download listed-building-outline dataset\n",
    "tpz_gdf = get_pdp_geo_dataset(\"tree-preservation-zone\")\n",
    "\n",
    "nrow(tpz_gdf)\n",
    "\n",
    "tpz_gdf = tpz_gdf.merge(\n",
    "    lookup_org[[\"organisation_name\", \"organisation_type\", \"organisation_entity\", \"LPACD\", \"LADCD\"]], \n",
    "    how = \"left\",\n",
    "    on = \"organisation_entity\")\n",
    "\n",
    "nrow(tpz_gdf)\n",
    "tpz_gdf.head(2)"
   ]
  },
  {
   "cell_type": "code",
   "execution_count": null,
   "id": "2019216e",
   "metadata": {},
   "outputs": [],
   "source": [
    "# check against LAD\n",
    "tpz_beyond_LAD = check_against_border(tpz_gdf, LAD_boundary_gdf, \"LADCD\")\n",
    "\n",
    "print(f\"No. of entities not contained by their expected boundary: {len(tpz_beyond_LAD):,}\")\n",
    "tpz_beyond_LAD.groupby([\"LPACD\", \"organisation_entity\", \"organisation_name\"]).size().sort_values(ascending=False).reset_index(name = \"count\")"
   ]
  },
  {
   "cell_type": "code",
   "execution_count": null,
   "id": "a676ba04",
   "metadata": {},
   "outputs": [],
   "source": [
    "# check against LPA\n",
    "tpz_beyond_LPA = check_against_border(tpz_gdf, LPA_boundary_gdf, \"LPACD\")\n",
    "\n",
    "print(f\"No. of entities not contained by their expected boundary: {len(tpz_beyond_LPA):,}\")\n",
    "tpz_beyond_LPA.groupby([\"LPACD\", \"organisation_entity\", \"organisation_name\"]).size().sort_values(ascending=False).reset_index(name = \"count\")"
   ]
  },
  {
   "cell_type": "markdown",
   "id": "c0b5fe70",
   "metadata": {},
   "source": [
    "Here the results are similar to those for trees, where the results are largely the same for LAD vs. LPA as these are all organisations where those borders don't differ much. Again, there seems to be a bigger issue with data from Barnet."
   ]
  },
  {
   "cell_type": "code",
   "execution_count": null,
   "id": "b34e589e",
   "metadata": {},
   "outputs": [],
   "source": [
    "# Plot all entities outside of expected boundaries, alongside LPA boundaries\n",
    "\n",
    "map_entities = tpz_beyond_LAD.explore(\n",
    "    color = \"red\",\n",
    "    tooltip = False,\n",
    "    popup = [\"organisation_name\", \"entity\", \"name\", \"reference\"],\n",
    "    tiles = \"CartoDB positron\",  # use \"CartoDB positron\" tiles\n",
    "    # highlight = False,\n",
    "    style_kwds = {\n",
    "    \"fillOpacity\" : \"0.1\"\n",
    "    }\n",
    ")\n",
    "\n",
    "LAD_boundary_gdf[LAD_boundary_gdf[\"LADCD\"].isin(tpz_beyond_LAD[\"LADCD\"])].explore(\n",
    "    m = map_entities,\n",
    "    color = \"blue\",\n",
    "    tooltip = False,\n",
    "    popup = [\"name\", \"LADCD\"],\n",
    "        style_kwds = {\n",
    "        \"fillOpacity\" : \"0\"\n",
    "        }\n",
    ")"
   ]
  },
  {
   "cell_type": "code",
   "execution_count": null,
   "id": "e6877bab",
   "metadata": {},
   "outputs": [],
   "source": [
    "# Plot all entities outside of expected boundaries, alongside LPA boundaries\n",
    "\n",
    "map_entities = tree_beyond_LPA.explore(\n",
    "    color = \"red\",\n",
    "    tooltip = False,\n",
    "    popup = [\"organisation_name\", \"entity\", \"name\", \"reference\"],\n",
    "    tiles = \"CartoDB positron\",  # use \"CartoDB positron\" tiles\n",
    "    # highlight = False,\n",
    "    style_kwds = {\n",
    "    \"fillOpacity\" : \"0.1\"\n",
    "    }\n",
    ")\n",
    "\n",
    "LPA_boundary_gdf[LPA_boundary_gdf[\"LPACD\"].isin(tree_beyond_LPA[\"LPACD\"])].explore(\n",
    "    m = map_entities,\n",
    "    color = \"blue\",\n",
    "    tooltip = False,\n",
    "    popup = [\"name\", \"LPACD\"],\n",
    "        style_kwds = {\n",
    "        \"fillOpacity\" : \"0\"\n",
    "        }\n",
    ")"
   ]
  },
  {
   "cell_type": "code",
   "execution_count": null,
   "id": "ef68eb5f",
   "metadata": {},
   "outputs": [],
   "source": []
  }
 ],
 "metadata": {
  "kernelspec": {
   "display_name": "pdp_jupyter",
   "language": "python",
   "name": "python3"
  },
  "language_info": {
   "codemirror_mode": {
    "name": "ipython",
    "version": 3
   },
   "file_extension": ".py",
   "mimetype": "text/x-python",
   "name": "python",
   "nbconvert_exporter": "python",
   "pygments_lexer": "ipython3",
   "version": "3.10.13"
  }
 },
 "nbformat": 4,
 "nbformat_minor": 5
}
