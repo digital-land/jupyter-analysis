{
 "cells": [
  {
   "cell_type": "code",
   "execution_count": 2,
   "id": "c4fc9742-3f39-4ec6-98e5-939f50b15c85",
   "metadata": {},
   "outputs": [],
   "source": [
    "import pandas as pd\n",
    "import urllib.parse\n",
    "import ipywidgets as widgets"
   ]
  },
  {
   "cell_type": "markdown",
   "id": "d3a95253-e56c-4a04-8f47-271277974c5e",
   "metadata": {},
   "source": [
    "# Description"
   ]
  },
  {
   "cell_type": "code",
   "execution_count": 83,
   "id": "8476e38b-9a41-42e4-9c54-7f65ddf491ad",
   "metadata": {},
   "outputs": [
    {
     "data": {
      "application/vnd.jupyter.widget-view+json": {
       "model_id": "c4b1c5fea6754279b019f6bb16999720",
       "version_major": 2,
       "version_minor": 0
      },
      "text/plain": [
       "interactive(children=(Dropdown(description='dataset_combination', options={'Article 4 Direction and Article 4 …"
      ]
     },
     "metadata": {},
     "output_type": "display_data"
    }
   ],
   "source": [
    "datasette_url = \"https://datasette.planning.data.gov.uk/\"\n",
    "\n",
    "collection_csv_dict = {\n",
    "    \"article-4-direction\": \"https://files.planning.data.gov.uk/dataset/article-4-direction.csv\",\n",
    "    \"article-4-direction-area\": \"https://files.planning.data.gov.uk/dataset/article-4-direction-area.csv\",\n",
    "    \"conservation-area\": \"https://files.planning.data.gov.uk/dataset/conservation-area.csv\",\n",
    "    \"conservation-area-document\": \"https://files.planning.data.gov.uk/dataset/conservation-area-document.csv\",\n",
    "    \"tree-preservation-order\": \"https://files.planning.data.gov.uk/dataset/tree-preservation-order.csv\",\n",
    "    \"tree\": \"https://files.planning.data.gov.uk/dataset/tree.csv\",\n",
    "    \"tree-preservation-zone\": \"https://files.planning.data.gov.uk/dataset/tree-preservation-zone.csv\"\n",
    "}\n",
    "\n",
    "global collection_options    \n",
    "collection_options = {\n",
    "    \"Article 4 Direction and Article 4 Direction Area\": [\"article-4-direction\", \"article-4-direction-area\"],\n",
    "    \"Conservation Area and Documents\": [\"conservation-area\",\"conservation-area-document\"],\n",
    "    \"Tree Preservation Order and Tree\": [\"tree-preservation-order\", \"tree\"],\n",
    "    \"Tree Preservation Order and Tree Preservation Zones\":[\"tree-preservation-order\", \"tree-preservation-zone\"]\n",
    "}\n",
    "\n",
    "collection_dropdown = widgets.Dropdown(\n",
    "    options=collection_options,\n",
    "    description=\"Select dataset combination:\",\n",
    ")\n",
    "\n",
    "def get_organisations():\n",
    "    global org_df  \n",
    "    params = urllib.parse.urlencode({\n",
    "        \"sql\": f\"\"\"\n",
    "        select\n",
    "          *\n",
    "        from\n",
    "          organisation o\n",
    "        \"\"\",\n",
    "        \"_size\": \"max\"\n",
    "    })\n",
    "    url = f\"{datasette_url}digital-land.csv?{params}\"\n",
    "    org_df = pd.read_csv(url)\n",
    "    return org_df\n",
    "\n",
    "def get_spatial_doc_matched_df(dataset_combination):\n",
    "    global merged_df\n",
    "    df_one = pd.read_csv(collection_csv_dict[dataset_combination[0]])\n",
    "    df_two = pd.read_csv(collection_csv_dict[dataset_combination[1]])\n",
    "    df_one = df_one[['entity', 'dataset', 'organisation-entity', 'reference']]\n",
    "    df_two = df_two[['entity','dataset', 'organisation-entity', dataset_combination[0]]]\n",
    "    merged_df = pd.merge(df_one, df_two, how='outer', left_on=['reference', 'organisation-entity'], right_on=[dataset_combination[0], 'organisation-entity'])\n",
    "    org_df = get_organisations()[['name', 'entity']]\n",
    "    merged_df = pd.merge(merged_df, org_df, how='left', left_on='organisation-entity', right_on='entity')\n",
    "    merged_df = merged_df[['entity_x','entity_y','dataset_x', 'dataset_y', 'name', 'reference', dataset_combination[0]]]\n",
    "    return merged_df\n",
    "\n",
    "widgets.interact(get_spatial_doc_matched_df, dataset_combination=collection_options)\n",
    "initial_organisation = collection_dropdown.value"
   ]
  },
  {
   "cell_type": "code",
   "execution_count": 74,
   "id": "2e18307b-f126-4fab-baf6-b5e2972f3e19",
   "metadata": {},
   "outputs": [
    {
     "name": "stdin",
     "output_type": "stream",
     "text": [
      "Do you want to download the table? (yes/no):  yes\n"
     ]
    },
    {
     "name": "stdout",
     "output_type": "stream",
     "text": [
      "Query result downloaded as 'merged_df.csv'\n"
     ]
    }
   ],
   "source": [
    "download = input(\"Do you want to download the table? (yes/no): \")\n",
    "\n",
    "if download.lower() == \"yes\":\n",
    "    merged_df.to_csv(\"merged_df.csv\", index=False)\n",
    "    print(\"Query result downloaded as 'merged_df.csv'\")"
   ]
  },
  {
   "cell_type": "code",
   "execution_count": 95,
   "id": "7092019c-191d-4640-bac1-34956d69adb0",
   "metadata": {},
   "outputs": [
    {
     "data": {
      "application/vnd.jupyter.widget-view+json": {
       "model_id": "29f0ae21db4c401ca71f0407e2e93c0d",
       "version_major": 2,
       "version_minor": 0
      },
      "text/plain": [
       "interactive(children=(Dropdown(description='dataset_combination', options={'Article 4 Direction and Article 4 …"
      ]
     },
     "metadata": {},
     "output_type": "display_data"
    }
   ],
   "source": [
    "def get_null_entities(dataset_combination):\n",
    "    global null_entities\n",
    "    df = get_spatial_doc_matched_df(dataset_combination)\n",
    "    null_mask = df.isnull().any(axis=1)\n",
    "    null_entities = df[null_mask].reset_index(drop=True)\n",
    "    return null_entities\n",
    "    \n",
    "\n",
    "widgets.interact(get_null_entities, dataset_combination=collection_options)\n",
    "initial_organisation = collection_dropdown.value"
   ]
  },
  {
   "cell_type": "code",
   "execution_count": 97,
   "id": "335dbf9c-ae5f-465e-a36e-73298d3dfba8",
   "metadata": {},
   "outputs": [
    {
     "name": "stdin",
     "output_type": "stream",
     "text": [
      "Do you want to download the table? (yes/no):  yes\n"
     ]
    },
    {
     "name": "stdout",
     "output_type": "stream",
     "text": [
      "Query result downloaded as 'null_entities.csv'\n"
     ]
    }
   ],
   "source": [
    "download = input(\"Do you want to download the table? (yes/no): \")\n",
    "\n",
    "if download.lower() == \"yes\":\n",
    "    null_entities.to_csv(\"null_entities.csv\", index=False)\n",
    "    print(\"Query result downloaded as 'null_entities.csv'\")"
   ]
  },
  {
   "cell_type": "code",
   "execution_count": null,
   "id": "1ab580dc-878e-431a-a360-4c6c271085c3",
   "metadata": {},
   "outputs": [],
   "source": []
  }
 ],
 "metadata": {
  "kernelspec": {
   "display_name": "Python 3 (ipykernel)",
   "language": "python",
   "name": "python3"
  },
  "language_info": {
   "codemirror_mode": {
    "name": "ipython",
    "version": 3
   },
   "file_extension": ".py",
   "mimetype": "text/x-python",
   "name": "python",
   "nbconvert_exporter": "python",
   "pygments_lexer": "ipython3",
   "version": "3.10.12"
  }
 },
 "nbformat": 4,
 "nbformat_minor": 5
}
