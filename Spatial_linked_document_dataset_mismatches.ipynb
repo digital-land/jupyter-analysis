{
 "cells": [
  {
   "cell_type": "code",
   "execution_count": null,
   "id": "fc7367e3-dd8d-4bae-92ea-c724493bda5a",
   "metadata": {},
   "outputs": [],
   "source": [
    "# Description"
   ]
  },
  {
   "cell_type": "code",
   "execution_count": null,
   "id": "c4fc9742-3f39-4ec6-98e5-939f50b15c85",
   "metadata": {},
   "outputs": [],
   "source": [
    "import pandas as pd\n",
    "import urllib.parse\n",
    "import ipywidgets as widgets"
   ]
  },
  {
   "cell_type": "code",
   "execution_count": null,
   "id": "0f256054-a0bc-4933-b213-42d466da5a47",
   "metadata": {},
   "outputs": [],
   "source": [
    "datasette_url = \"https://datasette.planning.data.gov.uk/\"\n",
    "\n",
    "def get_spatial_dataset(dataset_combination):\n",
    "    global spatial_dataset\n",
    "    params_one = urllib.parse.urlencode({\n",
    "        \"sql\": f\"\"\"\n",
    "        select\n",
    "            e.dataset,\n",
    "            e.organisation_entity,\n",
    "            e.reference\n",
    "        from\n",
    "            entity e\n",
    "        \"\"\",\n",
    "        \"_size\": \"max\"\n",
    "    })\n",
    "    params_two = urllib.parse.urlencode({\n",
    "        \"sql\": f\"\"\"\n",
    "        select\n",
    "            e.dataset,\n",
    "            e.organisation_entity,\n",
    "            e.{dataset_combination[0]}\n",
    "        from\n",
    "            entity e\n",
    "        \"\"\",\n",
    "        \"_size\": \"max\"\n",
    "    })\n",
    "    url_one = f\"{datasette_url}{dataset_combination[0]}.csv?{params_one}\"\n",
    "    df_one = pd.read_csv(url_one)\n",
    "    url_two = f\"{datasette_url}{dataset_combination[1]}.csv?{params_two}\"\n",
    "    df_two = pd.read_csv(url_two)\n",
    "\n",
    "    df_one['reference'] = df_one['reference'].astype(str)\n",
    "    df_two[f\"{dataset_combination[0]}\"] = df_two[f\"{dataset_combination[0]}\"].astype(str)\n",
    "    \n",
    "    #join\n",
    "    df = pd.merge(df_one, df_two, left_on=[\"reference\", \"organisation_entity\"], right_on=[\"reference\", \"organisation_entity\"])\n",
    "    \n",
    "    return df\n",
    "\n",
    "global collection_options    \n",
    "collection_options = {\n",
    "    \"Article 4 Direction and Article 4 Direction Area\": [\"article-4-direction\", \"article-4-direction-area\"],\"Conservation Area and Documents\": [\"conservation-area\",\"conservation-area-document\"],\"Tree Preservation Order and Tree\": [\"tree-preservation-order\", \"tree\"], \"Tree Preservation Order and Tree Preservation Zones\":[\"tree-preservation-order\", \"tree-preservation-zone\"]\n",
    "}\n",
    "\n",
    "collection_dropdown = widgets.Dropdown(\n",
    "    options=collection_options,\n",
    "    description=\"Select dataset combination:\",\n",
    ")\n",
    "\n",
    "widgets.interact(get_spatial_dataset, dataset_combination=collection_dropdown)\n",
    "initial_organisation = collection_dropdown.value"
   ]
  },
  {
   "cell_type": "code",
   "execution_count": null,
   "id": "8476e38b-9a41-42e4-9c54-7f65ddf491ad",
   "metadata": {},
   "outputs": [],
   "source": []
  }
 ],
 "metadata": {
  "kernelspec": {
   "display_name": "Python 3 (ipykernel)",
   "language": "python",
   "name": "python3"
  },
  "language_info": {
   "codemirror_mode": {
    "name": "ipython",
    "version": 3
   },
   "file_extension": ".py",
   "mimetype": "text/x-python",
   "name": "python",
   "nbconvert_exporter": "python",
   "pygments_lexer": "ipython3",
   "version": "3.10.12"
  }
 },
 "nbformat": 4,
 "nbformat_minor": 5
}
