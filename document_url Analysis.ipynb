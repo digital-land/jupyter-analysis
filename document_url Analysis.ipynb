{
 "cells": [
  {
   "cell_type": "markdown",
   "id": "448de8c7-f9c3-4ea1-98a9-b14c3981a909",
   "metadata": {},
   "source": [
    "# document_url Analysis\n",
    "\n",
    "**Author:** Adam Miriam\\\n",
    "**Date:** 23rd Feb 2024\\\n",
    "**Data Scope:** One of the selected primary datasets\\\n",
    "**Report Type:** Exploratory\n",
    "\n",
    "This Jupyter notebook should collect the provided document-urls from the desired dataset, and test whether they are live, accessible links."
   ]
  },
  {
   "cell_type": "code",
   "execution_count": null,
   "id": "95c951c8-beb4-43d1-8ce6-41ec08d2b015",
   "metadata": {},
   "outputs": [],
   "source": [
    "import pandas as pd\n",
    "import urllib.parse\n",
    "import ipywidgets as widgets\n",
    "import urllib3\n",
    "import urllib"
   ]
  },
  {
   "cell_type": "markdown",
   "id": "eacf209a-0b6a-418b-b39a-d5a55a11a855",
   "metadata": {},
   "source": [
    "This cell will grab the entries of the dataset selected, along with document_urls."
   ]
  },
  {
   "cell_type": "code",
   "execution_count": null,
   "id": "d0119638-c206-45e4-8356-95b9191ff876",
   "metadata": {},
   "outputs": [],
   "source": [
    "global dataset_options    \n",
    "dataset_options = {\n",
    "    \"Article 4 Direction\": \"article-4-direction\",\n",
    "    \"Conservation Area Document\": \"conservation-area-document\",\n",
    "    \"Tree Preservation Order\": \"tree-preservation-order\",\n",
    "\n",
    "}\n",
    "\n",
    "def get_document_urls(dataset_options):\n",
    "    df = pd.read_csv(f\"https://files.planning.data.gov.uk/dataset/{dataset_options}.csv\")\n",
    "    df = df[[\"prefix\",\"reference\",\"organisation-entity\", \"document-url\"]]\n",
    "    return df\n",
    "\n",
    "collection_dropdown = widgets.Dropdown(\n",
    "    options=dataset_options,\n",
    "    description=\"Select dataset combination:\",\n",
    ")"
   ]
  },
  {
   "cell_type": "markdown",
   "id": "04acbc1a-3beb-4506-9f38-16742d3f2a0d",
   "metadata": {},
   "source": [
    "This cell contains a function returning entities with a document-url equalling null."
   ]
  },
  {
   "cell_type": "code",
   "execution_count": null,
   "id": "7a874c33-610f-4106-9f86-64800d8e52de",
   "metadata": {},
   "outputs": [],
   "source": [
    "def get_entries_with_null_document_urls(dataset_options):\n",
    "    global null_dataset_document_urls\n",
    "    dataset_document_urls = get_document_urls(dataset_options)\n",
    "    null_dataset_document_urls = dataset_document_urls[dataset_document_urls['document-url'].isna()].reset_index(drop=True)\n",
    "    return null_dataset_document_urls\n",
    "    \n",
    "widgets.interact(get_entries_with_null_document_urls, dataset_options=dataset_options)\n",
    "initial_organisation = collection_dropdown.value"
   ]
  },
  {
   "cell_type": "code",
   "execution_count": null,
   "id": "8e24c2f1-2e47-4b0f-849c-41dbec5f1edd",
   "metadata": {},
   "outputs": [],
   "source": [
    "download = input(\"Do you want to download the table? (yes/no): \")\n",
    "\n",
    "if download.lower() == \"yes\":\n",
    "    null_dataset_document_urls.to_csv(\"null_dataset_document_urls.csv\", index=False)\n",
    "    print(\"Query result downloaded as 'null_dataset_document_urls.csv'\") "
   ]
  },
  {
   "cell_type": "markdown",
   "id": "b170d118-b508-4767-a021-b56ea2e715df",
   "metadata": {},
   "source": [
    "The following cell contains a function which checks all provided document_url values of the chosen dataset and returns all document_urls which returned expections."
   ]
  },
  {
   "cell_type": "code",
   "execution_count": null,
   "id": "283a2d4e-bce3-49b8-b4d7-7a99e1bfe7ac",
   "metadata": {},
   "outputs": [],
   "source": [
    "def check_url(url):\n",
    "    try:\n",
    "        response = urllib.request.urlopen(url)\n",
    "        response_status = response.status\n",
    "    except (Exception) as e:\n",
    "        response_status = e\n",
    "    return response_status\n",
    "    \n",
    "def check_document_urls(dataset_options):\n",
    "    global problem_dataset_document_urls\n",
    "    problem_dataset_document_urls = get_document_urls(dataset_options).dropna().reset_index(drop=True)\n",
    "    problem_dataset_document_urls[\"response\"] = problem_dataset_document_urls['document-url'].apply(check_url)\n",
    "    problem_dataset_document_urls = problem_dataset_document_urls[problem_dataset_document_urls['response'] != 200]\n",
    "    return problem_dataset_document_urls\n",
    "\n",
    "widgets.interact(check_document_urls, dataset_options=dataset_options)\n",
    "initial_organisation = collection_dropdown.value"
   ]
  },
  {
   "cell_type": "code",
   "execution_count": null,
   "id": "ef30ad4b-3ce9-4462-9a9a-b8e781f9c7ba",
   "metadata": {},
   "outputs": [],
   "source": [
    "download = input(\"Do you want to download the table? (yes/no): \")\n",
    "\n",
    "if download.lower() == \"yes\":\n",
    "    problem_dataset_document_urls.to_csv(\"problem_dataset_document_urls.csv\", index=False)\n",
    "    print(\"Query result downloaded as 'problem_dataset_document_urls.csv'\") "
   ]
  }
 ],
 "metadata": {
  "kernelspec": {
   "display_name": "Python 3 (ipykernel)",
   "language": "python",
   "name": "python3"
  },
  "language_info": {
   "codemirror_mode": {
    "name": "ipython",
    "version": 3
   },
   "file_extension": ".py",
   "mimetype": "text/x-python",
   "name": "python",
   "nbconvert_exporter": "python",
   "pygments_lexer": "ipython3",
   "version": "3.10.12"
  }
 },
 "nbformat": 4,
 "nbformat_minor": 5
}
