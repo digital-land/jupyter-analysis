{
 "cells": [
  {
   "cell_type": "markdown",
   "metadata": {},
   "source": [
    "# Dataset Sources report\n",
    "\n",
    "This notebook produces a table showing the source and count of entities in a given dataset.\n",
    "\n",
    "It needs \n",
    "\n",
    "1. A recently downloaded copy of the entity datasette from https://datasette.planning.data.gov.uk/entity which it uses as input. You can see the input and output file names in the next section of this notebook.\n",
    "1. the name of the dataset you are interested in, again below.\n",
    "\n",
    "It writes the result to a csv file with the given name."
   ]
  },
  {
   "cell_type": "code",
   "execution_count": 113,
   "metadata": {},
   "outputs": [],
   "source": [
    "dataset_name=\"conservation-area\"\n",
    "\n",
    "source_file = \"/mnt/c/Users/MarkSmith/Downloads/entity_2023_09_12.sqlite3\" # or whatever you called your download.\n",
    "dest_file=  F\"/mnt/c/Users/MarkSmith/Downloads/entity_2023_09_12_{dataset_name}.csv\" # or wherever you want your output\n",
    "\n"
   ]
  },
  {
   "cell_type": "markdown",
   "metadata": {},
   "source": [
    "First time to run is a bit slow as it indexes the entity table."
   ]
  },
  {
   "cell_type": "code",
   "execution_count": 114,
   "metadata": {},
   "outputs": [
    {
     "data": {
      "text/plain": [
       "<sqlite3.Cursor at 0x7fc8ba3d9140>"
      ]
     },
     "execution_count": 114,
     "metadata": {},
     "output_type": "execute_result"
    }
   ],
   "source": [
    "import sqlite3\n",
    "import pandas as pd\n",
    "\n",
    "# Create the connection\n",
    "cnx = sqlite3.connect(source_file)\n",
    "\n",
    "cursor = cnx.cursor()\n",
    "\n",
    "cnx.execute(\"CREATE INDEX if not exists idx_entity ON entity(dataset)\") \n",
    "cnx.execute(\"CREATE INDEX if not exists idx_organisation_entity ON entity(organisation_entity)\") \n"
   ]
  },
  {
   "cell_type": "code",
   "execution_count": 115,
   "metadata": {},
   "outputs": [],
   "source": [
    "lpas = pd.read_sql_query(\"SELECT entity as id, naME, REFERENCE FROM Entity where dataset = 'local-authority'\", cnx)\n",
    "lpas['id'] = lpas['id'].astype('Int64', errors='ignore') # there's a type error when you concet later if you don't do this."
   ]
  },
  {
   "cell_type": "code",
   "execution_count": 116,
   "metadata": {},
   "outputs": [],
   "source": [
    "query = F\"\"\"\n",
    "SELECT organisation_entity as id, count (*) \n",
    "from Entity \n",
    "where dataset = '{dataset_name}' \n",
    "and organisation_entity != \"\"\n",
    "group by 1\n",
    "order by id \n",
    "\"\"\"\n",
    "\n",
    "rows = pd.read_sql_query(  query, cnx)\n",
    "rows['id'] = rows['id'].astype('Int64', errors='raise')"
   ]
  },
  {
   "cell_type": "code",
   "execution_count": 117,
   "metadata": {},
   "outputs": [
    {
     "data": {
      "text/html": [
       "<div>\n",
       "<style scoped>\n",
       "    .dataframe tbody tr th:only-of-type {\n",
       "        vertical-align: middle;\n",
       "    }\n",
       "\n",
       "    .dataframe tbody tr th {\n",
       "        vertical-align: top;\n",
       "    }\n",
       "\n",
       "    .dataframe thead th {\n",
       "        text-align: right;\n",
       "    }\n",
       "</style>\n",
       "<table border=\"1\" class=\"dataframe\">\n",
       "  <thead>\n",
       "    <tr style=\"text-align: right;\">\n",
       "      <th></th>\n",
       "      <th>id</th>\n",
       "      <th>name</th>\n",
       "      <th>reference</th>\n",
       "      <th>count (*)</th>\n",
       "    </tr>\n",
       "  </thead>\n",
       "  <tbody>\n",
       "    <tr>\n",
       "      <th>0</th>\n",
       "      <td>33</td>\n",
       "      <td>Babergh District Council</td>\n",
       "      <td>BAB</td>\n",
       "      <td>12</td>\n",
       "    </tr>\n",
       "    <tr>\n",
       "      <th>1</th>\n",
       "      <td>42</td>\n",
       "      <td>London Borough of Brent</td>\n",
       "      <td>BEN</td>\n",
       "      <td>23</td>\n",
       "    </tr>\n",
       "    <tr>\n",
       "      <th>2</th>\n",
       "      <td>43</td>\n",
       "      <td>London Borough of Bexley</td>\n",
       "      <td>BEX</td>\n",
       "      <td>12</td>\n",
       "    </tr>\n",
       "    <tr>\n",
       "      <th>3</th>\n",
       "      <td>48</td>\n",
       "      <td>London Borough of Barnet</td>\n",
       "      <td>BNE</td>\n",
       "      <td>11</td>\n",
       "    </tr>\n",
       "    <tr>\n",
       "      <th>4</th>\n",
       "      <td>51</td>\n",
       "      <td>Bolton Metropolitan Borough Council</td>\n",
       "      <td>BOL</td>\n",
       "      <td>25</td>\n",
       "    </tr>\n",
       "    <tr>\n",
       "      <th>...</th>\n",
       "      <td>...</td>\n",
       "      <td>...</td>\n",
       "      <td>...</td>\n",
       "      <td>...</td>\n",
       "    </tr>\n",
       "    <tr>\n",
       "      <th>60</th>\n",
       "      <td>366</td>\n",
       "      <td>London Borough of Waltham Forest</td>\n",
       "      <td>WFT</td>\n",
       "      <td>1</td>\n",
       "    </tr>\n",
       "    <tr>\n",
       "      <th>61</th>\n",
       "      <td>376</td>\n",
       "      <td>London Borough of Wandsworth</td>\n",
       "      <td>WND</td>\n",
       "      <td>18</td>\n",
       "    </tr>\n",
       "    <tr>\n",
       "      <th>62</th>\n",
       "      <td>383</td>\n",
       "      <td>West Oxfordshire District Council</td>\n",
       "      <td>WOX</td>\n",
       "      <td>2</td>\n",
       "    </tr>\n",
       "    <tr>\n",
       "      <th>63</th>\n",
       "      <td>387</td>\n",
       "      <td>City of Westminster</td>\n",
       "      <td>WSM</td>\n",
       "      <td>2</td>\n",
       "    </tr>\n",
       "    <tr>\n",
       "      <th>64</th>\n",
       "      <td>395</td>\n",
       "      <td>City of York Council</td>\n",
       "      <td>YOR</td>\n",
       "      <td>2</td>\n",
       "    </tr>\n",
       "  </tbody>\n",
       "</table>\n",
       "<p>65 rows × 4 columns</p>\n",
       "</div>"
      ],
      "text/plain": [
       "     id                                 name reference  count (*)\n",
       "0    33             Babergh District Council       BAB         12\n",
       "1    42              London Borough of Brent       BEN         23\n",
       "2    43             London Borough of Bexley       BEX         12\n",
       "3    48             London Borough of Barnet       BNE         11\n",
       "4    51  Bolton Metropolitan Borough Council       BOL         25\n",
       "..  ...                                  ...       ...        ...\n",
       "60  366     London Borough of Waltham Forest       WFT          1\n",
       "61  376         London Borough of Wandsworth       WND         18\n",
       "62  383    West Oxfordshire District Council       WOX          2\n",
       "63  387                  City of Westminster       WSM          2\n",
       "64  395                 City of York Council       YOR          2\n",
       "\n",
       "[65 rows x 4 columns]"
      ]
     },
     "execution_count": 117,
     "metadata": {},
     "output_type": "execute_result"
    }
   ],
   "source": [
    "result = pd.merge(lpas, rows, on= 'id',  how = \"inner\")\n",
    "\n",
    "result"
   ]
  },
  {
   "cell_type": "code",
   "execution_count": 118,
   "metadata": {},
   "outputs": [
    {
     "name": "stdout",
     "output_type": "stream",
     "text": [
      "\n",
      "Report saved to /mnt/c/Users/MarkSmith/Downloads/entity_2023_09_12_conservation-area.csv\n"
     ]
    }
   ],
   "source": [
    "result.to_csv(dest_file)\n",
    "\n",
    "print (F\"\\nReport saved to {dest_file}\")"
   ]
  }
 ],
 "metadata": {
  "kernelspec": {
   "display_name": ".venv",
   "language": "python",
   "name": "python3"
  },
  "language_info": {
   "codemirror_mode": {
    "name": "ipython",
    "version": 3
   },
   "file_extension": ".py",
   "mimetype": "text/x-python",
   "name": "python",
   "nbconvert_exporter": "python",
   "pygments_lexer": "ipython3",
   "version": "3.10.6"
  },
  "orig_nbformat": 4
 },
 "nbformat": 4,
 "nbformat_minor": 2
}
