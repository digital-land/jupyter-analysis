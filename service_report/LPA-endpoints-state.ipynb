{
 "cells": [
  {
   "cell_type": "code",
   "execution_count": 1,
   "metadata": {},
   "outputs": [],
   "source": [
    "from datetime import datetime as dt\n",
    "from IPython.display import display\n",
    "import urllib\n",
    "import numpy as np\n",
    "import math\n",
    "import pandas as pd\n",
    "import ipywidgets as widgets\n",
    "import requests\n",
    "import urllib.parse"
   ]
  },
  {
   "cell_type": "code",
   "execution_count": 2,
   "metadata": {},
   "outputs": [
    {
     "data": {
      "application/vnd.jupyter.widget-view+json": {
       "model_id": "fc70ab707bcd48008d5f4bb5cc4e3b23",
       "version_major": 2,
       "version_minor": 0
      },
      "text/plain": [
       "interactive(children=(Dropdown(description='Select LPA:', options={'All': None, 'Newcastle': 'local-authority-…"
      ]
     },
     "metadata": {},
     "output_type": "display_data"
    },
    {
     "data": {
      "text/plain": [
       "<function __main__.update_dataframe(organisation)>"
      ]
     },
     "execution_count": 2,
     "metadata": {},
     "output_type": "execute_result"
    }
   ],
   "source": [
    "datasette_url = \"https://datasette.planning.data.gov.uk/\"\n",
    "\n",
    "result_df = pd.DataFrame()\n",
    "\n",
    "def update_dataframe(organisation):\n",
    "    global result_df  \n",
    "    if organisation:\n",
    "        query = f\" s.organisation = '{organisation}'\"\n",
    "    else:\n",
    "        query = f\" s.organisation LIKE '%'\"\n",
    "    params = urllib.parse.urlencode({\n",
    "        \"sql\": f\"\"\"\n",
    "        select\n",
    "          e.endpoint_url,\n",
    "          l.status,\n",
    "          s.collection,\n",
    "          group_concat(DISTINCT sp.pipeline) as pipelines,\n",
    "          s.organisation,\n",
    "          max(l.entry_date) maxentrydate,\n",
    "          max(e.entry_date) entrydate,\n",
    "          e.end_date,\n",
    "          o.name\n",
    "        from\n",
    "          log l\n",
    "          inner join source s on l.endpoint = s.endpoint\n",
    "          inner join organisation o on s.organisation=o.organisation\n",
    "          inner join endpoint e on l.endpoint = e.endpoint\n",
    "          inner join source_pipeline sp on s.source = sp.source\n",
    "        where\n",
    "           {query} and not collection=\"brownfield-land\"\n",
    "        group by\n",
    "          l.endpoint,\n",
    "          l.status\n",
    "        order by\n",
    "          l.endpoint,\n",
    "          s.collection,\n",
    "          maxentrydate desc\n",
    "        \"\"\",\n",
    "        \"_size\": \"max\"\n",
    "    })\n",
    "    \n",
    "    url = f\"{datasette_url}digital-land.csv?{params}\"\n",
    "    df = pd.read_csv(url)\n",
    "    result_df = df\n",
    "    return df\n",
    "\n",
    "global organisation_options    \n",
    "organisation_options = {\n",
    "    \"All\":None,\"Newcastle\": \"local-authority-eng:NET\",\"Medway\": \"local-authority-eng:MDW\",\"Lambeth\": \"local-authority-eng:LBH\",\n",
    "    \"Gloucester\": \"local-authority-eng:GLO\",\"Doncaster\": \"local-authority-eng:DNC\",\"Buckinghamshire\": \"local-authority-eng:BUC\",\"Epsom and Ewell\": \"local-authority-eng:EPS\",\n",
    "    \"Canterbury\": \"local-authority-eng:CAT\"\n",
    "    \n",
    "}\n",
    "global organisation_dropdown\n",
    "organisation_dropdown = widgets.Dropdown(\n",
    "    options=organisation_options,\n",
    "    description=\"Select LPA:\",\n",
    ")\n",
    "\n",
    "widgets.interact(update_dataframe, organisation=organisation_dropdown)\n",
    "initial_organisation = organisation_dropdown.value"
   ]
  },
  {
   "cell_type": "code",
   "execution_count": 3,
   "metadata": {},
   "outputs": [
    {
     "name": "stdin",
     "output_type": "stream",
     "text": [
      "Do you want to download the table with all endpoints? (yes/no):  \n"
     ]
    }
   ],
   "source": [
    "download = input(\"Do you want to download the table with all endpoints? (yes/no): \")\n",
    "\n",
    "if download.lower() == \"yes\":\n",
    "    result_df.to_csv(\"endpoints_with_all_status.csv\", index=False)\n",
    "    print(\"Query result downloaded as 'endpoints_with_all_status.csv'\") "
   ]
  },
  {
   "cell_type": "code",
   "execution_count": 8,
   "metadata": {},
   "outputs": [
    {
     "data": {
      "application/vnd.jupyter.widget-view+json": {
       "model_id": "57e06476d4c64969be4ca08d75a9d93c",
       "version_major": 2,
       "version_minor": 0
      },
      "text/plain": [
       "interactive(children=(Dropdown(description='Select LPA:', index=3, options={'All': None, 'Newcastle': 'local-a…"
      ]
     },
     "metadata": {},
     "output_type": "display_data"
    }
   ],
   "source": [
    "new_df = pd.DataFrame()\n",
    "\n",
    "def update_dataframe_latest_status(organisation):\n",
    "    global new_df\n",
    "    all_endpoints=update_dataframe(organisation)\n",
    "    new_df=all_endpoints.copy()\n",
    "    new_df['maxentrydate'] = pd.to_datetime(new_df['maxentrydate'])\n",
    "    new_df['last_status'] = None\n",
    "    new_df['last_updated_date'] = None\n",
    "    new_df['date_last_status_200'] = None\n",
    "    \n",
    "    for index, row in new_df.iterrows():\n",
    "        if index < len(new_df) - 1 and (row['status'] == 404 or row['status'] == 500 or pd.isna(row['status'])):\n",
    "            if row['endpoint_url'] == new_df.at[index + 1, 'endpoint_url']:\n",
    "                new_df.at[index, 'last_status'] = new_df.at[index + 1, 'status']\n",
    "                new_df.at[index, 'last_updated_date'] = new_df.at[index + 1, 'maxentrydate']   \n",
    "    \n",
    "    new_df.drop_duplicates(subset='endpoint_url', keep='first', inplace=True)\n",
    "    new_df.reset_index(drop=True, inplace=True)\n",
    "    for index, row in new_df.iterrows():\n",
    "        if row['last_status'] is not None:\n",
    "            if not math.isnan(row['last_status']):\n",
    "                if int(row['last_status']) != 200  or row['last_status'] is None:\n",
    "                    filtered_df = all_endpoints[(all_endpoints['endpoint_url'] == row['endpoint_url'] ) & (all_endpoints['status'] == 200)]\n",
    "                    new_df.at[index, 'date_last_status_200'] = filtered_df['maxentrydate'].values[0][:19]\n",
    "    return new_df\n",
    "\n",
    "widgets.interact(update_dataframe_latest_status, organisation=organisation_dropdown)\n",
    "initial_organisation = organisation_dropdown.value"
   ]
  },
  {
   "cell_type": "code",
   "execution_count": 5,
   "metadata": {},
   "outputs": [
    {
     "name": "stdin",
     "output_type": "stream",
     "text": [
      "Do you want to download the table with latest endpoints? (yes/no):  \n"
     ]
    }
   ],
   "source": [
    "download = input(\"Do you want to download the table with latest endpoints? (yes/no): \")\n",
    "\n",
    "if download.lower() == \"yes\":\n",
    "    new_df.to_csv(\"endpoints_with_latest_status.csv\", index=False)\n",
    "    print(\"Query result downloaded as 'endpoints_with_latest_status.csv'\")"
   ]
  },
  {
   "cell_type": "code",
   "execution_count": 9,
   "metadata": {},
   "outputs": [
    {
     "data": {
      "application/vnd.jupyter.widget-view+json": {
       "model_id": "f50bc5bf011b4cc8b1bd9f09bfd23c7e",
       "version_major": 2,
       "version_minor": 0
      },
      "text/plain": [
       "interactive(children=(Dropdown(description='Select LPA:', index=3, options={'All': None, 'Newcastle': 'local-a…"
      ]
     },
     "metadata": {},
     "output_type": "display_data"
    }
   ],
   "source": [
    "filtered_df = pd.DataFrame()\n",
    "\n",
    "def update_dataframe_erroring_endpoints(organisation):\n",
    "    global filtered_df\n",
    "    filtered_df=update_dataframe_latest_status(organisation)\n",
    "    filtered_df = filtered_df[filtered_df['status'] != 200]\n",
    "    filtered_df.reset_index(drop=True, inplace=True)\n",
    "    return filtered_df\n",
    "\n",
    "widgets.interact(update_dataframe_erroring_endpoints, organisation=organisation_dropdown)\n",
    "initial_organisation = organisation_dropdown.value"
   ]
  },
  {
   "cell_type": "code",
   "execution_count": 7,
   "metadata": {},
   "outputs": [
    {
     "name": "stdin",
     "output_type": "stream",
     "text": [
      "Do you want to download the table with erroring endpoints being collected till date? (yes/no):  \n"
     ]
    }
   ],
   "source": [
    "download = input(\"Do you want to download the table with erroring endpoints being collected till date? (yes/no): \")\n",
    "\n",
    "if download.lower() == \"yes\":\n",
    "    filtered_df.to_csv(\"endpoints_not_200.csv\", index=False)\n",
    "    print(\"Query result downloaded as 'endpoints_not_200.csv'\")"
   ]
  }
 ],
 "metadata": {
  "kernelspec": {
   "display_name": "Python 3 (ipykernel)",
   "language": "python",
   "name": "python3"
  },
  "language_info": {
   "codemirror_mode": {
    "name": "ipython",
    "version": 3
   },
   "file_extension": ".py",
   "mimetype": "text/x-python",
   "name": "python",
   "nbconvert_exporter": "python",
   "pygments_lexer": "ipython3",
   "version": "3.10.6"
  }
 },
 "nbformat": 4,
 "nbformat_minor": 4
}
