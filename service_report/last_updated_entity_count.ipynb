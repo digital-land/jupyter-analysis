{
 "cells": [
  {
   "cell_type": "code",
   "execution_count": null,
   "metadata": {},
   "outputs": [],
   "source": [
    "import pandas as pd\n",
    "import urllib"
   ]
  },
  {
   "cell_type": "markdown",
   "metadata": {},
   "source": [
    "This code accepts an input of a .csv file with the columns 'organisation', 'name' and 'start_date'. It will then find the most recent endpoints added for these organisations in the specified collection, and find the entity count for these endpoints."
   ]
  },
  {
   "cell_type": "code",
   "execution_count": null,
   "metadata": {},
   "outputs": [],
   "source": [
    "pd.set_option('display.max_colwidth', None)\n",
    "pd.set_option('display.max_rows', None)                                                                                                                                                 \n",
    "\n",
    "datasette_url = \"https://datasette.planning.data.gov.uk/\"\n",
    "\n",
    "collection_input = \"brownfield-land\"\n",
    "\n",
    "last_updated_file_input = \"brownfield-land-last-updated.csv\"\n",
    "\n",
    "last_updated_df = pd.read_csv(last_updated_file_input)\n",
    "\n",
    "endpoints_df = []\n",
    "for row in last_updated_df.itertuples():\n",
    "    params = urllib.parse.urlencode({\n",
    "        \"sql\": f\"\"\"\n",
    "        select x.organisation, x.endpoint, x.entry_date, x.resource\n",
    "        from (\n",
    "            select e.endpoint, e.entry_date, s.organisation, re.resource,\n",
    "                row_number() over (partition by s.organisation order by e.entry_date desc) as row_number\n",
    "            from endpoint e\n",
    "            inner join source s\n",
    "            on e.endpoint = s.endpoint\n",
    "            inner join resource_endpoint re\n",
    "            on e.endpoint = re.endpoint\n",
    "            where s.organisation = '{row.organisation}'\n",
    "            and s.collection = '{collection_input}'\n",
    "        ) x\n",
    "        where x.row_number=1\n",
    "        \"\"\",\n",
    "        \"_size\": \"max\"\n",
    "    })\n",
    "    url = f\"{datasette_url}digital-land.csv?{params}\"\n",
    "    df = pd.read_csv(url)\n",
    "    endpoints_df.append(df)\n",
    "endpoints_df = pd.concat(endpoints_df)"
   ]
  },
  {
   "cell_type": "code",
   "execution_count": null,
   "metadata": {},
   "outputs": [],
   "source": [
    "entity_counts_df = []\n",
    "for row in endpoints_df.itertuples():\n",
    "    params = urllib.parse.urlencode({\n",
    "        \"sql\": f\"\"\"\n",
    "        select resource, entity_count\n",
    "        from dataset_resource\n",
    "        where resource = '{row.resource}'\n",
    "        \"\"\",\n",
    "        \"_size\": \"max\"\n",
    "    })\n",
    "    url = f\"{datasette_url}{collection_input}.csv?{params}\"\n",
    "    df = pd.read_csv(url)\n",
    "    entity_counts_df.append(df)\n",
    "entity_counts_df = pd.concat(entity_counts_df)"
   ]
  },
  {
   "cell_type": "code",
   "execution_count": null,
   "metadata": {},
   "outputs": [],
   "source": [
    "output_df = pd.merge(endpoints_df, entity_counts_df, left_on=\"resource\", right_on=\"resource\")\n",
    "output_df = pd.merge(output_df, brownfield_last_updated_df, on=\"organisation\")\n",
    "output_df = output_df[[\"organisation\", \"name\", \"entity_count\", \"start_date\"]]\n",
    "\n",
    "output_df[\"start_date\"] = pd.to_datetime(output_df[\"start_date\"], dayfirst=True)\n",
    "output_df = output_df.sort_values(by=[\"start_date\"], ascending=True)\n",
    "\n",
    "output_df = output_df.drop_duplicates(ignore_index=True)\n",
    "\n",
    "display(output_df)\n",
    "output_df.to_csv(f\"{collection_input}-entity-count-last-updated.csv\", index=False)"
   ]
  }
 ],
 "metadata": {
  "kernelspec": {
   "display_name": ".venv",
   "language": "python",
   "name": "python3"
  },
  "language_info": {
   "codemirror_mode": {
    "name": "ipython",
    "version": 3
   },
   "file_extension": ".py",
   "mimetype": "text/x-python",
   "name": "python",
   "nbconvert_exporter": "python",
   "pygments_lexer": "ipython3",
   "version": "3.10.12"
  },
  "orig_nbformat": 4
 },
 "nbformat": 4,
 "nbformat_minor": 2
}
